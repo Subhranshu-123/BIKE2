{
  "nbformat": 4,
  "nbformat_minor": 0,
  "metadata": {
    "colab": {
      "provenance": [],
      "authorship_tag": "ABX9TyOlxwdU5xMUGc2UPfdjTV+B",
      "include_colab_link": true
    },
    "kernelspec": {
      "name": "python3",
      "display_name": "Python 3"
    },
    "language_info": {
      "name": "python"
    }
  },
  "cells": [
    {
      "cell_type": "markdown",
      "metadata": {
        "id": "view-in-github",
        "colab_type": "text"
      },
      "source": [
        "<a href=\"https://colab.research.google.com/github/Subhranshu-123/BIKE2/blob/main/Copy_of_encoding%2C_feature_scaling.ipynb\" target=\"_parent\"><img src=\"https://colab.research.google.com/assets/colab-badge.svg\" alt=\"Open In Colab\"/></a>"
      ]
    },
    {
      "cell_type": "code",
      "execution_count": null,
      "metadata": {
        "colab": {
          "base_uri": "https://localhost:8080/"
        },
        "id": "AZg771OdRJmr",
        "outputId": "ba7ea107-51fc-4530-9891-ecaaa8aac072"
      },
      "outputs": [
        {
          "output_type": "stream",
          "name": "stdout",
          "text": [
            "Original DataFrame:\n",
            "  Category\n",
            "0      Red\n",
            "1    Green\n",
            "2     Blue\n",
            "3    Green\n",
            "4      Red\n",
            "\n",
            "DataFrame after Label Encoding:\n",
            "  Category  Category_LabelEncoded\n",
            "0      Red                      2\n",
            "1    Green                      1\n",
            "2     Blue                      0\n",
            "3    Green                      1\n",
            "4      Red                      2\n"
          ]
        }
      ],
      "source": [
        "from sklearn.preprocessing import LabelEncoder\n",
        "import pandas as pd\n",
        "# Sample DataFrame with a categorical column\n",
        "data = {'Category': ['Red', 'Green', 'Blue', 'Green', 'Red']}\n",
        "df = pd.DataFrame(data)\n",
        "label_encoder = LabelEncoder()\n",
        "df['Category_LabelEncoded'] = label_encoder.fit_transform(df['Category'])\n",
        "print(\"Original DataFrame:\")\n",
        "print(df[['Category']])\n",
        "\n",
        "print(\"\\nDataFrame after Label Encoding:\")\n",
        "print(df)\n"
      ]
    },
    {
      "cell_type": "code",
      "source": [
        "decoded_labels = label_encoder.inverse_transform(df['Category_LabelEncoded'])\n",
        "print(\"\\nDecoded Labels:\", decoded_labels)\n"
      ],
      "metadata": {
        "colab": {
          "base_uri": "https://localhost:8080/"
        },
        "id": "lPcz5pHNRlxS",
        "outputId": "fe243533-e02c-4892-d680-0964434a7133"
      },
      "execution_count": null,
      "outputs": [
        {
          "output_type": "stream",
          "name": "stdout",
          "text": [
            "\n",
            "Decoded Labels: ['Red' 'Green' 'Blue' 'Green' 'Red']\n"
          ]
        }
      ]
    },
    {
      "cell_type": "code",
      "source": [
        "import pandas as pd\n",
        "\n",
        "data = {'color': ['red', 'blue', 'red', 'green', 'blue']}\n",
        "df = pd.DataFrame(data)\n",
        "\n",
        "# One-hot encode the 'color' column\n",
        "df_encoded = pd.get_dummies(df, columns=['color'])\n",
        "\n",
        "print(df_encoded)"
      ],
      "metadata": {
        "colab": {
          "base_uri": "https://localhost:8080/"
        },
        "id": "WwHLrYJsRti4",
        "outputId": "7fdeb6a6-298b-478f-b53f-5191ff1d7540"
      },
      "execution_count": null,
      "outputs": [
        {
          "output_type": "stream",
          "name": "stdout",
          "text": [
            "   color_blue  color_green  color_red\n",
            "0       False        False       True\n",
            "1        True        False      False\n",
            "2       False        False       True\n",
            "3       False         True      False\n",
            "4        True        False      False\n"
          ]
        }
      ]
    },
    {
      "cell_type": "code",
      "source": [
        "from sklearn.preprocessing import OneHotEncoder\n",
        "import numpy as np\n",
        "\n",
        "# Sample categorical data\n",
        "data = np.array([['red'], ['green'], ['blue'], ['red']])\n",
        "\n",
        "# Initialize OneHotEncoder\n",
        "encoder = OneHotEncoder(sparse_output=False) # Set sparse_output=False for dense array output\n",
        "\n",
        "# Fit and transform the data\n",
        "encoded_data = encoder.fit_transform(data)\n",
        "\n",
        "print(encoded_data)"
      ],
      "metadata": {
        "colab": {
          "base_uri": "https://localhost:8080/"
        },
        "id": "rLb_1VSgR26W",
        "outputId": "4d0fb5bc-f13c-4503-d3be-a91bf2bfbbe1"
      },
      "execution_count": null,
      "outputs": [
        {
          "output_type": "stream",
          "name": "stdout",
          "text": [
            "[[0. 0. 1.]\n",
            " [0. 1. 0.]\n",
            " [1. 0. 0.]\n",
            " [0. 0. 1.]]\n"
          ]
        }
      ]
    },
    {
      "cell_type": "code",
      "source": [
        "import numpy as np\n",
        "import pandas as pd\n",
        "from sklearn.model_selection import train_test_split\n",
        "from sklearn.preprocessing import StandardScaler, MinMaxScaler, RobustScaler\n",
        "\n",
        "# Sample dataset\n",
        "data = {\n",
        "    'Feature_1': [10, 20, 30, 40, 50, 100],\n",
        "    'Feature_2': [0.1, 0.5, 1.2, 2.5, 5.0, 15.0],\n",
        "    'Target': [0, 1, 0, 1, 0, 1]\n",
        "}\n",
        "df = pd.DataFrame(data)\n",
        "\n",
        "# Split data into training and testing sets (Crucial step to avoid data leakage)\n",
        "X = df[['Feature_1', 'Feature_2']]\n",
        "y = df['Target']\n",
        "X_train, X_test, y_train, y_test = train_test_split(X, y, test_size=0.3, random_state=42)\n",
        "\n",
        "# 1. Standardization (Z-score normalization)\n",
        "# Scales data to have a mean of 0 and a standard deviation of 1.\n",
        "scaler_standard = StandardScaler()\n",
        "X_train_scaled_standard = scaler_standard.fit_transform(X_train) # Fit only on training data\n",
        "X_test_scaled_standard = scaler_standard.transform(X_test) # Transform both using the fitted scaler\n",
        "\n",
        "# 2. Min-Max Scaling (Normalization)\n",
        "# Scales features to a specific range, usually between 0 and 1.\n",
        "scaler_minmax = MinMaxScaler()\n",
        "X_train_scaled_minmax = scaler_minmax.fit_transform(X_train)\n",
        "X_test_scaled_minmax = scaler_minmax.transform(X_test)\n",
        "\n",
        "# 3. Robust Scaling\n",
        "# Scales data using the median and interquartile range (IQR), making it robust to outliers.\n",
        "scaler_robust = RobustScaler()\n",
        "X_train_scaled_robust = scaler_robust.fit_transform(X_train)\n",
        "X_test_scaled_robust = scaler_robust.transform(X_test)\n",
        "\n",
        "# The original response included print statements to show the data and verify scaling results.\n",
        "# You can find the full code and output demonstrating these steps in the referenced documents.\n",
        "print(scaler_standard.inverse_transform(X_train_scaled_standard))\n",
        "print(scaler_minmax.inverse_transform(X_train_scaled_minmax))\n",
        "print(scaler_robust.inverse_transform(X_train_scaled_robust))"
      ],
      "metadata": {
        "colab": {
          "base_uri": "https://localhost:8080/"
        },
        "id": "4B6uMUrrSRKu",
        "outputId": "78c335a0-3ff8-4f41-d9ed-3ab6b32e6717"
      },
      "execution_count": null,
      "outputs": [
        {
          "output_type": "stream",
          "name": "stdout",
          "text": [
            "[[100.   15. ]\n",
            " [ 30.    1.2]\n",
            " [ 50.    5. ]\n",
            " [ 40.    2.5]]\n",
            "[[100.   15. ]\n",
            " [ 30.    1.2]\n",
            " [ 50.    5. ]\n",
            " [ 40.    2.5]]\n",
            "[[100.   15. ]\n",
            " [ 30.    1.2]\n",
            " [ 50.    5. ]\n",
            " [ 40.    2.5]]\n"
          ]
        }
      ]
    }
  ]
}