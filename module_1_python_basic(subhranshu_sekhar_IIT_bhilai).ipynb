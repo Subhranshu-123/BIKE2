{
  "nbformat": 4,
  "nbformat_minor": 0,
  "metadata": {
    "colab": {
      "provenance": [],
      "authorship_tag": "ABX9TyNQ7+rFQ0XKer7KKZqcr413",
      "include_colab_link": true
    },
    "kernelspec": {
      "name": "python3",
      "display_name": "Python 3"
    },
    "language_info": {
      "name": "python"
    }
  },
  "cells": [
    {
      "cell_type": "markdown",
      "metadata": {
        "id": "view-in-github",
        "colab_type": "text"
      },
      "source": [
        "<a href=\"https://colab.research.google.com/github/Subhranshu-123/BIKE2/blob/main/module_1_python_basic(subhranshu_sekhar_IIT_bhilai).ipynb\" target=\"_parent\"><img src=\"https://colab.research.google.com/assets/colab-badge.svg\" alt=\"Open In Colab\"/></a>"
      ]
    },
    {
      "cell_type": "code",
      "execution_count": null,
      "metadata": {
        "colab": {
          "base_uri": "https://localhost:8080/"
        },
        "id": "_6-sE_EUO4YY",
        "outputId": "b9f2d338-efe9-4ddc-f672-5afc73289f6e"
      },
      "outputs": [
        {
          "output_type": "stream",
          "name": "stdout",
          "text": [
            "hello,world\n"
          ]
        }
      ],
      "source": [
        "#demonstrate a function with a positional argument\n",
        "print('hello,world')"
      ]
    },
    {
      "cell_type": "code",
      "source": [],
      "metadata": {
        "id": "nFChWm1MLQGk"
      },
      "execution_count": null,
      "outputs": []
    },
    {
      "cell_type": "code",
      "source": [],
      "metadata": {
        "id": "6SCjDfpF12sj"
      },
      "execution_count": null,
      "outputs": []
    },
    {
      "cell_type": "code",
      "source": [
        "#demonstrate a function with a positional argument and return value\n",
        "name=input('what is your name ?')\n",
        "print('hello',name)"
      ],
      "metadata": {
        "colab": {
          "base_uri": "https://localhost:8080/"
        },
        "id": "OBXfheXxPXxf",
        "outputId": "567af121-2f8e-49aa-a9fd-4f09df24f96f"
      },
      "execution_count": null,
      "outputs": [
        {
          "output_type": "stream",
          "name": "stdout",
          "text": [
            "what is your name ?sekhar\n",
            "hello sekhar\n"
          ]
        }
      ]
    },
    {
      "cell_type": "code",
      "source": [
        "name=input('what is your name ?')\n",
        "print('hello' + name)"
      ],
      "metadata": {
        "colab": {
          "base_uri": "https://localhost:8080/"
        },
        "id": "QeQHPyyHQDz0",
        "outputId": "8379cf14-1919-4719-ebfd-a98cbd52d0b5"
      },
      "execution_count": null,
      "outputs": [
        {
          "output_type": "stream",
          "name": "stdout",
          "text": [
            "what is your name ?sekhar\n",
            "hellosekhar\n"
          ]
        }
      ]
    },
    {
      "cell_type": "code",
      "source": [
        "name=input('what is your name ?')\n",
        "print('hello',)\n",
        "print(name)"
      ],
      "metadata": {
        "colab": {
          "base_uri": "https://localhost:8080/"
        },
        "id": "nll_4g8_Qd_Z",
        "outputId": "331b215e-a255-4c74-c040-0b69f081ada9"
      },
      "execution_count": null,
      "outputs": [
        {
          "output_type": "stream",
          "name": "stdout",
          "text": [
            "what is your name ?sekhar\n",
            "hello\n",
            "sekhar\n"
          ]
        }
      ]
    },
    {
      "cell_type": "code",
      "source": [
        "name=input('what is your name ?')\n",
        "print('hello', sep=\"\")\n",
        "print(name)"
      ],
      "metadata": {
        "colab": {
          "base_uri": "https://localhost:8080/"
        },
        "id": "t69u1eC9Q14C",
        "outputId": "31cadde3-7627-447e-f0cd-304fee8bb772"
      },
      "execution_count": null,
      "outputs": [
        {
          "output_type": "stream",
          "name": "stdout",
          "text": [
            "what is your name ?sekhar\n",
            "hello\n",
            "sekhar\n"
          ]
        }
      ]
    },
    {
      "cell_type": "code",
      "source": [
        "name=input('what is your name ?')\n",
        "print('hello,', name,sep=\"\",end=\"\")\n"
      ],
      "metadata": {
        "colab": {
          "base_uri": "https://localhost:8080/"
        },
        "id": "jxa3xMr5RLNV",
        "outputId": "96c9e546-ca1b-4c8b-ec19-ebe26118760a"
      },
      "execution_count": null,
      "outputs": [
        {
          "output_type": "stream",
          "name": "stdout",
          "text": [
            "what is your name ?sekhar\n",
            "hello,sekhar"
          ]
        }
      ]
    },
    {
      "cell_type": "code",
      "source": [
        "name=input('what is your name ?')\n",
        "print('hello,'+name)\n"
      ],
      "metadata": {
        "colab": {
          "base_uri": "https://localhost:8080/"
        },
        "id": "CtN-D2IDRzFv",
        "outputId": "59a14667-933b-4413-a794-f907c620127d"
      },
      "execution_count": null,
      "outputs": [
        {
          "output_type": "stream",
          "name": "stdout",
          "text": [
            "what is your name ?sekhar\n",
            "hello,sekhar\n"
          ]
        }
      ]
    },
    {
      "cell_type": "code",
      "source": [
        "name=input('what is your name ?').strip()\n",
        "print(f\"hello,{name}\")\n"
      ],
      "metadata": {
        "colab": {
          "base_uri": "https://localhost:8080/"
        },
        "id": "oa1GfwxGSMJ3",
        "outputId": "68415656-cf7d-46ad-ea30-be02852b3a65"
      },
      "execution_count": null,
      "outputs": [
        {
          "output_type": "stream",
          "name": "stdout",
          "text": [
            "what is your name ?sekhar\n",
            "hello,sekhar\n"
          ]
        }
      ]
    },
    {
      "cell_type": "code",
      "source": [
        "name=input('what is your name ?').strip().title()\n",
        "print(f\"hello,{name}\")"
      ],
      "metadata": {
        "colab": {
          "base_uri": "https://localhost:8080/"
        },
        "id": "D-VdP4bEUDvo",
        "outputId": "a00971c0-aae3-4e93-e0e7-e7066dc1ac83"
      },
      "execution_count": null,
      "outputs": [
        {
          "output_type": "stream",
          "name": "stdout",
          "text": [
            "what is your name ?sekhar\n",
            "hello,Sekhar\n"
          ]
        }
      ]
    },
    {
      "cell_type": "code",
      "source": [
        "name=input('what is your name ?').strip().upper()\n",
        "print(f\"hello,{name}\")"
      ],
      "metadata": {
        "colab": {
          "base_uri": "https://localhost:8080/"
        },
        "id": "aOJgalUQUQCW",
        "outputId": "e751acc6-d522-4253-c49e-90a142fcf578"
      },
      "execution_count": null,
      "outputs": [
        {
          "output_type": "stream",
          "name": "stdout",
          "text": [
            "what is your name ?sekhar\n",
            "hello,SEKHAR\n"
          ]
        }
      ]
    },
    {
      "cell_type": "code",
      "source": [
        "# str function\n",
        "name=input('what is your name ?')\n",
        "first,last=name.split(\" \")\n",
        "first=first.title()\n",
        "last=last.upper()\n",
        "print(f'hello,{first}')\n",
        "print(f'hello,{last}')"
      ],
      "metadata": {
        "colab": {
          "base_uri": "https://localhost:8080/"
        },
        "id": "lLDx2OpoUZPd",
        "outputId": "b2077cbd-208e-4907-efbf-f73cddf7989f"
      },
      "execution_count": null,
      "outputs": [
        {
          "output_type": "stream",
          "name": "stdout",
          "text": [
            "what is your name ?subhranshu sekhar\n",
            "hello,Subhranshu\n",
            "hello,SEKHAR\n"
          ]
        }
      ]
    },
    {
      "cell_type": "code",
      "source": [
        "# demonstrate addition\n",
        "x=1\n",
        "y=2\n",
        "print(x+y)"
      ],
      "metadata": {
        "colab": {
          "base_uri": "https://localhost:8080/"
        },
        "id": "k2LEZRS0Vsa7",
        "outputId": "f925605c-a6f3-4150-fa24-00d7d760f7d3"
      },
      "execution_count": null,
      "outputs": [
        {
          "output_type": "stream",
          "name": "stdout",
          "text": [
            "3\n"
          ]
        }
      ]
    },
    {
      "cell_type": "code",
      "source": [
        "print(y-x)"
      ],
      "metadata": {
        "colab": {
          "base_uri": "https://localhost:8080/"
        },
        "id": "Z6YXNOhyV5IE",
        "outputId": "6331bebe-e663-4f8e-bc61-190442333494"
      },
      "execution_count": null,
      "outputs": [
        {
          "output_type": "stream",
          "name": "stdout",
          "text": [
            "1\n"
          ]
        }
      ]
    },
    {
      "cell_type": "code",
      "source": [
        "print(x*y)"
      ],
      "metadata": {
        "colab": {
          "base_uri": "https://localhost:8080/"
        },
        "id": "5MID7c0xV9O9",
        "outputId": "8f0a5b29-6a10-4b18-b3d7-5214bee7c43e"
      },
      "execution_count": null,
      "outputs": [
        {
          "output_type": "stream",
          "name": "stdout",
          "text": [
            "2\n"
          ]
        }
      ]
    },
    {
      "cell_type": "code",
      "source": [
        "print(x/y)"
      ],
      "metadata": {
        "colab": {
          "base_uri": "https://localhost:8080/"
        },
        "id": "dsXge4QJWBJd",
        "outputId": "ca0946a6-d2ff-4424-936d-b7da909f75c8"
      },
      "execution_count": null,
      "outputs": [
        {
          "output_type": "stream",
          "name": "stdout",
          "text": [
            "0.5\n"
          ]
        }
      ]
    },
    {
      "cell_type": "code",
      "source": [
        "print(x**y)"
      ],
      "metadata": {
        "colab": {
          "base_uri": "https://localhost:8080/"
        },
        "id": "GPIb_9-OWHQS",
        "outputId": "3cfb4851-8ecd-489a-bd1d-9d2636ead872"
      },
      "execution_count": null,
      "outputs": [
        {
          "output_type": "stream",
          "name": "stdout",
          "text": [
            "1\n"
          ]
        }
      ]
    },
    {
      "cell_type": "code",
      "source": [
        "print(x//y)"
      ],
      "metadata": {
        "colab": {
          "base_uri": "https://localhost:8080/"
        },
        "id": "M-uDWM_3WL3M",
        "outputId": "2a5c1760-2cfa-4b8f-86a5-a495b6f13034"
      },
      "execution_count": null,
      "outputs": [
        {
          "output_type": "stream",
          "name": "stdout",
          "text": [
            "0\n"
          ]
        }
      ]
    },
    {
      "cell_type": "code",
      "source": [
        "\n",
        "#demonstrate (unintented) concantenation of string\n",
        "x=input('what is your name ?')\n",
        "y=input('what is my name ?')\n",
        "#print sum\n",
        "print(x+y, sep= \" \")"
      ],
      "metadata": {
        "colab": {
          "base_uri": "https://localhost:8080/"
        },
        "id": "DRDbrEBRWWmr",
        "outputId": "f3deecb2-84e1-4496-e093-21e01be81afd"
      },
      "execution_count": null,
      "outputs": [
        {
          "output_type": "stream",
          "name": "stdout",
          "text": [
            "what is your name ?subhranshu\n",
            "what is my name ?sekhar\n",
            "subhranshusekhar\n"
          ]
        }
      ]
    },
    {
      "cell_type": "code",
      "source": [
        "#demonstrate (unintented) concantenation of string\n",
        "x=input('what is your name ?')\n",
        "y=input('what is my name ?')\n",
        "#print sum\n",
        "print(x+y, sep= \" \")"
      ],
      "metadata": {
        "colab": {
          "base_uri": "https://localhost:8080/"
        },
        "id": "PngiQanyXUgo",
        "outputId": "cd3fac81-9317-4f2c-9b00-904e1150ecfb"
      },
      "execution_count": null,
      "outputs": [
        {
          "output_type": "stream",
          "name": "stdout",
          "text": [
            "what is your name ?1\n",
            "what is my name ?2\n",
            "12\n"
          ]
        }
      ]
    },
    {
      "cell_type": "code",
      "source": [
        "#demonstrate  conversion  of string to int\n",
        "x=input('what is your name ?')\n",
        "y=input('what is my name ?')\n",
        "#print sum\n",
        "z=int(x)+int(y)\n",
        "print(z, sep= \" \")"
      ],
      "metadata": {
        "colab": {
          "base_uri": "https://localhost:8080/"
        },
        "id": "BCDwrwqLXgxO",
        "outputId": "f89345a3-c056-4c91-a128-41f37e2752df"
      },
      "execution_count": null,
      "outputs": [
        {
          "output_type": "stream",
          "name": "stdout",
          "text": [
            "what is your name ?1\n",
            "what is my name ?2\n",
            "3\n"
          ]
        }
      ]
    },
    {
      "cell_type": "code",
      "source": [],
      "metadata": {
        "id": "alflYSSGYYp6"
      },
      "execution_count": null,
      "outputs": []
    },
    {
      "cell_type": "code",
      "source": [
        "#demonstrate nesting concantenation of string\n",
        "x=int(input('what is your name ?'))\n",
        "y=int(input('what is my name ?'))\n",
        "#print sum\n",
        "z=x+y\n",
        "print(z, sep= \" \")"
      ],
      "metadata": {
        "colab": {
          "base_uri": "https://localhost:8080/"
        },
        "id": "CDb5CCrhXxqn",
        "outputId": "fc15fcca-4022-43a7-8c82-609be78cf4f2"
      },
      "execution_count": null,
      "outputs": [
        {
          "output_type": "stream",
          "name": "stdout",
          "text": [
            "what is your name ?1\n",
            "what is my name ?2\n",
            "3\n"
          ]
        }
      ]
    },
    {
      "cell_type": "code",
      "source": [],
      "metadata": {
        "id": "t--dndnaYzIk"
      },
      "execution_count": null,
      "outputs": []
    },
    {
      "cell_type": "code",
      "source": [
        "#demonstrate  conversion  of string to float\n",
        "x=input('what is your name ?')\n",
        "y=input('what is my name ?')\n",
        "#print sum\n",
        "z=float(x)+float(y)\n",
        "print(z, sep= \" \")"
      ],
      "metadata": {
        "colab": {
          "base_uri": "https://localhost:8080/"
        },
        "id": "_3PLcMUfYbyM",
        "outputId": "f972c2c5-0479-4f24-e3d4-e08d5d42eb57"
      },
      "execution_count": null,
      "outputs": [
        {
          "output_type": "stream",
          "name": "stdout",
          "text": [
            "what is your name ?1.0\n",
            "what is my name ?2.2\n",
            "3.2\n"
          ]
        }
      ]
    },
    {
      "cell_type": "code",
      "source": [
        "#demonstrate nesting concantenation of string\n",
        "x=float(input('what is your name ?'))\n",
        "y=float(input('what is my name ?'))\n",
        "#print sum\n",
        "z=x+y\n",
        "print(z, sep= \" \")\n"
      ],
      "metadata": {
        "colab": {
          "base_uri": "https://localhost:8080/"
        },
        "id": "f4hK8zIUY29n",
        "outputId": "b7d7b051-d947-425d-8de1-33f39194c962"
      },
      "execution_count": null,
      "outputs": [
        {
          "output_type": "stream",
          "name": "stdout",
          "text": [
            "what is your name ?2.0\n",
            "what is my name ?1.2\n",
            "3.2\n"
          ]
        }
      ]
    },
    {
      "cell_type": "code",
      "source": [
        "#demonstrate nesting concantenation of string\n",
        "x=float(input('what is your name ?'))\n",
        "y=float(input('what is my name ?'))\n",
        "#print sum\n",
        "z=x+y\n",
        "print(round(z))"
      ],
      "metadata": {
        "colab": {
          "base_uri": "https://localhost:8080/"
        },
        "id": "PUWdfENBZKOX",
        "outputId": "81a5116c-5280-4a1f-e52a-c786fa76e8c7"
      },
      "execution_count": null,
      "outputs": [
        {
          "output_type": "stream",
          "name": "stdout",
          "text": [
            "what is your name ?22\n",
            "what is my name ?3.56666\n",
            "26\n"
          ]
        }
      ]
    },
    {
      "cell_type": "code",
      "source": [
        "#demonstrate nesting concantenation of string\n",
        "x=float(input('what is your name ?'))\n",
        "y=float(input('what is my name ?'))\n",
        "#print sum\n",
        "z=x+y\n",
        "print(f'{z:,.2f}')"
      ],
      "metadata": {
        "colab": {
          "base_uri": "https://localhost:8080/"
        },
        "id": "Z3gah6YUZnJo",
        "outputId": "f1ce9845-54da-4c8c-a549-602e0756b515"
      },
      "execution_count": null,
      "outputs": [
        {
          "output_type": "stream",
          "name": "stdout",
          "text": [
            "what is your name ?9.8888\n",
            "what is my name ?7.7777\n",
            "17.67\n"
          ]
        }
      ]
    },
    {
      "cell_type": "code",
      "source": [
        "#demonstrate nesting concantenation of string\n",
        "x=float(input('what is your name ?'))\n",
        "y=float(input('what is my name ?'))\n",
        "#print sum\n",
        "z=x/y\n",
        "print(round(z),2)"
      ],
      "metadata": {
        "colab": {
          "base_uri": "https://localhost:8080/"
        },
        "id": "LJdhPTSfasGf",
        "outputId": "a3eb8e8f-98d5-424a-9529-01e320c0301e"
      },
      "execution_count": null,
      "outputs": [
        {
          "output_type": "stream",
          "name": "stdout",
          "text": [
            "what is your name ?3.4444\n",
            "what is my name ?6.777\n",
            "1 2\n"
          ]
        }
      ]
    },
    {
      "cell_type": "code",
      "source": [
        "#define a function\n",
        "def hello ():\n",
        "  print('hello')\n",
        "name= input('what is your name ?')\n",
        "# call a function\n",
        "hello()\n",
        "print(name)"
      ],
      "metadata": {
        "colab": {
          "base_uri": "https://localhost:8080/"
        },
        "id": "5vxAlzUEbDVy",
        "outputId": "6847e4fa-8e7d-4a9c-f3d3-b313b7b7db2b"
      },
      "execution_count": null,
      "outputs": [
        {
          "output_type": "stream",
          "name": "stdout",
          "text": [
            "what is your name ?sekhar\n",
            "hello\n",
            "sekhar\n"
          ]
        }
      ]
    },
    {
      "cell_type": "code",
      "source": [
        "# demonstrate a function with a parameter\n",
        "def hello(to):\n",
        "  print(\"hello,\",to)\n",
        "name= input('what is your name')\n",
        "hello(name)"
      ],
      "metadata": {
        "colab": {
          "base_uri": "https://localhost:8080/"
        },
        "id": "MwBNkdiPb-aZ",
        "outputId": "848cd809-7583-4ff3-ba14-e77601976360"
      },
      "execution_count": null,
      "outputs": [
        {
          "output_type": "stream",
          "name": "stdout",
          "text": [
            "what is your namesekhar\n",
            "hello, sekhar\n"
          ]
        }
      ]
    },
    {
      "cell_type": "code",
      "source": [
        "#\\ demonstrate a function with a parameter with  a default value\n",
        "def hello(to='world'):\n",
        "  print(\"hello,\",to)\n",
        "hello()\n",
        "name= input('what is your name')\n",
        "hello(name)"
      ],
      "metadata": {
        "colab": {
          "base_uri": "https://localhost:8080/"
        },
        "id": "ASBcUmfFcxEg",
        "outputId": "b57a60db-ba90-4c2c-f162-91a529e7ece3"
      },
      "execution_count": null,
      "outputs": [
        {
          "output_type": "stream",
          "name": "stdout",
          "text": [
            "hello, world\n",
            "what is your namesekhar\n",
            "hello, sekhar\n"
          ]
        }
      ]
    },
    {
      "cell_type": "code",
      "source": [
        "#define a main function\n",
        "def main():\n",
        "  name=input('what is your name ?')\n",
        "  hello(name)\n",
        "def hello(to='world'):\n",
        "  print('hello ,',to)\n",
        "main()"
      ],
      "metadata": {
        "colab": {
          "base_uri": "https://localhost:8080/"
        },
        "id": "A55Ew_k4dfPi",
        "outputId": "22187fc6-3454-43d1-95d5-94b100fa20b9"
      },
      "execution_count": null,
      "outputs": [
        {
          "output_type": "stream",
          "name": "stdout",
          "text": [
            "what is your name ?sekhar\n",
            "hello , sekhar\n"
          ]
        }
      ]
    },
    {
      "cell_type": "code",
      "source": [
        "#define a main function\n",
        "def main():\n",
        "  name=input('what is your name ?')\n",
        "  hello(name)\n",
        "def hello(to='world'):\n",
        "  print('hello ,',to)\n",
        "if __name__  ==  \"__main__\":\n",
        "   main()"
      ],
      "metadata": {
        "colab": {
          "base_uri": "https://localhost:8080/"
        },
        "id": "VQklcprihP6O",
        "outputId": "09f3f281-60d2-4b53-aa85-29b9801d32c6"
      },
      "execution_count": null,
      "outputs": [
        {
          "output_type": "stream",
          "name": "stdout",
          "text": [
            "what is your name ?sekhar\n",
            "hello , sekhar\n"
          ]
        }
      ]
    },
    {
      "cell_type": "code",
      "source": [
        "#demonstrate a function with return value\n",
        "def main():\n",
        "  x=int(input('what is x?'))\n",
        "  print('x square is',square(x))\n",
        "def square(n):\n",
        "  return n*n\n",
        "main()\n"
      ],
      "metadata": {
        "colab": {
          "base_uri": "https://localhost:8080/"
        },
        "id": "OorF1JxQi7AD",
        "outputId": "dab8b734-02ba-4903-8aef-4ad1a730f7c8"
      },
      "execution_count": null,
      "outputs": [
        {
          "output_type": "stream",
          "name": "stdout",
          "text": [
            "what is x?5\n",
            "x square is 25\n"
          ]
        }
      ]
    },
    {
      "cell_type": "code",
      "source": [
        "# demonstrate conditionals\n",
        "x=int(input('what is x'))\n",
        "y =int(input('what is y'))\n",
        "if x>y :\n",
        "  print('x is greater than y')\n",
        "if x<y :\n",
        "  print('x is less than y')\n",
        "if x==y :\n",
        "  print ('x is equal to y')"
      ],
      "metadata": {
        "colab": {
          "base_uri": "https://localhost:8080/"
        },
        "id": "Pa4jyb8N2YAZ",
        "outputId": "e1682112-5402-4842-fb5c-947af3c22424"
      },
      "execution_count": null,
      "outputs": [
        {
          "output_type": "stream",
          "name": "stdout",
          "text": [
            "what is x5\n",
            "what is y8\n",
            "x is less than y\n"
          ]
        }
      ]
    },
    {
      "cell_type": "code",
      "source": [
        "# demonstrate conditionals\n",
        "x=int(input('what is x'))\n",
        "y =int(input('what is y'))\n",
        "if x>y :\n",
        "  print('x is greater than y')\n",
        "if x<y :\n",
        "  print('x is less than y')\n",
        "if x==y :\n",
        "  print ('x is equal to y')"
      ],
      "metadata": {
        "colab": {
          "base_uri": "https://localhost:8080/"
        },
        "id": "BQSWo4ks3O4h",
        "outputId": "c9989184-a619-4281-9bd2-777a9bb7a86b"
      },
      "execution_count": null,
      "outputs": [
        {
          "output_type": "stream",
          "name": "stdout",
          "text": [
            "what is x5\n",
            "what is y3\n",
            "x is greater than y\n"
          ]
        }
      ]
    },
    {
      "cell_type": "code",
      "source": [
        "# demonstrate conditionals\n",
        "x=int(input('what is x'))\n",
        "y =int(input('what is y'))\n",
        "if x>y :\n",
        "  print('x is greater than y')\n",
        "if x<y :\n",
        "  print('x is less than y')\n",
        "if x==y :\n",
        "  print ('x is equal to y')"
      ],
      "metadata": {
        "colab": {
          "base_uri": "https://localhost:8080/"
        },
        "id": "QQ-2Ai_e3QQx",
        "outputId": "aa796c3c-c679-44b6-bead-26a71f59dea3"
      },
      "execution_count": null,
      "outputs": [
        {
          "output_type": "stream",
          "name": "stdout",
          "text": [
            "what is x5\n",
            "what is y5\n",
            "x is equal to y\n"
          ]
        }
      ]
    },
    {
      "cell_type": "code",
      "source": [
        "# demonstrate mutually exclusive events(events that can not occur at the same time)\n",
        "# demonstrate conditionals\n",
        "x=int(input('what is x'))\n",
        "y =int(input('what is y'))\n",
        "if x>y :\n",
        "  print('x is greater than y')\n",
        "elif x<y :\n",
        "  print('x is less than y')\n",
        "elif x==y :\n",
        "  print ('x is equal to y')"
      ],
      "metadata": {
        "colab": {
          "base_uri": "https://localhost:8080/"
        },
        "id": "yuFyvpKk3lZE",
        "outputId": "f998b9b9-d88a-41f4-f14c-7d4408cf59f5"
      },
      "execution_count": null,
      "outputs": [
        {
          "output_type": "stream",
          "name": "stdout",
          "text": [
            "what is x5\n",
            "what is y8\n",
            "x is less than y\n"
          ]
        }
      ]
    },
    {
      "cell_type": "code",
      "source": [
        "# demonstrate conditionals(mutually exclusive)\n",
        "x=int(input('what is x'))\n",
        "y =int(input('what is y'))\n",
        "if x>y :\n",
        "  print('x is greater than y')\n",
        "elif x<y :\n",
        "  print('x is less than y')\n",
        "elif x==y :\n",
        "  print ('x is equal to y')"
      ],
      "metadata": {
        "colab": {
          "base_uri": "https://localhost:8080/"
        },
        "id": "x7g4Bnal4Bfv",
        "outputId": "e3191ebc-bb46-4644-b9b8-f5e1ea800156"
      },
      "execution_count": null,
      "outputs": [
        {
          "output_type": "stream",
          "name": "stdout",
          "text": [
            "what is x5\n",
            "what is y3\n",
            "x is greater than y\n"
          ]
        }
      ]
    },
    {
      "cell_type": "code",
      "source": [
        "# demonstrate conditionals(mutually exclusive)\n",
        "x=int(input('what is x'))\n",
        "y =int(input('what is y'))\n",
        "if x>y :\n",
        "  print('x is greater than y')\n",
        "if x<y :\n",
        "  print('x is less than y')\n",
        "if x==y :\n",
        "  print ('x is equal to y')"
      ],
      "metadata": {
        "colab": {
          "base_uri": "https://localhost:8080/"
        },
        "id": "xkQhOXfc4Hps",
        "outputId": "eb09fa80-25c5-4516-8e6b-255980f3e065"
      },
      "execution_count": null,
      "outputs": [
        {
          "output_type": "stream",
          "name": "stdout",
          "text": [
            "what is x5\n",
            "what is y5\n",
            "x is equal to y\n"
          ]
        }
      ]
    },
    {
      "cell_type": "code",
      "source": [
        "# demonstrate fewer  conditionals\n",
        "x=int(input('what is x'))\n",
        "y =int(input('what is y'))\n",
        "if x>y :\n",
        "  print('x is greater than y')\n",
        "elif x<y :\n",
        "  print('x is less than y')\n",
        "else :\n",
        "  print ('x is equal to y')"
      ],
      "metadata": {
        "colab": {
          "base_uri": "https://localhost:8080/"
        },
        "id": "60s8GbtQ4cqo",
        "outputId": "157595e9-b87f-403b-ba4e-e8eddcfc2a67"
      },
      "execution_count": null,
      "outputs": [
        {
          "output_type": "stream",
          "name": "stdout",
          "text": [
            "what is x5\n",
            "what is y8\n",
            "x is less than y\n"
          ]
        }
      ]
    },
    {
      "cell_type": "code",
      "source": [
        "# demonstrate fewer conditionals\n",
        "x=int(input('what is x'))\n",
        "y =int(input('what is y'))\n",
        "if x>y :\n",
        "  print('x is greater than y')\n",
        "elif x<y :\n",
        "  print('x is less than y')\n",
        "else :\n",
        "  print ('x is equal to y')"
      ],
      "metadata": {
        "colab": {
          "base_uri": "https://localhost:8080/"
        },
        "id": "rurpYVv_4qmU",
        "outputId": "0328cc89-52b0-4007-ce96-6cc3ce9e687c"
      },
      "execution_count": null,
      "outputs": [
        {
          "output_type": "stream",
          "name": "stdout",
          "text": [
            "what is x5\n",
            "what is y3\n",
            "x is greater than y\n"
          ]
        }
      ]
    },
    {
      "cell_type": "code",
      "source": [
        "# demonstrate conditionals\n",
        "x=int(input('what is x'))\n",
        "y =int(input('what is y'))\n",
        "if x>y :\n",
        "  print('x is greater than y')\n",
        "elif x<y :\n",
        "  print('x is less than y')\n",
        "else :\n",
        "  print ('x is equal to y')"
      ],
      "metadata": {
        "colab": {
          "base_uri": "https://localhost:8080/"
        },
        "id": "e7eRJ7YX4z18",
        "outputId": "a62e972d-9cd2-466d-910f-facc9a9c08be"
      },
      "execution_count": null,
      "outputs": [
        {
          "output_type": "stream",
          "name": "stdout",
          "text": [
            "what is x5\n",
            "what is y5\n",
            "x is equal to y\n"
          ]
        }
      ]
    },
    {
      "cell_type": "code",
      "source": [
        "#demonstrate inequalities(logical oerator)\n",
        "# demonstrate conditionals\n",
        "x=int(input('what is x'))\n",
        "y =int(input('what is y'))\n",
        "if x>y or x<y:\n",
        "  print('x is not equal to y')\n",
        "else :\n",
        "  print ('x is equal to y')"
      ],
      "metadata": {
        "colab": {
          "base_uri": "https://localhost:8080/"
        },
        "id": "CwJ5xnUg5Gc7",
        "outputId": "ce6daef1-9721-4e6f-f502-50c97e37536d"
      },
      "execution_count": null,
      "outputs": [
        {
          "output_type": "stream",
          "name": "stdout",
          "text": [
            "what is x5\n",
            "what is y8\n",
            "x is not equal to y\n"
          ]
        }
      ]
    },
    {
      "cell_type": "code",
      "source": [
        "#demonstrate inequalities(logical oerator)\n",
        "# demonstrate conditionals\n",
        "x=int(input('what is x'))\n",
        "y =int(input('what is y'))\n",
        "if x>y or x<y:\n",
        "  print('x is not equal to y')\n",
        "else :\n",
        "  print ('x is equal to y')"
      ],
      "metadata": {
        "colab": {
          "base_uri": "https://localhost:8080/"
        },
        "id": "6F7b9grU5ktq",
        "outputId": "1de1bff6-b43c-4ef4-9f71-6edb096f898a"
      },
      "execution_count": null,
      "outputs": [
        {
          "output_type": "stream",
          "name": "stdout",
          "text": [
            "what is x5\n",
            "what is y3\n",
            "x is not equal to y\n"
          ]
        }
      ]
    },
    {
      "cell_type": "code",
      "source": [
        "#demonstrate inequalities(logical oerator)\n",
        "# demonstrate conditionals\n",
        "x=int(input('what is x'))\n",
        "y =int(input('what is y'))\n",
        "if x>y or x<y:\n",
        "  print('x is not equal to y')\n",
        "else :\n",
        "  print ('x is equal to y')"
      ],
      "metadata": {
        "colab": {
          "base_uri": "https://localhost:8080/"
        },
        "id": "_0TJ7pv05tA_",
        "outputId": "f87bc5ba-4de1-4c1e-d809-d786c3ca8838"
      },
      "execution_count": null,
      "outputs": [
        {
          "output_type": "stream",
          "name": "stdout",
          "text": [
            "what is x5\n",
            "what is y5\n",
            "x is equal to y\n"
          ]
        }
      ]
    },
    {
      "cell_type": "code",
      "source": [
        "#demonstrate inequalities(logical oerator)\n",
        "# demonstrate conditionals\n",
        "x=int(input('what is x'))\n",
        "y =int(input('what is y'))\n",
        "if x!=y:\n",
        "  print('x is not equal to y')\n",
        "else :\n",
        "  print ('x is equal to y')"
      ],
      "metadata": {
        "colab": {
          "base_uri": "https://localhost:8080/"
        },
        "id": "GlTCqohu6AJK",
        "outputId": "a3edd211-b351-4b32-b7e9-77645370157e"
      },
      "execution_count": null,
      "outputs": [
        {
          "output_type": "stream",
          "name": "stdout",
          "text": [
            "what is x5\n",
            "what is y8\n",
            "x is not equal to y\n"
          ]
        }
      ]
    },
    {
      "cell_type": "code",
      "source": [
        "#demonstrate inequalities(logical oerator)\n",
        "# demonstrate conditionals\n",
        "x=int(input('what is x'))\n",
        "y =int(input('what is y'))\n",
        "if x!=y:\n",
        "  print('x is not equal to y')\n",
        "else :\n",
        "  print ('x is equal to y')"
      ],
      "metadata": {
        "colab": {
          "base_uri": "https://localhost:8080/"
        },
        "id": "c07x3nbu6Jaw",
        "outputId": "2471d0e2-fb4d-44ce-b7ec-4c4fe01b981e"
      },
      "execution_count": null,
      "outputs": [
        {
          "output_type": "stream",
          "name": "stdout",
          "text": [
            "what is x5\n",
            "what is y3\n",
            "x is not equal to y\n"
          ]
        }
      ]
    },
    {
      "cell_type": "code",
      "source": [
        "#demonstrate inequalities(logical oerator)\n",
        "# demonstrate conditionals\n",
        "x=int(input('what is x'))\n",
        "y =int(input('what is y'))\n",
        "if x!=y:\n",
        "  print('x is not equal to y')\n",
        "else :\n",
        "  print ('x is equal to y')"
      ],
      "metadata": {
        "colab": {
          "base_uri": "https://localhost:8080/"
        },
        "id": "DIwcZ_lR6TLx",
        "outputId": "17a4c6f0-2ae4-4cec-9ae2-bd950500f782"
      },
      "execution_count": null,
      "outputs": [
        {
          "output_type": "stream",
          "name": "stdout",
          "text": [
            "what is x5\n",
            "what is y5\n",
            "x is equal to y\n"
          ]
        }
      ]
    },
    {
      "cell_type": "code",
      "source": [
        "#demonstrate equalities(logical oerator)\n",
        "# demonstrate conditionals\n",
        "x=int(input('what is x'))\n",
        "y =int(input('what is y'))\n",
        "if x==y:\n",
        "  print('x is equal to y')\n",
        "else :\n",
        "  print ('x is  not equal to y')"
      ],
      "metadata": {
        "colab": {
          "base_uri": "https://localhost:8080/"
        },
        "id": "79dG62WH6oNy",
        "outputId": "87e25643-24a7-45d7-e58e-a2ff5a8284db"
      },
      "execution_count": null,
      "outputs": [
        {
          "output_type": "stream",
          "name": "stdout",
          "text": [
            "what is x5\n",
            "what is y5\n",
            "x is equal to y\n"
          ]
        }
      ]
    },
    {
      "cell_type": "code",
      "source": [
        "#demonstrate equalities(logical oerator)\n",
        "# demonstrate conditionals\n",
        "x=int(input('what is x'))\n",
        "y =int(input('what is y'))\n",
        "if x==y:\n",
        "  print('x is equal to y')\n",
        "else :\n",
        "  print ('x is  not equal to y')"
      ],
      "metadata": {
        "colab": {
          "base_uri": "https://localhost:8080/"
        },
        "id": "oueqV4wx61Kz",
        "outputId": "9a91231a-cb8c-40c0-9fa7-b3742c0b09b9"
      },
      "execution_count": null,
      "outputs": [
        {
          "output_type": "stream",
          "name": "stdout",
          "text": [
            "what is x5\n",
            "what is y8\n",
            "x is  not equal to y\n"
          ]
        }
      ]
    },
    {
      "cell_type": "code",
      "source": [
        "# demonstrate logical operator\n",
        "x=int(input('score: '))\n",
        "if x >=90 and x<=100:\n",
        "  print('Grade A')\n",
        "elif x>=80 and x<90:\n",
        "  print('Grade B')\n",
        "elif x>=70 and x<80:\n",
        "  print('Grade C')\n",
        "elif x>=60 and x<70:\n",
        "  print('Grade D')\n",
        "elif x>=50 and x<60:\n",
        "  print('Grade E')\n",
        "else:\n",
        "  print('Grade F')"
      ],
      "metadata": {
        "colab": {
          "base_uri": "https://localhost:8080/"
        },
        "id": "sSVYDV6d7Yqk",
        "outputId": "319045c4-1f7a-4f36-c504-81fd867b895c"
      },
      "execution_count": null,
      "outputs": [
        {
          "output_type": "stream",
          "name": "stdout",
          "text": [
            "score: 56\n",
            "Grade E\n"
          ]
        }
      ]
    },
    {
      "cell_type": "code",
      "source": [
        "#demonstrate inequality and logical operator\n",
        "x=int(input('score: '))\n",
        "if 90<=x and x<=100:\n",
        "  print('Grade A')\n",
        "elif 80<=x and x<90:\n",
        "  print('Grade B')\n",
        "elif 70<= x and x<80:\n",
        "  print('Grade C')\n",
        "elif 60<=x and x<70:\n",
        "  print('Grade D')\n",
        "elif 50<=x and x<60:\n",
        "  print('Grade E')\n",
        "else:\n",
        "  print('Grade F')\n"
      ],
      "metadata": {
        "colab": {
          "base_uri": "https://localhost:8080/"
        },
        "id": "GhE-5THf9cfz",
        "outputId": "be5a40ec-5a1e-4c8f-b799-2f8026c87f15"
      },
      "execution_count": null,
      "outputs": [
        {
          "output_type": "stream",
          "name": "stdout",
          "text": [
            "score: 68\n",
            "Grade D\n"
          ]
        }
      ]
    },
    {
      "cell_type": "code",
      "source": [],
      "metadata": {
        "id": "N4_vyzgBBAmq"
      },
      "execution_count": null,
      "outputs": []
    },
    {
      "cell_type": "code",
      "source": [
        "#comparison\n",
        "x=int(input('score: '))\n",
        "if 90<=x<=100:\n",
        "  print('Grade A')\n",
        "elif 80<=x<90:\n",
        "  print('Grade B')\n",
        "elif 70<= x<80:\n",
        "  print('Grade C')\n",
        "elif 60<=x<70:\n",
        "  print('Grade D')\n",
        "elif 50<=x<60:\n",
        "  print('Grade E')\n",
        "else:\n",
        "  print('Grade F')\n"
      ],
      "metadata": {
        "colab": {
          "base_uri": "https://localhost:8080/"
        },
        "id": "vKv8u0JK_vhj",
        "outputId": "d87abd6e-bbdf-4392-b528-024eeb6f5826"
      },
      "execution_count": null,
      "outputs": [
        {
          "output_type": "stream",
          "name": "stdout",
          "text": [
            "score: 73\n",
            "Grade C\n"
          ]
        }
      ]
    },
    {
      "cell_type": "code",
      "source": [
        "# fewer comparison\n",
        "# demonstrate conditional\n",
        "x=int(input('score: '))\n",
        "if x >=90 :\n",
        "  print('Grade A')\n",
        "elif x>=80 :\n",
        "  print('Grade B')\n",
        "elif x>=70 :\n",
        "  print('Grade C')\n",
        "elif x>=60 :\n",
        "  print('Grade D')\n",
        "elif x>=50 :\n",
        "  print('Grade E')\n",
        "else:\n",
        "  print('Grade F')"
      ],
      "metadata": {
        "colab": {
          "base_uri": "https://localhost:8080/"
        },
        "id": "53rhDJfQALqX",
        "outputId": "ad8c1512-311f-4b24-8145-054a07797841"
      },
      "execution_count": null,
      "outputs": [
        {
          "output_type": "stream",
          "name": "stdout",
          "text": [
            "score: 82\n",
            "Grade B\n"
          ]
        }
      ]
    },
    {
      "cell_type": "code",
      "source": [
        "#demonstrate inequality and logical operator\n",
        "x=int(input('score: '))\n",
        "if 90<=x & x<=100:\n",
        "  print('Grade A')\n",
        "elif 80<=x & x<90:\n",
        "  print('Grade B')\n",
        "elif 70<= x & x<80:\n",
        "  print('Grade C')\n",
        "elif 60<=x & x<70:\n",
        "  print('Grade D')\n",
        "elif 50<=x & x<60:\n",
        "  print('Grade E')\n",
        "else:\n",
        "  print('Grade F')"
      ],
      "metadata": {
        "colab": {
          "base_uri": "https://localhost:8080/"
        },
        "id": "mIbh3ADyBDKw",
        "outputId": "a13d2842-c4b1-4b04-8863-b360df0c27f6"
      },
      "execution_count": null,
      "outputs": [
        {
          "output_type": "stream",
          "name": "stdout",
          "text": [
            "score: 91\n",
            "Grade A\n"
          ]
        }
      ]
    },
    {
      "cell_type": "code",
      "source": [
        "# compress strings\n",
        "answer=input('Do you agree ?')\n",
        "if answer== \"yes\":\n",
        "   print('agreed')\n",
        "elif answer== 'no':\n",
        "   print('not agreed')\n"
      ],
      "metadata": {
        "colab": {
          "base_uri": "https://localhost:8080/"
        },
        "id": "lJY8wc7JBXOq",
        "outputId": "5d4f02fb-9d44-487b-ecfb-5898c832e230"
      },
      "execution_count": null,
      "outputs": [
        {
          "output_type": "stream",
          "name": "stdout",
          "text": [
            "Do you agree ?yes\n",
            "agreed\n"
          ]
        }
      ]
    },
    {
      "cell_type": "code",
      "source": [
        "# compress strings\n",
        "answer=input('Do you agree ?').strip()\n",
        "if answer== \"yes\":\n",
        "   print('agreed')\n",
        "elif answer== 'no':\n",
        "   print('not agreed')\n"
      ],
      "metadata": {
        "colab": {
          "base_uri": "https://localhost:8080/"
        },
        "id": "YHSSGi2FCo9D",
        "outputId": "76cad134-8250-48df-90df-6ceb741934d2"
      },
      "execution_count": null,
      "outputs": [
        {
          "output_type": "stream",
          "name": "stdout",
          "text": [
            "Do you agree ?yes\n",
            "agreed\n"
          ]
        }
      ]
    },
    {
      "cell_type": "code",
      "source": [
        "# compress strings\n",
        "answer=input('Do you agree ?').strip().lower()\n",
        "if answer== \"yes\":\n",
        "   print('agreed')\n",
        "elif answer== 'no':\n",
        "   print('not agreed')\n"
      ],
      "metadata": {
        "colab": {
          "base_uri": "https://localhost:8080/"
        },
        "id": "LD11iwXhC1ex",
        "outputId": "54cf4d3a-ddc0-45c2-bc22-44d9c51109d8"
      },
      "execution_count": null,
      "outputs": [
        {
          "output_type": "stream",
          "name": "stdout",
          "text": [
            "Do you agree ?yes\n",
            "agreed\n"
          ]
        }
      ]
    },
    {
      "cell_type": "code",
      "source": [
        "# compress strings\n",
        "answer=input('Do you agree ?').strip().upper()\n",
        "if answer== \"yes\":\n",
        "   print('agreed')\n",
        "elif answer== 'no':\n",
        "   print('not agreed')\n"
      ],
      "metadata": {
        "colab": {
          "base_uri": "https://localhost:8080/"
        },
        "id": "jLGIaqtuC8MO",
        "outputId": "740cb297-3103-4257-c4d5-5bb8a7fd30b7"
      },
      "execution_count": null,
      "outputs": [
        {
          "name": "stdout",
          "output_type": "stream",
          "text": [
            "Do you agree ?yes\n"
          ]
        }
      ]
    },
    {
      "cell_type": "code",
      "source": [
        "# compress strings\n",
        "answer=input('Do you agree ?')\n",
        "if answer== \"yes\" or answer=='YEs':\n",
        "  print('agreed')\n",
        "elif answer== 'no' or answer =='No':\n",
        "  print('not agreed')\n"
      ],
      "metadata": {
        "colab": {
          "base_uri": "https://localhost:8080/"
        },
        "id": "wk3w6FBPDJb7",
        "outputId": "62429199-54c5-461c-856a-4521aa16e433"
      },
      "execution_count": null,
      "outputs": [
        {
          "name": "stdout",
          "output_type": "stream",
          "text": [
            "Do you agree ?YES\n"
          ]
        }
      ]
    },
    {
      "cell_type": "code",
      "source": [
        "# compress strings\n",
        "answer=input('Do you agree ?')\n",
        "if answer== \"yes\":\n",
        "   print('agreed')\n",
        "elif answer== 'no':\n",
        "   print('not agreed')\n"
      ],
      "metadata": {
        "colab": {
          "base_uri": "https://localhost:8080/"
        },
        "id": "-ZlqodMqDmve",
        "outputId": "da7d3727-7778-4e73-b99d-9b89064314c9"
      },
      "execution_count": null,
      "outputs": [
        {
          "output_type": "stream",
          "name": "stdout",
          "text": [
            "Do you agree ?no\n",
            "not agreed\n"
          ]
        }
      ]
    },
    {
      "cell_type": "code",
      "source": [
        "# compress strings\n",
        "answer=input('Do you agree ?')\n",
        "if answer== \"yes\" or answer=='YEs':\n",
        "  print('agreed')\n",
        "elif answer== 'no' or answer =='No':\n",
        "  print('not agreed')\n"
      ],
      "metadata": {
        "colab": {
          "base_uri": "https://localhost:8080/"
        },
        "id": "ehvhng0rDrWi",
        "outputId": "43217d29-6c00-4df8-df09-b127dc2ee151"
      },
      "execution_count": null,
      "outputs": [
        {
          "output_type": "stream",
          "name": "stdout",
          "text": [
            "Do you agree ?no\n",
            "not agreed\n"
          ]
        }
      ]
    },
    {
      "cell_type": "code",
      "source": [
        "# demonstrate module operator\n",
        "x= int(input('what is x ?'))\n",
        "if x%2==0:\n",
        "  print('Even')\n",
        "else:\n",
        "  print('odd')"
      ],
      "metadata": {
        "colab": {
          "base_uri": "https://localhost:8080/"
        },
        "id": "LhoojN-3EG7Y",
        "outputId": "a374e95e-3352-4e15-c440-a8f4c968c960"
      },
      "execution_count": null,
      "outputs": [
        {
          "output_type": "stream",
          "name": "stdout",
          "text": [
            "what is x ?6\n",
            "Even\n"
          ]
        }
      ]
    },
    {
      "cell_type": "code",
      "source": [
        "# demonstrate a function that returns to bool\n",
        "def main():\n",
        "  x=int(input('what is x?'))\n",
        "  if is_even(x):\n",
        "    print('Even')\n",
        "  else:\n",
        "    ('Odd')\n",
        "def is_even(n):\n",
        "   if n%2==0:\n",
        "     return True\n",
        "   else:\n",
        "    return False\n",
        "main()\n",
        "\n"
      ],
      "metadata": {
        "colab": {
          "base_uri": "https://localhost:8080/"
        },
        "id": "-4SV3aB0EqLl",
        "outputId": "8ce52054-bdca-4b42-92dd-9f7f8b54c1a9"
      },
      "execution_count": null,
      "outputs": [
        {
          "output_type": "stream",
          "name": "stdout",
          "text": [
            "what is x?6\n",
            "Even\n"
          ]
        }
      ]
    },
    {
      "cell_type": "code",
      "source": [
        "# demonstrate a function that returns to bool\n",
        "def main():\n",
        "  x=int(input('what is x?'))\n",
        "  if is_even(x):\n",
        "    print('Even')\n",
        "  else:\n",
        "    ('Odd')\n",
        "def is_even(n):\n",
        "     return True if n%2==0 else False\n",
        "main()"
      ],
      "metadata": {
        "colab": {
          "base_uri": "https://localhost:8080/"
        },
        "id": "9UwVKRqkGOPe",
        "outputId": "0f5af1b4-d876-4ec0-8a7b-d16eb2c49e29"
      },
      "execution_count": null,
      "outputs": [
        {
          "output_type": "stream",
          "name": "stdout",
          "text": [
            "what is x?6\n",
            "Even\n"
          ]
        }
      ]
    },
    {
      "cell_type": "code",
      "source": [
        "# demonstrate a function that returns to boolean expression\n",
        "def main():\n",
        "  x=int(input('what is x?'))\n",
        "  if is_even(x):\n",
        "    print('Even')\n",
        "  else:\n",
        "    ('Odd')\n",
        "def is_even(n):\n",
        "     return n%2==0\n",
        "main()"
      ],
      "metadata": {
        "colab": {
          "base_uri": "https://localhost:8080/"
        },
        "id": "EpvWVLPqGkqJ",
        "outputId": "e3b81f63-2d14-419b-f922-619b419bb23e"
      },
      "execution_count": null,
      "outputs": [
        {
          "output_type": "stream",
          "name": "stdout",
          "text": [
            "what is x?6\n",
            "Even\n"
          ]
        }
      ]
    },
    {
      "cell_type": "code",
      "source": [
        "name=input('what is your name?')\n",
        "if name== \"rahul\":\n",
        "  print('Hyderabad')\n",
        "elif name=='pankaj':\n",
        "  print('Hyderabad')\n",
        "elif name=='Gogo':\n",
        "  print('Bihar')\n",
        "elif name=='draco':\n",
        "  print('Delhi')\n",
        "else:\n",
        "  print('who')"
      ],
      "metadata": {
        "colab": {
          "base_uri": "https://localhost:8080/"
        },
        "id": "-TmQTUgnG7yS",
        "outputId": "9b6784ac-9e06-43ce-b433-96b03c9dd983"
      },
      "execution_count": null,
      "outputs": [
        {
          "output_type": "stream",
          "name": "stdout",
          "text": [
            "what is your name?rahul\n",
            "Hyderabad\n"
          ]
        }
      ]
    },
    {
      "cell_type": "code",
      "source": [
        "name=input('what is your name?')\n",
        "if name== \"rahul\"or name== 'pankaj':\n",
        "  print('Hyderabad')\n",
        "elif name=='Gogo':\n",
        "  print('Bihar')\n",
        "elif name=='draco':\n",
        "  print('Delhi')\n",
        "else:\n",
        "  print('who')"
      ],
      "metadata": {
        "colab": {
          "base_uri": "https://localhost:8080/"
        },
        "id": "w1pa7KvmIms1",
        "outputId": "53d6b4dd-5ecd-433b-f0a5-5e2d6d2fa483"
      },
      "execution_count": null,
      "outputs": [
        {
          "output_type": "stream",
          "name": "stdout",
          "text": [
            "what is your name?pankaj\n",
            "Hyderabad\n"
          ]
        }
      ]
    },
    {
      "cell_type": "code",
      "source": [
        "#match case\n",
        "name=input('what is your name')\n",
        "match name:\n",
        "  case \"rahul\":\n",
        "    print('Hyderabad')\n",
        "  case 'pankaj':\n",
        "    print('Hyderabad')\n",
        "  case 'Gogo':\n",
        "    print('Bihar')\n",
        "  case 'draco':\n",
        "    print('Delhi')"
      ],
      "metadata": {
        "colab": {
          "base_uri": "https://localhost:8080/"
        },
        "id": "3GhwPbIQJA-Z",
        "outputId": "66f4d870-e94c-40a0-e7ef-643efc4d35ee"
      },
      "execution_count": null,
      "outputs": [
        {
          "output_type": "stream",
          "name": "stdout",
          "text": [
            "what is your namerahul\n",
            "Hyderabad\n"
          ]
        }
      ]
    },
    {
      "cell_type": "code",
      "source": [
        "#loops"
      ],
      "metadata": {
        "id": "h2eCjNJqLY4z"
      },
      "execution_count": null,
      "outputs": []
    },
    {
      "cell_type": "markdown",
      "source": [
        "LOOPS\n",
        "\\bold text"
      ],
      "metadata": {
        "id": "0Xg-l9RLL9X_"
      }
    },
    {
      "cell_type": "code",
      "source": [
        "#demonstrate multiple identical functions cells\n",
        "print('meow')\n",
        "print('meow')\n",
        "print('meow')"
      ],
      "metadata": {
        "colab": {
          "base_uri": "https://localhost:8080/"
        },
        "id": "jxDSV1w_MIK-",
        "outputId": "16e8944c-0a31-4dbb-a9e1-b4e41ac61a8b"
      },
      "execution_count": null,
      "outputs": [
        {
          "output_type": "stream",
          "name": "stdout",
          "text": [
            "meow\n",
            "meow\n",
            "meow\n"
          ]
        }
      ]
    },
    {
      "cell_type": "code",
      "source": [
        "# while loop\n",
        "i=3\n",
        "while i!=0:\n",
        "  print('meow')\n",
        "  i=i-1"
      ],
      "metadata": {
        "colab": {
          "base_uri": "https://localhost:8080/"
        },
        "id": "eOyvmIh8Ov8M",
        "outputId": "cfda35eb-ab90-4bbc-992c-dbc0bf1f956a"
      },
      "execution_count": null,
      "outputs": [
        {
          "output_type": "stream",
          "name": "stdout",
          "text": [
            "meow\n",
            "meow\n",
            "meow\n"
          ]
        }
      ]
    },
    {
      "cell_type": "code",
      "source": [
        "# while loop counting down from 1\n",
        "i=1\n",
        "while i<=3:\n",
        "  print('meow')\n",
        "  i=i+1"
      ],
      "metadata": {
        "colab": {
          "base_uri": "https://localhost:8080/"
        },
        "id": "T8oh7pqdPHzo",
        "outputId": "a76d3dd2-2735-473c-c574-a427a34d5f05"
      },
      "execution_count": null,
      "outputs": [
        {
          "output_type": "stream",
          "name": "stdout",
          "text": [
            "meow\n",
            "meow\n",
            "meow\n"
          ]
        }
      ]
    },
    {
      "cell_type": "code",
      "source": [
        "i=1\n",
        "while i<=3:\n",
        "  print('meow')\n",
        "  i+=1"
      ],
      "metadata": {
        "colab": {
          "base_uri": "https://localhost:8080/"
        },
        "id": "YlH8pIPnPhuB",
        "outputId": "6224fe43-554b-4ee3-a0b0-1aae07912417"
      },
      "execution_count": null,
      "outputs": [
        {
          "output_type": "stream",
          "name": "stdout",
          "text": [
            "meow\n",
            "meow\n",
            "meow\n"
          ]
        }
      ]
    },
    {
      "cell_type": "code",
      "source": [
        "i=0\n",
        "while i<3:\n",
        "  print('meow')\n",
        "  i+=1"
      ],
      "metadata": {
        "colab": {
          "base_uri": "https://localhost:8080/"
        },
        "id": "w1pVPNi-PpKc",
        "outputId": "188ae06f-4d2b-43f3-f432-c89ba6c80533"
      },
      "execution_count": null,
      "outputs": [
        {
          "output_type": "stream",
          "name": "stdout",
          "text": [
            "meow\n",
            "meow\n",
            "meow\n"
          ]
        }
      ]
    },
    {
      "cell_type": "code",
      "source": [
        "# demonstrate a for loop,using list\n",
        "for i in[0,1,2]:\n",
        "  print('meow')"
      ],
      "metadata": {
        "colab": {
          "base_uri": "https://localhost:8080/"
        },
        "id": "dsUmpD_eP1TX",
        "outputId": "dae5b7ab-f538-4efe-ba43-85d0dc247cf3"
      },
      "execution_count": null,
      "outputs": [
        {
          "output_type": "stream",
          "name": "stdout",
          "text": [
            "meow\n",
            "meow\n",
            "meow\n"
          ]
        }
      ]
    },
    {
      "cell_type": "code",
      "source": [
        "for i in range(3):\n",
        "  print('meow')"
      ],
      "metadata": {
        "colab": {
          "base_uri": "https://localhost:8080/"
        },
        "id": "j0Vr3FLSQHuS",
        "outputId": "5c67309e-f28b-4a71-cab2-e1d8aee9b469"
      },
      "execution_count": null,
      "outputs": [
        {
          "output_type": "stream",
          "name": "stdout",
          "text": [
            "meow\n",
            "meow\n",
            "meow\n"
          ]
        }
      ]
    },
    {
      "cell_type": "code",
      "source": [
        "for  _ in range(3):\n",
        "  print('meow')"
      ],
      "metadata": {
        "colab": {
          "base_uri": "https://localhost:8080/"
        },
        "id": "gqeCmEGfQSch",
        "outputId": "8c4ddddd-185a-4b6c-a356-759ab92e0dc8"
      },
      "execution_count": null,
      "outputs": [
        {
          "output_type": "stream",
          "name": "stdout",
          "text": [
            "meow\n",
            "meow\n",
            "meow\n"
          ]
        }
      ]
    },
    {
      "cell_type": "code",
      "source": [
        "#demonstrate str multiplication\n",
        "print('meow\\n' * 3,end=\" \")"
      ],
      "metadata": {
        "colab": {
          "base_uri": "https://localhost:8080/"
        },
        "id": "Wu-8RtpXQZ9s",
        "outputId": "c9fb1295-ac91-4f66-c773-332f094ddbaf"
      },
      "execution_count": null,
      "outputs": [
        {
          "output_type": "stream",
          "name": "stdout",
          "text": [
            "meow\n",
            "meow\n",
            "meow\n",
            " "
          ]
        }
      ]
    },
    {
      "cell_type": "code",
      "source": [
        "while True:\n",
        "  n=int(input('what is n?'))\n",
        "  if n<=0:\n",
        "    continue\n",
        "  else:\n",
        "    break\n",
        "for _ in range(n):\n",
        "    print('meow')"
      ],
      "metadata": {
        "colab": {
          "base_uri": "https://localhost:8080/"
        },
        "id": "xSrl60TYcG-P",
        "outputId": "97f22c9f-6c85-4c29-dfd2-168db643665a"
      },
      "execution_count": null,
      "outputs": [
        {
          "output_type": "stream",
          "name": "stdout",
          "text": [
            "what is n?3\n",
            "meow\n",
            "meow\n",
            "meow\n"
          ]
        }
      ]
    },
    {
      "cell_type": "code",
      "source": [
        "while True:\n",
        "  n=int(input('what is n?'))\n",
        "  if n>0:\n",
        "    break\n",
        "for _ in range(3):\n",
        "    print('meow')"
      ],
      "metadata": {
        "colab": {
          "base_uri": "https://localhost:8080/"
        },
        "id": "ciDIbGBrc1W9",
        "outputId": "f40c964c-4e30-4149-8258-297f4ee00607"
      },
      "execution_count": null,
      "outputs": [
        {
          "output_type": "stream",
          "name": "stdout",
          "text": [
            "what is n?3\n",
            "meow\n",
            "meow\n",
            "meow\n"
          ]
        }
      ]
    },
    {
      "cell_type": "code",
      "source": [
        "#describing function\n",
        "def main():\n",
        "  meow(get_number())\n",
        "\n",
        "def get_number():\n",
        "  while True:\n",
        "     n=int(input('what is n ?'))\n",
        "     if n>1:\n",
        "      return n\n",
        "\n",
        "def meow(n):\n",
        "    for _ in range(n):\n",
        "       print('meow')\n",
        "\n",
        "main()"
      ],
      "metadata": {
        "colab": {
          "base_uri": "https://localhost:8080/"
        },
        "id": "0VO-euqwdgJi",
        "outputId": "6939c769-2249-49f3-f5cd-4fbde5ad24c8"
      },
      "execution_count": null,
      "outputs": [
        {
          "output_type": "stream",
          "name": "stdout",
          "text": [
            "what is n ?4\n",
            "meow\n",
            "meow\n",
            "meow\n",
            "meow\n"
          ]
        }
      ]
    },
    {
      "cell_type": "code",
      "source": [
        "#demonstrate indexing in list\n",
        "students=['rahul','pankaj','raju']\n",
        "print(students[0])\n",
        "print(students[1])\n",
        "print(students[2])"
      ],
      "metadata": {
        "colab": {
          "base_uri": "https://localhost:8080/"
        },
        "id": "s41An9nYf4EZ",
        "outputId": "f4617378-8068-4567-c16b-5e9e7e5254a3"
      },
      "execution_count": null,
      "outputs": [
        {
          "output_type": "stream",
          "name": "stdout",
          "text": [
            "rahul\n",
            "pankaj\n",
            "raju\n"
          ]
        }
      ]
    },
    {
      "cell_type": "code",
      "source": [
        "students=['rahul','pankaj','raju']\n",
        "for i in students:\n",
        "  print(students)"
      ],
      "metadata": {
        "colab": {
          "base_uri": "https://localhost:8080/"
        },
        "id": "0yDvNdGngZ3r",
        "outputId": "fd9ab450-41b2-443a-9c09-3c4d4aa56b0b"
      },
      "execution_count": null,
      "outputs": [
        {
          "output_type": "stream",
          "name": "stdout",
          "text": [
            "['rahul', 'pankaj', 'raju']\n",
            "['rahul', 'pankaj', 'raju']\n",
            "['rahul', 'pankaj', 'raju']\n"
          ]
        }
      ]
    },
    {
      "cell_type": "code",
      "source": [
        "students=['rahul','pankaj','raju']\n",
        "for i in students:\n",
        "  print(i)"
      ],
      "metadata": {
        "colab": {
          "base_uri": "https://localhost:8080/"
        },
        "id": "hGWBT4NngsbJ",
        "outputId": "d77c8bd4-e736-46fc-ebe5-0b2d9847100d"
      },
      "execution_count": null,
      "outputs": [
        {
          "output_type": "stream",
          "name": "stdout",
          "text": [
            "rahul\n",
            "pankaj\n",
            "raju\n"
          ]
        }
      ]
    },
    {
      "cell_type": "code",
      "source": [
        "# demonstrates itering over and indexing into a list\n",
        "students=['rahul','pankaj','raju']\n",
        "for i in range(len(students)):\n",
        "    print(i+1,students[i])"
      ],
      "metadata": {
        "colab": {
          "base_uri": "https://localhost:8080/"
        },
        "id": "-OkUy2LIhEYL",
        "outputId": "4829b66b-9f51-4da2-af69-3080996d2c7e"
      },
      "execution_count": null,
      "outputs": [
        {
          "output_type": "stream",
          "name": "stdout",
          "text": [
            "1 rahul\n",
            "2 pankaj\n",
            "3 raju\n"
          ]
        }
      ]
    },
    {
      "cell_type": "code",
      "source": [
        "# demonstrate indexing into a dict\n",
        "students={\n",
        "    'rahul':'Hyderabad',\n",
        "    'pankaj':'Delhi',\n",
        "    'raju':'Bihar'\n",
        "}\n",
        "print(students['rahul'])\n",
        "print(students['pankaj'])\n",
        "print(students['raju'])"
      ],
      "metadata": {
        "colab": {
          "base_uri": "https://localhost:8080/"
        },
        "id": "NrEUgA9Shwe-",
        "outputId": "6616cd0b-a218-4cc1-b44f-2ac0ca60eec2"
      },
      "execution_count": null,
      "outputs": [
        {
          "output_type": "stream",
          "name": "stdout",
          "text": [
            "Hyderabad\n",
            "Delhi\n",
            "Bihar\n"
          ]
        }
      ]
    },
    {
      "cell_type": "code",
      "source": [
        "students={\n",
        "    'rahul':'Hyderabad',\n",
        "    'pankaj':'Delhi',\n",
        "    'raju':'Bihar'\n",
        "}\n",
        "for i in students:\n",
        "  print(i,students[i],sep=\" , \")"
      ],
      "metadata": {
        "colab": {
          "base_uri": "https://localhost:8080/"
        },
        "id": "KlC555iriow4",
        "outputId": "d9a0b851-a38c-40da-9af9-847dce327b56"
      },
      "execution_count": null,
      "outputs": [
        {
          "output_type": "stream",
          "name": "stdout",
          "text": [
            "rahul , Hyderabad\n",
            "pankaj , Delhi\n",
            "raju , Bihar\n"
          ]
        }
      ]
    },
    {
      "cell_type": "code",
      "source": [
        "for _ in range(3):\n",
        "  print('#')"
      ],
      "metadata": {
        "colab": {
          "base_uri": "https://localhost:8080/"
        },
        "id": "VWxrtHDkjDl_",
        "outputId": "36310bf9-f2a7-4e8a-de36-99182d603a82"
      },
      "execution_count": null,
      "outputs": [
        {
          "output_type": "stream",
          "name": "stdout",
          "text": [
            "#\n",
            "#\n",
            "#\n"
          ]
        }
      ]
    },
    {
      "cell_type": "code",
      "source": [
        "def main():\n",
        "  print_column(3)\n",
        "def print_column(height):\n",
        "  for _ in range(height):\n",
        "    print('#')\n",
        "main()"
      ],
      "metadata": {
        "colab": {
          "base_uri": "https://localhost:8080/"
        },
        "id": "uSiR35Agjens",
        "outputId": "75a18139-2c2e-43f0-8d82-e1734819bacf"
      },
      "execution_count": null,
      "outputs": [
        {
          "output_type": "stream",
          "name": "stdout",
          "text": [
            "#\n",
            "#\n",
            "#\n"
          ]
        }
      ]
    },
    {
      "cell_type": "code",
      "source": [
        "def main():\n",
        "  print_column(3)\n",
        "def print_column(height):\n",
        "    print('#\\n'* height,end=\" \")\n",
        "main()"
      ],
      "metadata": {
        "colab": {
          "base_uri": "https://localhost:8080/"
        },
        "id": "-z7RJNFNkXer",
        "outputId": "52cbde6c-b959-4ef5-cd5b-9ded64f8edfb"
      },
      "execution_count": null,
      "outputs": [
        {
          "output_type": "stream",
          "name": "stdout",
          "text": [
            "#\n",
            "#\n",
            "#\n",
            " "
          ]
        }
      ]
    },
    {
      "cell_type": "code",
      "source": [
        "def main():\n",
        "  print_row(3)\n",
        "def print_row(width):\n",
        "    print('?\\n'* width,end=\" \")\n",
        "main()"
      ],
      "metadata": {
        "colab": {
          "base_uri": "https://localhost:8080/"
        },
        "id": "n_ahYpBCk150",
        "outputId": "1f9f9cc6-99e1-4147-d870-684c6307642c"
      },
      "execution_count": null,
      "outputs": [
        {
          "output_type": "stream",
          "name": "stdout",
          "text": [
            "?\n",
            "?\n",
            "?\n",
            " "
          ]
        }
      ]
    },
    {
      "cell_type": "code",
      "source": [
        "def main():\n",
        "  print_square(3)\n",
        "def print_square(size):\n",
        "    for i in range(size):\n",
        "      for j in range(size):\n",
        "        print('#',end=\"\")\n",
        "      print()\n",
        "main()"
      ],
      "metadata": {
        "colab": {
          "base_uri": "https://localhost:8080/"
        },
        "id": "F8Oh_Mkhk5Gb",
        "outputId": "63a465c9-af2f-4c21-b029-3bde028627ff"
      },
      "execution_count": null,
      "outputs": [
        {
          "output_type": "stream",
          "name": "stdout",
          "text": [
            "###\n",
            "###\n",
            "###\n"
          ]
        }
      ]
    },
    {
      "cell_type": "code",
      "source": [
        "def main():\n",
        "  print_square(3)\n",
        "def print_square(size):\n",
        "    for _ in range(size):\n",
        "        print('#'*size)\n",
        "main()"
      ],
      "metadata": {
        "colab": {
          "base_uri": "https://localhost:8080/"
        },
        "id": "iCx4rqjumaPU",
        "outputId": "a91297a9-0791-4980-ca90-d931ace49684"
      },
      "execution_count": null,
      "outputs": [
        {
          "output_type": "stream",
          "name": "stdout",
          "text": [
            "###\n",
            "###\n",
            "###\n"
          ]
        }
      ]
    },
    {
      "cell_type": "code",
      "source": [
        "def main():\n",
        "  print_square(3)\n",
        "def print_square(size):\n",
        "    for _ in range(size):\n",
        "        print_row(size)\n",
        "def print_row(Width):\n",
        "    print('#'* Width)\n",
        "main()"
      ],
      "metadata": {
        "colab": {
          "base_uri": "https://localhost:8080/"
        },
        "id": "6qIqgOs0nKck",
        "outputId": "320751e7-e49b-4011-d672-10c50f7d5346"
      },
      "execution_count": null,
      "outputs": [
        {
          "output_type": "stream",
          "name": "stdout",
          "text": [
            "###\n",
            "###\n",
            "###\n"
          ]
        }
      ]
    },
    {
      "cell_type": "code",
      "source": [],
      "metadata": {
        "id": "YUYHuXtXrBao"
      },
      "execution_count": null,
      "outputs": []
    },
    {
      "cell_type": "code",
      "source": [],
      "metadata": {
        "id": "dHSlhZ7ZrkTB"
      },
      "execution_count": null,
      "outputs": []
    },
    {
      "cell_type": "markdown",
      "source": [
        "MODULE"
      ],
      "metadata": {
        "id": "ijb4g1Z3rk6c"
      }
    },
    {
      "cell_type": "code",
      "source": [
        "import random\n",
        "coin=random.choice(['heads','tails'])\n",
        "print(coin)"
      ],
      "metadata": {
        "colab": {
          "base_uri": "https://localhost:8080/"
        },
        "id": "CFhW3b4ZrmQN",
        "outputId": "e9c37967-5a65-4bb7-eda3-a46898b98777"
      },
      "execution_count": null,
      "outputs": [
        {
          "output_type": "stream",
          "name": "stdout",
          "text": [
            "heads\n"
          ]
        }
      ]
    },
    {
      "cell_type": "code",
      "source": [],
      "metadata": {
        "id": "-EiORiExsRg4"
      },
      "execution_count": null,
      "outputs": []
    },
    {
      "cell_type": "code",
      "source": [
        "from random import choice\n",
        "coin=random.choice(['heads','tails'])\n",
        "print(coin)"
      ],
      "metadata": {
        "colab": {
          "base_uri": "https://localhost:8080/"
        },
        "id": "s04IDZADsCr5",
        "outputId": "1075e2a4-b473-4ff2-fb4c-ca3ac3539da2"
      },
      "execution_count": null,
      "outputs": [
        {
          "output_type": "stream",
          "name": "stdout",
          "text": [
            "tails\n"
          ]
        }
      ]
    },
    {
      "cell_type": "code",
      "source": [
        "import random\n",
        "number=random.randint(1,10)\n",
        "print(number)"
      ],
      "metadata": {
        "colab": {
          "base_uri": "https://localhost:8080/"
        },
        "id": "NYASRnJIsKgc",
        "outputId": "a552b2be-e665-4357-b862-0efe94427cbb"
      },
      "execution_count": null,
      "outputs": [
        {
          "output_type": "stream",
          "name": "stdout",
          "text": [
            "6\n"
          ]
        }
      ]
    },
    {
      "cell_type": "code",
      "source": [
        "#demonstrate shuffle\n",
        "cards=['Jack','Queen','King']\n",
        "random.shuffle(cards)\n",
        "for i in cards:\n",
        "  print(i)"
      ],
      "metadata": {
        "colab": {
          "base_uri": "https://localhost:8080/"
        },
        "id": "CUTW1BXGskn3",
        "outputId": "1f6b8c0e-ef9f-438a-cc22-58f1a65b064c"
      },
      "execution_count": null,
      "outputs": [
        {
          "output_type": "stream",
          "name": "stdout",
          "text": [
            "Jack\n",
            "King\n",
            "Queen\n"
          ]
        }
      ]
    },
    {
      "cell_type": "code",
      "source": [
        "import statistics\n",
        "print(statistics.mean([100,10]))"
      ],
      "metadata": {
        "colab": {
          "base_uri": "https://localhost:8080/"
        },
        "id": "5XkMLygytCC_",
        "outputId": "1a3b67a1-6f7a-40ab-b5b5-1d029bea35aa"
      },
      "execution_count": null,
      "outputs": [
        {
          "output_type": "stream",
          "name": "stdout",
          "text": [
            "55\n"
          ]
        }
      ]
    },
    {
      "cell_type": "code",
      "source": [
        "#sys.arg[v]\n",
        "import sys\n",
        "print('HELLO ,MY NAME IS', sys.argv[1])"
      ],
      "metadata": {
        "colab": {
          "base_uri": "https://localhost:8080/"
        },
        "id": "MTYhrG8htOl2",
        "outputId": "b593aaf5-2bff-407c-9d5d-c61e78f1580a"
      },
      "execution_count": null,
      "outputs": [
        {
          "output_type": "stream",
          "name": "stdout",
          "text": [
            "HELLO ,MY NAME IS -f\n"
          ]
        }
      ]
    },
    {
      "cell_type": "code",
      "source": [
        "import sys\n",
        "if len(sys.argv)<2:\n",
        "  print('Too few arguments')\n",
        "elif len(sys.argv)>2:\n",
        "  print('Too many arguments')\n",
        "else:\n",
        "  print('hello, my name is',sys.argv[1])"
      ],
      "metadata": {
        "colab": {
          "base_uri": "https://localhost:8080/"
        },
        "id": "vQSdqk7wsTdb",
        "outputId": "b1790d98-8a4a-446d-d58b-8bad7afa308f"
      },
      "execution_count": null,
      "outputs": [
        {
          "output_type": "stream",
          "name": "stdout",
          "text": [
            "Too many arguments\n"
          ]
        }
      ]
    },
    {
      "cell_type": "code",
      "source": [],
      "metadata": {
        "id": "x8khOueSw8o6"
      },
      "execution_count": null,
      "outputs": []
    },
    {
      "cell_type": "code",
      "source": [
        "name=input('what is your name  ?')\n",
        "print(name)"
      ],
      "metadata": {
        "colab": {
          "base_uri": "https://localhost:8080/"
        },
        "id": "S1IZtAMLv9v5",
        "outputId": "e14b2631-d71b-457e-c277-50c326031b66"
      },
      "execution_count": null,
      "outputs": [
        {
          "output_type": "stream",
          "name": "stdout",
          "text": [
            "what is your name  ?sekhar\n",
            "sekhar\n"
          ]
        }
      ]
    },
    {
      "cell_type": "code",
      "source": [
        "import sys\n",
        "if len(sys.argv)<2:\n",
        "  sys.exit('Too few arguments')\n",
        "elif len(sys.argv)>2:\n",
        "  sys.exit('Too many arguments')\n",
        "else:\n",
        "  sys.exit(f'hello, my name is',{sys.argv[1]})"
      ],
      "metadata": {
        "colab": {
          "base_uri": "https://localhost:8080/",
          "height": 124
        },
        "id": "DkCqEPc7xEuj",
        "outputId": "6657adec-9ca7-4b14-8c46-1285d9cba848"
      },
      "execution_count": null,
      "outputs": [
        {
          "output_type": "error",
          "ename": "SystemExit",
          "evalue": "Too many arguments",
          "traceback": [
            "An exception has occurred, use %tb to see the full traceback.\n",
            "\u001b[0;31mSystemExit\u001b[0m\u001b[0;31m:\u001b[0m Too many arguments\n"
          ]
        },
        {
          "output_type": "stream",
          "name": "stderr",
          "text": [
            "/usr/local/lib/python3.11/dist-packages/IPython/core/interactiveshell.py:3561: UserWarning: To exit: use 'exit', 'quit', or Ctrl-D.\n",
            "  warn(\"To exit: use 'exit', 'quit', or Ctrl-D.\", stacklevel=1)\n"
          ]
        }
      ]
    },
    {
      "cell_type": "code",
      "source": [],
      "metadata": {
        "id": "V8Fr0bJ4xzi6"
      },
      "execution_count": null,
      "outputs": []
    },
    {
      "cell_type": "code",
      "source": [
        "import sys\n",
        "if len(sys.argv)<2:\n",
        "  print('Too few arguments')\n",
        "elif len(sys.argv)>2:\n",
        "  print('Too many arguments')\n",
        "else:\n",
        "  print('hello, my name is',sys.argv[1])"
      ],
      "metadata": {
        "colab": {
          "base_uri": "https://localhost:8080/"
        },
        "id": "q6FhhfB_xJ9e",
        "outputId": "be96b562-963f-4a50-e88c-f10a8167322d"
      },
      "execution_count": null,
      "outputs": [
        {
          "output_type": "stream",
          "name": "stdout",
          "text": [
            "Too many arguments\n"
          ]
        }
      ]
    },
    {
      "cell_type": "code",
      "source": [
        "!pip install cowsay"
      ],
      "metadata": {
        "colab": {
          "base_uri": "https://localhost:8080/"
        },
        "id": "8RgjWDpCx0xI",
        "outputId": "baa1e2ab-f5a8-48be-fa7b-5f6b08ed2252"
      },
      "execution_count": null,
      "outputs": [
        {
          "output_type": "stream",
          "name": "stdout",
          "text": [
            "Collecting cowsay\n",
            "  Downloading cowsay-6.1-py3-none-any.whl.metadata (5.6 kB)\n",
            "Downloading cowsay-6.1-py3-none-any.whl (25 kB)\n",
            "Installing collected packages: cowsay\n",
            "Successfully installed cowsay-6.1\n"
          ]
        }
      ]
    },
    {
      "cell_type": "code",
      "source": [
        "import cowsay\n",
        "import sys\n",
        "if len (sys.argv)==2:\n",
        "  cowsay.trex('hello,'+sys.argv[1])"
      ],
      "metadata": {
        "id": "eBcsSAlrx3UD"
      },
      "execution_count": null,
      "outputs": []
    },
    {
      "cell_type": "code",
      "source": [
        "# demonstrate request\n",
        "import sys\n",
        "import requests\n",
        "if len(sys.argv)!=2:\n",
        "  sys.exit(\"Usage: python script.py <search_term>\") # Add a helpful message to sys.exit\n",
        "else:\n",
        "  response=requests.get(\n",
        "      \"https://itunes.apple.com/search?entity=song&limit=1&term=\" + sys.argv[1]\n",
        "  )\n",
        "  print(response.json()) # Corrected 'responses' to 'response'"
      ],
      "metadata": {
        "colab": {
          "base_uri": "https://localhost:8080/",
          "height": 124
        },
        "id": "xtSgYc_V41gZ",
        "outputId": "a88b30e0-ee35-4785-c62d-bcd8bbd929e9"
      },
      "execution_count": null,
      "outputs": [
        {
          "output_type": "error",
          "ename": "SystemExit",
          "evalue": "Usage: python script.py <search_term>",
          "traceback": [
            "An exception has occurred, use %tb to see the full traceback.\n",
            "\u001b[0;31mSystemExit\u001b[0m\u001b[0;31m:\u001b[0m Usage: python script.py <search_term>\n"
          ]
        },
        {
          "output_type": "stream",
          "name": "stderr",
          "text": [
            "/usr/local/lib/python3.11/dist-packages/IPython/core/interactiveshell.py:3561: UserWarning: To exit: use 'exit', 'quit', or Ctrl-D.\n",
            "  warn(\"To exit: use 'exit', 'quit', or Ctrl-D.\", stacklevel=1)\n"
          ]
        }
      ]
    }
  ]
}