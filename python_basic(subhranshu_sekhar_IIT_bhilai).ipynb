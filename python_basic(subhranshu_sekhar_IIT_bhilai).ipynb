{
  "nbformat": 4,
  "nbformat_minor": 0,
  "metadata": {
    "colab": {
      "provenance": [],
      "authorship_tag": "ABX9TyMcnFMzTK6XLSdEG7um3RmY",
      "include_colab_link": true
    },
    "kernelspec": {
      "name": "python3",
      "display_name": "Python 3"
    },
    "language_info": {
      "name": "python"
    }
  },
  "cells": [
    {
      "cell_type": "markdown",
      "metadata": {
        "id": "view-in-github",
        "colab_type": "text"
      },
      "source": [
        "<a href=\"https://colab.research.google.com/github/Subhranshu-123/BIKE2/blob/main/python_basic(subhranshu_sekhar_IIT_bhilai).ipynb\" target=\"_parent\"><img src=\"https://colab.research.google.com/assets/colab-badge.svg\" alt=\"Open In Colab\"/></a>"
      ]
    },
    {
      "cell_type": "code",
      "execution_count": 1,
      "metadata": {
        "colab": {
          "base_uri": "https://localhost:8080/"
        },
        "id": "_6-sE_EUO4YY",
        "outputId": "b9f2d338-efe9-4ddc-f672-5afc73289f6e"
      },
      "outputs": [
        {
          "output_type": "stream",
          "name": "stdout",
          "text": [
            "hello,world\n"
          ]
        }
      ],
      "source": [
        "#demonstrate a function with a positional argument\n",
        "print('hello,world')"
      ]
    },
    {
      "cell_type": "code",
      "source": [
        "#demonstrate a function with a positional argument and return value\n",
        "name=input('what is your name ?')\n",
        "print('hello',name)"
      ],
      "metadata": {
        "colab": {
          "base_uri": "https://localhost:8080/"
        },
        "id": "OBXfheXxPXxf",
        "outputId": "567af121-2f8e-49aa-a9fd-4f09df24f96f"
      },
      "execution_count": 3,
      "outputs": [
        {
          "output_type": "stream",
          "name": "stdout",
          "text": [
            "what is your name ?sekhar\n",
            "hello sekhar\n"
          ]
        }
      ]
    },
    {
      "cell_type": "code",
      "source": [
        "name=input('what is your name ?')\n",
        "print('hello' + name)"
      ],
      "metadata": {
        "colab": {
          "base_uri": "https://localhost:8080/"
        },
        "id": "QeQHPyyHQDz0",
        "outputId": "8379cf14-1919-4719-ebfd-a98cbd52d0b5"
      },
      "execution_count": 5,
      "outputs": [
        {
          "output_type": "stream",
          "name": "stdout",
          "text": [
            "what is your name ?sekhar\n",
            "hellosekhar\n"
          ]
        }
      ]
    },
    {
      "cell_type": "code",
      "source": [
        "name=input('what is your name ?')\n",
        "print('hello',)\n",
        "print(name)"
      ],
      "metadata": {
        "colab": {
          "base_uri": "https://localhost:8080/"
        },
        "id": "nll_4g8_Qd_Z",
        "outputId": "331b215e-a255-4c74-c040-0b69f081ada9"
      },
      "execution_count": 6,
      "outputs": [
        {
          "output_type": "stream",
          "name": "stdout",
          "text": [
            "what is your name ?sekhar\n",
            "hello\n",
            "sekhar\n"
          ]
        }
      ]
    },
    {
      "cell_type": "code",
      "source": [
        "name=input('what is your name ?')\n",
        "print('hello', sep=\"\")\n",
        "print(name)"
      ],
      "metadata": {
        "colab": {
          "base_uri": "https://localhost:8080/"
        },
        "id": "t69u1eC9Q14C",
        "outputId": "31cadde3-7627-447e-f0cd-304fee8bb772"
      },
      "execution_count": 9,
      "outputs": [
        {
          "output_type": "stream",
          "name": "stdout",
          "text": [
            "what is your name ?sekhar\n",
            "hello\n",
            "sekhar\n"
          ]
        }
      ]
    },
    {
      "cell_type": "code",
      "source": [
        "name=input('what is your name ?')\n",
        "print('hello,', name,sep=\"\",end=\"\")\n"
      ],
      "metadata": {
        "colab": {
          "base_uri": "https://localhost:8080/"
        },
        "id": "jxa3xMr5RLNV",
        "outputId": "96c9e546-ca1b-4c8b-ec19-ebe26118760a"
      },
      "execution_count": 11,
      "outputs": [
        {
          "output_type": "stream",
          "name": "stdout",
          "text": [
            "what is your name ?sekhar\n",
            "hello,sekhar"
          ]
        }
      ]
    },
    {
      "cell_type": "code",
      "source": [
        "name=input('what is your name ?')\n",
        "print('hello,'+name)\n"
      ],
      "metadata": {
        "colab": {
          "base_uri": "https://localhost:8080/"
        },
        "id": "CtN-D2IDRzFv",
        "outputId": "59a14667-933b-4413-a794-f907c620127d"
      },
      "execution_count": 12,
      "outputs": [
        {
          "output_type": "stream",
          "name": "stdout",
          "text": [
            "what is your name ?sekhar\n",
            "hello,sekhar\n"
          ]
        }
      ]
    },
    {
      "cell_type": "code",
      "source": [
        "name=input('what is your name ?').strip()\n",
        "print(f\"hello,{name}\")\n"
      ],
      "metadata": {
        "colab": {
          "base_uri": "https://localhost:8080/"
        },
        "id": "oa1GfwxGSMJ3",
        "outputId": "68415656-cf7d-46ad-ea30-be02852b3a65"
      },
      "execution_count": 23,
      "outputs": [
        {
          "output_type": "stream",
          "name": "stdout",
          "text": [
            "what is your name ?sekhar\n",
            "hello,sekhar\n"
          ]
        }
      ]
    },
    {
      "cell_type": "code",
      "source": [
        "name=input('what is your name ?').strip().title()\n",
        "print(f\"hello,{name}\")"
      ],
      "metadata": {
        "colab": {
          "base_uri": "https://localhost:8080/"
        },
        "id": "D-VdP4bEUDvo",
        "outputId": "a00971c0-aae3-4e93-e0e7-e7066dc1ac83"
      },
      "execution_count": 24,
      "outputs": [
        {
          "output_type": "stream",
          "name": "stdout",
          "text": [
            "what is your name ?sekhar\n",
            "hello,Sekhar\n"
          ]
        }
      ]
    },
    {
      "cell_type": "code",
      "source": [
        "name=input('what is your name ?').strip().upper()\n",
        "print(f\"hello,{name}\")"
      ],
      "metadata": {
        "colab": {
          "base_uri": "https://localhost:8080/"
        },
        "id": "aOJgalUQUQCW",
        "outputId": "e751acc6-d522-4253-c49e-90a142fcf578"
      },
      "execution_count": 25,
      "outputs": [
        {
          "output_type": "stream",
          "name": "stdout",
          "text": [
            "what is your name ?sekhar\n",
            "hello,SEKHAR\n"
          ]
        }
      ]
    },
    {
      "cell_type": "code",
      "source": [
        "# str function\n",
        "name=input('what is your name ?')\n",
        "first,last=name.split(\" \")\n",
        "first=first.title()\n",
        "last=last.upper()\n",
        "print(f'hello,{first}')\n",
        "print(f'hello,{last}')"
      ],
      "metadata": {
        "colab": {
          "base_uri": "https://localhost:8080/"
        },
        "id": "lLDx2OpoUZPd",
        "outputId": "b2077cbd-208e-4907-efbf-f73cddf7989f"
      },
      "execution_count": 28,
      "outputs": [
        {
          "output_type": "stream",
          "name": "stdout",
          "text": [
            "what is your name ?subhranshu sekhar\n",
            "hello,Subhranshu\n",
            "hello,SEKHAR\n"
          ]
        }
      ]
    },
    {
      "cell_type": "code",
      "source": [
        "# demonstrate addition\n",
        "x=1\n",
        "y=2\n",
        "print(x+y)"
      ],
      "metadata": {
        "colab": {
          "base_uri": "https://localhost:8080/"
        },
        "id": "k2LEZRS0Vsa7",
        "outputId": "f925605c-a6f3-4150-fa24-00d7d760f7d3"
      },
      "execution_count": 29,
      "outputs": [
        {
          "output_type": "stream",
          "name": "stdout",
          "text": [
            "3\n"
          ]
        }
      ]
    },
    {
      "cell_type": "code",
      "source": [
        "print(y-x)"
      ],
      "metadata": {
        "colab": {
          "base_uri": "https://localhost:8080/"
        },
        "id": "Z6YXNOhyV5IE",
        "outputId": "6331bebe-e663-4f8e-bc61-190442333494"
      },
      "execution_count": 30,
      "outputs": [
        {
          "output_type": "stream",
          "name": "stdout",
          "text": [
            "1\n"
          ]
        }
      ]
    },
    {
      "cell_type": "code",
      "source": [
        "print(x*y)"
      ],
      "metadata": {
        "colab": {
          "base_uri": "https://localhost:8080/"
        },
        "id": "5MID7c0xV9O9",
        "outputId": "8f0a5b29-6a10-4b18-b3d7-5214bee7c43e"
      },
      "execution_count": 31,
      "outputs": [
        {
          "output_type": "stream",
          "name": "stdout",
          "text": [
            "2\n"
          ]
        }
      ]
    },
    {
      "cell_type": "code",
      "source": [
        "print(x/y)"
      ],
      "metadata": {
        "colab": {
          "base_uri": "https://localhost:8080/"
        },
        "id": "dsXge4QJWBJd",
        "outputId": "ca0946a6-d2ff-4424-936d-b7da909f75c8"
      },
      "execution_count": 32,
      "outputs": [
        {
          "output_type": "stream",
          "name": "stdout",
          "text": [
            "0.5\n"
          ]
        }
      ]
    },
    {
      "cell_type": "code",
      "source": [
        "print(x**y)"
      ],
      "metadata": {
        "colab": {
          "base_uri": "https://localhost:8080/"
        },
        "id": "GPIb_9-OWHQS",
        "outputId": "3cfb4851-8ecd-489a-bd1d-9d2636ead872"
      },
      "execution_count": 33,
      "outputs": [
        {
          "output_type": "stream",
          "name": "stdout",
          "text": [
            "1\n"
          ]
        }
      ]
    },
    {
      "cell_type": "code",
      "source": [
        "print(x//y)"
      ],
      "metadata": {
        "colab": {
          "base_uri": "https://localhost:8080/"
        },
        "id": "M-uDWM_3WL3M",
        "outputId": "2a5c1760-2cfa-4b8f-86a5-a495b6f13034"
      },
      "execution_count": 34,
      "outputs": [
        {
          "output_type": "stream",
          "name": "stdout",
          "text": [
            "0\n"
          ]
        }
      ]
    },
    {
      "cell_type": "code",
      "source": [
        "\n",
        "#demonstrate (unintented) concantenation of string\n",
        "x=input('what is your name ?')\n",
        "y=input('what is my name ?')\n",
        "#print sum\n",
        "print(x+y, sep= \" \")"
      ],
      "metadata": {
        "colab": {
          "base_uri": "https://localhost:8080/"
        },
        "id": "DRDbrEBRWWmr",
        "outputId": "f3deecb2-84e1-4496-e093-21e01be81afd"
      },
      "execution_count": 37,
      "outputs": [
        {
          "output_type": "stream",
          "name": "stdout",
          "text": [
            "what is your name ?subhranshu\n",
            "what is my name ?sekhar\n",
            "subhranshusekhar\n"
          ]
        }
      ]
    },
    {
      "cell_type": "code",
      "source": [
        "#demonstrate (unintented) concantenation of string\n",
        "x=input('what is your name ?')\n",
        "y=input('what is my name ?')\n",
        "#print sum\n",
        "print(x+y, sep= \" \")"
      ],
      "metadata": {
        "colab": {
          "base_uri": "https://localhost:8080/"
        },
        "id": "PngiQanyXUgo",
        "outputId": "cd3fac81-9317-4f2c-9b00-904e1150ecfb"
      },
      "execution_count": 38,
      "outputs": [
        {
          "output_type": "stream",
          "name": "stdout",
          "text": [
            "what is your name ?1\n",
            "what is my name ?2\n",
            "12\n"
          ]
        }
      ]
    },
    {
      "cell_type": "code",
      "source": [
        "#demonstrate  conversion  of string to int\n",
        "x=input('what is your name ?')\n",
        "y=input('what is my name ?')\n",
        "#print sum\n",
        "z=int(x)+int(y)\n",
        "print(z, sep= \" \")"
      ],
      "metadata": {
        "colab": {
          "base_uri": "https://localhost:8080/"
        },
        "id": "BCDwrwqLXgxO",
        "outputId": "f89345a3-c056-4c91-a128-41f37e2752df"
      },
      "execution_count": 39,
      "outputs": [
        {
          "output_type": "stream",
          "name": "stdout",
          "text": [
            "what is your name ?1\n",
            "what is my name ?2\n",
            "3\n"
          ]
        }
      ]
    },
    {
      "cell_type": "code",
      "source": [],
      "metadata": {
        "id": "alflYSSGYYp6"
      },
      "execution_count": null,
      "outputs": []
    },
    {
      "cell_type": "code",
      "source": [
        "#demonstrate nesting concantenation of string\n",
        "x=int(input('what is your name ?'))\n",
        "y=int(input('what is my name ?'))\n",
        "#print sum\n",
        "z=x+y\n",
        "print(z, sep= \" \")"
      ],
      "metadata": {
        "colab": {
          "base_uri": "https://localhost:8080/"
        },
        "id": "CDb5CCrhXxqn",
        "outputId": "fc15fcca-4022-43a7-8c82-609be78cf4f2"
      },
      "execution_count": 41,
      "outputs": [
        {
          "output_type": "stream",
          "name": "stdout",
          "text": [
            "what is your name ?1\n",
            "what is my name ?2\n",
            "3\n"
          ]
        }
      ]
    },
    {
      "cell_type": "code",
      "source": [],
      "metadata": {
        "id": "t--dndnaYzIk"
      },
      "execution_count": null,
      "outputs": []
    },
    {
      "cell_type": "code",
      "source": [
        "#demonstrate  conversion  of string to float\n",
        "x=input('what is your name ?')\n",
        "y=input('what is my name ?')\n",
        "#print sum\n",
        "z=float(x)+float(y)\n",
        "print(z, sep= \" \")"
      ],
      "metadata": {
        "colab": {
          "base_uri": "https://localhost:8080/"
        },
        "id": "_3PLcMUfYbyM",
        "outputId": "f972c2c5-0479-4f24-e3d4-e08d5d42eb57"
      },
      "execution_count": 44,
      "outputs": [
        {
          "output_type": "stream",
          "name": "stdout",
          "text": [
            "what is your name ?1.0\n",
            "what is my name ?2.2\n",
            "3.2\n"
          ]
        }
      ]
    },
    {
      "cell_type": "code",
      "source": [
        "#demonstrate nesting concantenation of string\n",
        "x=float(input('what is your name ?'))\n",
        "y=float(input('what is my name ?'))\n",
        "#print sum\n",
        "z=x+y\n",
        "print(z, sep= \" \")\n"
      ],
      "metadata": {
        "colab": {
          "base_uri": "https://localhost:8080/"
        },
        "id": "f4hK8zIUY29n",
        "outputId": "b7d7b051-d947-425d-8de1-33f39194c962"
      },
      "execution_count": 45,
      "outputs": [
        {
          "output_type": "stream",
          "name": "stdout",
          "text": [
            "what is your name ?2.0\n",
            "what is my name ?1.2\n",
            "3.2\n"
          ]
        }
      ]
    },
    {
      "cell_type": "code",
      "source": [
        "#demonstrate nesting concantenation of string\n",
        "x=float(input('what is your name ?'))\n",
        "y=float(input('what is my name ?'))\n",
        "#print sum\n",
        "z=x+y\n",
        "print(round(z))"
      ],
      "metadata": {
        "colab": {
          "base_uri": "https://localhost:8080/"
        },
        "id": "PUWdfENBZKOX",
        "outputId": "81a5116c-5280-4a1f-e52a-c786fa76e8c7"
      },
      "execution_count": 46,
      "outputs": [
        {
          "output_type": "stream",
          "name": "stdout",
          "text": [
            "what is your name ?22\n",
            "what is my name ?3.56666\n",
            "26\n"
          ]
        }
      ]
    },
    {
      "cell_type": "code",
      "source": [
        "#demonstrate nesting concantenation of string\n",
        "x=float(input('what is your name ?'))\n",
        "y=float(input('what is my name ?'))\n",
        "#print sum\n",
        "z=x+y\n",
        "print(f'{z:,.2f}')"
      ],
      "metadata": {
        "colab": {
          "base_uri": "https://localhost:8080/"
        },
        "id": "Z3gah6YUZnJo",
        "outputId": "f1ce9845-54da-4c8c-a549-602e0756b515"
      },
      "execution_count": 50,
      "outputs": [
        {
          "output_type": "stream",
          "name": "stdout",
          "text": [
            "what is your name ?9.8888\n",
            "what is my name ?7.7777\n",
            "17.67\n"
          ]
        }
      ]
    },
    {
      "cell_type": "code",
      "source": [
        "#demonstrate nesting concantenation of string\n",
        "x=float(input('what is your name ?'))\n",
        "y=float(input('what is my name ?'))\n",
        "#print sum\n",
        "z=x/y\n",
        "print(round(z),2)"
      ],
      "metadata": {
        "colab": {
          "base_uri": "https://localhost:8080/"
        },
        "id": "LJdhPTSfasGf",
        "outputId": "a3eb8e8f-98d5-424a-9529-01e320c0301e"
      },
      "execution_count": 51,
      "outputs": [
        {
          "output_type": "stream",
          "name": "stdout",
          "text": [
            "what is your name ?3.4444\n",
            "what is my name ?6.777\n",
            "1 2\n"
          ]
        }
      ]
    },
    {
      "cell_type": "code",
      "source": [
        "#define a function\n",
        "def hello ():\n",
        "  print('hello')\n",
        "name= input('what is your name ?')\n",
        "# call a function\n",
        "hello()\n",
        "print(name)"
      ],
      "metadata": {
        "colab": {
          "base_uri": "https://localhost:8080/"
        },
        "id": "5vxAlzUEbDVy",
        "outputId": "6847e4fa-8e7d-4a9c-f3d3-b313b7b7db2b"
      },
      "execution_count": 52,
      "outputs": [
        {
          "output_type": "stream",
          "name": "stdout",
          "text": [
            "what is your name ?sekhar\n",
            "hello\n",
            "sekhar\n"
          ]
        }
      ]
    },
    {
      "cell_type": "code",
      "source": [
        "# demonstrate a function with a parameter\n",
        "def hello(to):\n",
        "  print(\"hello,\",to)\n",
        "name= input('what is your name')\n",
        "hello(name)"
      ],
      "metadata": {
        "colab": {
          "base_uri": "https://localhost:8080/"
        },
        "id": "MwBNkdiPb-aZ",
        "outputId": "848cd809-7583-4ff3-ba14-e77601976360"
      },
      "execution_count": 55,
      "outputs": [
        {
          "output_type": "stream",
          "name": "stdout",
          "text": [
            "what is your namesekhar\n",
            "hello, sekhar\n"
          ]
        }
      ]
    },
    {
      "cell_type": "code",
      "source": [
        "#\\ demonstrate a function with a parameter with  a default value\n",
        "def hello(to='world'):\n",
        "  print(\"hello,\",to)\n",
        "hello()\n",
        "name= input('what is your name')\n",
        "hello(name)"
      ],
      "metadata": {
        "colab": {
          "base_uri": "https://localhost:8080/"
        },
        "id": "ASBcUmfFcxEg",
        "outputId": "b57a60db-ba90-4c2c-f162-91a529e7ece3"
      },
      "execution_count": 57,
      "outputs": [
        {
          "output_type": "stream",
          "name": "stdout",
          "text": [
            "hello, world\n",
            "what is your namesekhar\n",
            "hello, sekhar\n"
          ]
        }
      ]
    },
    {
      "cell_type": "code",
      "source": [
        "#define a main function\n",
        "def main():\n",
        "  name=input('what is your name ?')\n",
        "  hello(name)\n",
        "def hello(to='world'):\n",
        "  print('hello ,',to)\n",
        "main()"
      ],
      "metadata": {
        "colab": {
          "base_uri": "https://localhost:8080/"
        },
        "id": "A55Ew_k4dfPi",
        "outputId": "22187fc6-3454-43d1-95d5-94b100fa20b9"
      },
      "execution_count": 58,
      "outputs": [
        {
          "output_type": "stream",
          "name": "stdout",
          "text": [
            "what is your name ?sekhar\n",
            "hello , sekhar\n"
          ]
        }
      ]
    },
    {
      "cell_type": "code",
      "source": [
        "#define a main function\n",
        "def main():\n",
        "  name=input('what is your name ?')\n",
        "  hello(name)\n",
        "def hello(to='world'):\n",
        "  print('hello ,',to)\n",
        "if __name__  ==  \"__main__\":\n",
        "   main()"
      ],
      "metadata": {
        "colab": {
          "base_uri": "https://localhost:8080/"
        },
        "id": "VQklcprihP6O",
        "outputId": "09f3f281-60d2-4b53-aa85-29b9801d32c6"
      },
      "execution_count": 65,
      "outputs": [
        {
          "output_type": "stream",
          "name": "stdout",
          "text": [
            "what is your name ?sekhar\n",
            "hello , sekhar\n"
          ]
        }
      ]
    },
    {
      "cell_type": "code",
      "source": [
        "#demonstrate a function with return value\n",
        "def main():\n",
        "  x=int(input('what is x?'))\n",
        "  print('x square is',square(x))\n",
        "def square(n):\n",
        "  return n*n\n",
        "main()\n"
      ],
      "metadata": {
        "colab": {
          "base_uri": "https://localhost:8080/"
        },
        "id": "OorF1JxQi7AD",
        "outputId": "e106be3e-a4ab-4876-e5a6-1962e1e7709e"
      },
      "execution_count": 66,
      "outputs": [
        {
          "output_type": "stream",
          "name": "stdout",
          "text": [
            "what is x?4\n",
            "x square is 16\n"
          ]
        }
      ]
    }
  ]
}