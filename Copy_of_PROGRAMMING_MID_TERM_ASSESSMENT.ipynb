{
  "nbformat": 4,
  "nbformat_minor": 0,
  "metadata": {
    "colab": {
      "provenance": [],
      "authorship_tag": "ABX9TyM0nW0aW9+ft6ES4RUkks4X",
      "include_colab_link": true
    },
    "kernelspec": {
      "name": "python3",
      "display_name": "Python 3"
    },
    "language_info": {
      "name": "python"
    }
  },
  "cells": [
    {
      "cell_type": "markdown",
      "metadata": {
        "id": "view-in-github",
        "colab_type": "text"
      },
      "source": [
        "<a href=\"https://colab.research.google.com/github/Subhranshu-123/BIKE2/blob/main/Copy_of_PROGRAMMING_MID_TERM_ASSESSMENT.ipynb\" target=\"_parent\"><img src=\"https://colab.research.google.com/assets/colab-badge.svg\" alt=\"Open In Colab\"/></a>"
      ]
    },
    {
      "cell_type": "markdown",
      "source": [
        "A.PYTHON BASICS(LIST,TUPLE,DICTIONARIES)"
      ],
      "metadata": {
        "id": "KujxShOvLyva"
      }
    },
    {
      "cell_type": "code",
      "source": [
        "# Create a list of 10 integers\n",
        "numbers = [1, 2, 3, 4, 5, 6, 7, 8, 9, 10]\n",
        "\n",
        "# Calculate and print sum\n",
        "print(f\"Sum: {sum(numbers)}\")\n",
        "\n",
        "# Calculate and print average\n",
        "print(f\"Average: {sum(numbers) / len(numbers)}\")\n",
        "\n",
        "# Calculate and print maximum\n",
        "print(f\"Maximum: {max(numbers)}\")\n",
        "\n",
        "# Calculate and print minimum\n",
        "print(f\"Minimum: {min(numbers)}\")"
      ],
      "metadata": {
        "colab": {
          "base_uri": "https://localhost:8080/"
        },
        "id": "Fd80FAeoK_4i",
        "outputId": "c9726013-9f6b-4b1c-f971-96e448139dae"
      },
      "execution_count": null,
      "outputs": [
        {
          "output_type": "stream",
          "name": "stdout",
          "text": [
            "Sum: 55\n",
            "Average: 5.5\n",
            "Maximum: 10\n",
            "Minimum: 1\n"
          ]
        }
      ]
    },
    {
      "cell_type": "markdown",
      "source": [],
      "metadata": {
        "id": "bj-yk9nELwLr"
      }
    },
    {
      "cell_type": "code",
      "source": [
        "# Create a tuple of 5 city names\n",
        "city_names = (\"London\", \"Paris\", \"Rome\", \"Tokyo\", \"Berlin\")\n",
        "\n",
        "# Print the tuple in reverse order using slicing\n",
        "print(f\"Original Tuple: {city_names}\")\n",
        "print(f\"Reversed Tuple: {city_names[::-1]}\")\n"
      ],
      "metadata": {
        "colab": {
          "base_uri": "https://localhost:8080/"
        },
        "id": "czeS2CIuLH_G",
        "outputId": "4b048ee6-8270-47e6-eec9-b3a711ec41ef"
      },
      "execution_count": null,
      "outputs": [
        {
          "output_type": "stream",
          "name": "stdout",
          "text": [
            "Original Tuple: ('London', 'Paris', 'Rome', 'Tokyo', 'Berlin')\n",
            "Reversed Tuple: ('Berlin', 'Tokyo', 'Rome', 'Paris', 'London')\n"
          ]
        }
      ]
    },
    {
      "cell_type": "code",
      "source": [
        "# Create a list with duplicate numbers\n",
        "numbers_with_duplicates = [10, 20, 10, 30, 40, 20, 50, 40]\n",
        "\n",
        "# Convert the list to a set to remove duplicates (sets store only unique elements)\n",
        "unique_numbers_set = set(numbers_with_duplicates)\n",
        "\n",
        "# Convert the set back to a list (optional, if you need a list as output)\n",
        "unique_numbers_list = list(unique_numbers_set)\n",
        "\n",
        "print(f\"Original List: {numbers_with_duplicates}\")\n",
        "print(f\"List with Duplicates Removed: {unique_numbers_list}\")"
      ],
      "metadata": {
        "colab": {
          "base_uri": "https://localhost:8080/"
        },
        "id": "eWdSKSOxLNri",
        "outputId": "f93d2576-339d-4532-a91a-00b2b930e528"
      },
      "execution_count": null,
      "outputs": [
        {
          "output_type": "stream",
          "name": "stdout",
          "text": [
            "Original List: [10, 20, 10, 30, 40, 20, 50, 40]\n",
            "List with Duplicates Removed: [40, 10, 50, 20, 30]\n"
          ]
        }
      ]
    },
    {
      "cell_type": "markdown",
      "source": [],
      "metadata": {
        "id": "LiO6Y90NLuiM"
      }
    },
    {
      "cell_type": "code",
      "source": [
        "# Create a dictionary of student names and marks\n",
        "student_marks = {\n",
        "    \"Alice\": 85,\n",
        "    \"Bob\": 92,\n",
        "    \"Charlie\": 78,\n",
        "    \"David\": 92,\n",
        "    \"Eve\": 89,\n",
        "}\n",
        "\n",
        "# Find the student(s) with the highest marks\n",
        "max_marks = 0\n",
        "highest_achievers = []\n",
        "\n",
        "for student, marks in student_marks.items():\n",
        "    if marks > max_marks:\n",
        "        max_marks = marks\n",
        "        highest_achievers = [student]  # Start a new list if a new max is found\n",
        "    elif marks == max_marks:\n",
        "        highest_achievers.append(student)  # Add to existing list if marks are tied\n",
        "\n",
        "print(f\"Student Marks: {student_marks}\")\n",
        "print(f\"Student(s) with the highest marks: {highest_achievers}\")\n"
      ],
      "metadata": {
        "colab": {
          "base_uri": "https://localhost:8080/"
        },
        "id": "tXfuvyIPLWoB",
        "outputId": "c4d4891e-1acb-4280-b1a9-0a274a056a9c"
      },
      "execution_count": null,
      "outputs": [
        {
          "output_type": "stream",
          "name": "stdout",
          "text": [
            "Student Marks: {'Alice': 85, 'Bob': 92, 'Charlie': 78, 'David': 92, 'Eve': 89}\n",
            "Student(s) with the highest marks: ['Bob', 'David']\n"
          ]
        }
      ]
    },
    {
      "cell_type": "code",
      "source": [
        "# Define the string\n",
        "my_string = \"programming\"\n",
        "\n",
        "# Create an empty dictionary to store character frequencies\n",
        "char_frequency = {}\n",
        "\n",
        "# Iterate through each character in the string\n",
        "for char in my_string:\n",
        "    # If the character is already in the dictionary, increment its count\n",
        "    if char in char_frequency:\n",
        "        char_frequency[char] += 1\n",
        "    # If the character is not in the dictionary, add it with a count of 1\n",
        "    else:\n",
        "        char_frequency[char] = 1\n",
        "\n",
        "print(f\"String: '{my_string}'\")\n",
        "print(f\"Character Frequency: {char_frequency}\")\n"
      ],
      "metadata": {
        "colab": {
          "base_uri": "https://localhost:8080/"
        },
        "id": "IrL8UibULa6r",
        "outputId": "f3dfa920-69d5-4de2-f31e-58bada5aa4bb"
      },
      "execution_count": null,
      "outputs": [
        {
          "output_type": "stream",
          "name": "stdout",
          "text": [
            "String: 'programming'\n",
            "Character Frequency: {'p': 1, 'r': 2, 'o': 1, 'g': 2, 'a': 1, 'm': 2, 'i': 1, 'n': 1}\n"
          ]
        }
      ]
    },
    {
      "cell_type": "code",
      "source": [],
      "metadata": {
        "id": "G3Ogdt3YMIhM"
      },
      "execution_count": null,
      "outputs": []
    },
    {
      "cell_type": "markdown",
      "source": [
        "B.FILE OPERATION"
      ],
      "metadata": {
        "id": "l0wuuTjvMJGb"
      }
    },
    {
      "cell_type": "code",
      "execution_count": null,
      "metadata": {
        "colab": {
          "base_uri": "https://localhost:8080/"
        },
        "id": "ABmDjyE2JiIW",
        "outputId": "e95c3ae5-e906-4660-e04f-77367a55c199"
      },
      "outputs": [
        {
          "output_type": "stream",
          "name": "stdout",
          "text": [
            "File 'data.txt' created and 5 lines written.\n"
          ]
        }
      ],
      "source": [
        "# Create a text file named data.txt and write 5 lines of text into it.\n",
        "file_name = \"data.txt\"\n",
        "lines_to_write = [\n",
        "    \"This is line 1.\\n\",\n",
        "    \"This is line 2.\\n\",\n",
        "    \"This is line 3.\\n\",\n",
        "    \"This is line 4.\\n\",\n",
        "    \"This is line 5.\\n\"\n",
        "]\n",
        "\n",
        "with open(file_name, 'w') as file:\n",
        "    file.writelines(lines_to_write)\n",
        "print(f\"File '{file_name}' created and 5 lines written.\")\n"
      ]
    },
    {
      "cell_type": "code",
      "source": [
        "# Read all lines from data.txt and print them one by one.\n",
        "file_name = \"data.txt\"\n",
        "\n",
        "try:\n",
        "    with open(file_name, 'r') as file:\n",
        "        print(f\"\\nContents of '{file_name}':\")\n",
        "        for line in file:\n",
        "            print(line.strip()) # .strip() removes leading/trailing whitespace, including the newline character\n",
        "except FileNotFoundError:\n",
        "    print(f\"File '{file_name}' not found.\")\n"
      ],
      "metadata": {
        "colab": {
          "base_uri": "https://localhost:8080/"
        },
        "id": "gye3XCICJp7A",
        "outputId": "8d82af8d-1fb3-48c2-da34-aaaa92052ffe"
      },
      "execution_count": null,
      "outputs": [
        {
          "output_type": "stream",
          "name": "stdout",
          "text": [
            "\n",
            "Contents of 'data.txt':\n",
            "This is line 1.\n",
            "This is line 2.\n",
            "This is line 3.\n",
            "This is line 4.\n",
            "This is line 5.\n"
          ]
        }
      ]
    },
    {
      "cell_type": "code",
      "source": [
        "# Modify the program above to count the number of words in data.txt.\n",
        "file_name = \"data.txt\"\n",
        "word_count = 0\n",
        "\n",
        "try:\n",
        "    with open(file_name, 'r') as file:\n",
        "        content = file.read()\n",
        "        words = content.lower().split() # Split by whitespace and convert to lowercase for accurate counting\n",
        "        word_count = len(words)\n",
        "    print(f\"\\nTotal number of words in '{file_name}': {word_count}\")\n",
        "except FileNotFoundError:\n",
        "    print(f\"File '{file_name}' not found.\")\n"
      ],
      "metadata": {
        "colab": {
          "base_uri": "https://localhost:8080/"
        },
        "id": "VtQokCJlJu5r",
        "outputId": "6b7f8ae2-cdf6-457a-8274-f01491fd08ee"
      },
      "execution_count": null,
      "outputs": [
        {
          "output_type": "stream",
          "name": "stdout",
          "text": [
            "\n",
            "Total number of words in 'data.txt': 20\n"
          ]
        }
      ]
    },
    {
      "cell_type": "code",
      "source": [
        "# Write a program that reads a file and counts how many times a given word (e.g., 'Python') appears in it.\n",
        "file_name = \"data.txt\"\n",
        "target_word = \"Python\"\n",
        "occurrence_count = 0\n",
        "\n",
        "try:\n",
        "    with open(file_name, 'r') as file:\n",
        "        content = file.read().lower() # Read and convert to lowercase for case-insensitive search\n",
        "        occurrence_count = content.count(target_word.lower())\n",
        "    print(f\"\\nThe word '{target_word}' appears {occurrence_count} times in '{file_name}'.\")\n",
        "except FileNotFoundError:\n",
        "    print(f\"File '{file_name}' not found.\")\n"
      ],
      "metadata": {
        "colab": {
          "base_uri": "https://localhost:8080/"
        },
        "id": "MHx1IGdlJyy7",
        "outputId": "ca606e1f-19f9-43f2-c8d4-88c5f2e710b3"
      },
      "execution_count": null,
      "outputs": [
        {
          "output_type": "stream",
          "name": "stdout",
          "text": [
            "\n",
            "The word 'Python' appears 0 times in 'data.txt'.\n"
          ]
        }
      ]
    },
    {
      "cell_type": "code",
      "source": [
        "# Write a Python program that copies the contents of one file into another file.\n",
        "import shutil\n",
        "\n",
        "source_file = \"data.txt\"\n",
        "destination_file = \"data_copy.txt\"\n",
        "\n",
        "try:\n",
        "    shutil.copyfile(source_file, destination_file)\n",
        "    print(f\"\\nContents of '{source_file}' copied to '{destination_file}'.\")\n",
        "except FileNotFoundError:\n",
        "    print(f\"Source file '{source_file}' not found.\")\n"
      ],
      "metadata": {
        "colab": {
          "base_uri": "https://localhost:8080/"
        },
        "id": "rsfR2L-_J22H",
        "outputId": "c8608cb0-2a2e-4d3c-db76-84471ef3dbb5"
      },
      "execution_count": null,
      "outputs": [
        {
          "output_type": "stream",
          "name": "stdout",
          "text": [
            "\n",
            "Contents of 'data.txt' copied to 'data_copy.txt'.\n"
          ]
        }
      ]
    },
    {
      "cell_type": "markdown",
      "source": [
        "C.NUMPY"
      ],
      "metadata": {
        "id": "61a8KbrxMPde"
      }
    },
    {
      "cell_type": "code",
      "source": [
        "# Write a NumPy program to create a 1D array of numbers from 1 to 20 and print only the even numbers.\n",
        "import numpy as np\n",
        "\n",
        "# Create a 1D array of numbers from 1 to 20\n",
        "arr = np.arange(1, 21)\n",
        "\n",
        "# Print only the even numbers\n",
        "even_numbers = arr[arr % 2 == 0]\n",
        "print(f\"\\nEven numbers from 1 to 20: {even_numbers}\")\n"
      ],
      "metadata": {
        "colab": {
          "base_uri": "https://localhost:8080/"
        },
        "id": "S1Tf6zSfJ3Ax",
        "outputId": "9ad2790a-7be9-4771-b671-f4b8df58bc1f"
      },
      "execution_count": null,
      "outputs": [
        {
          "output_type": "stream",
          "name": "stdout",
          "text": [
            "\n",
            "Even numbers from 1 to 20: [ 2  4  6  8 10 12 14 16 18 20]\n"
          ]
        }
      ]
    },
    {
      "cell_type": "code",
      "source": [
        "# Create a 3x3 NumPy array filled with random integers between 1 and 50. Find the maximum and minimum values.\n",
        "import numpy as np\n",
        "\n",
        "# Create a 3x3 array with random integers between 1 and 50\n",
        "random_array = np.random.randint(1, 51, size=(3, 3))\n",
        "print(f\"\\n3x3 Random Array:\\n{random_array}\")\n",
        "\n",
        "# Find maximum and minimum values\n",
        "max_value = random_array.max()\n",
        "min_value = random_array.min()\n",
        "print(f\"Maximum value: {max_value}\")\n",
        "print(f\"Minimum value: {min_value}\")\n"
      ],
      "metadata": {
        "colab": {
          "base_uri": "https://localhost:8080/"
        },
        "id": "Yve8XkFhKBIv",
        "outputId": "85c8ef8a-2a3b-4a7a-8725-f9ce396d7df9"
      },
      "execution_count": null,
      "outputs": [
        {
          "output_type": "stream",
          "name": "stdout",
          "text": [
            "\n",
            "3x3 Random Array:\n",
            "[[34  3  8]\n",
            " [26  9 41]\n",
            " [48 18 49]]\n",
            "Maximum value: 49\n",
            "Minimum value: 3\n"
          ]
        }
      ]
    },
    {
      "cell_type": "code",
      "source": [
        "# Create a NumPy array of shape (2, 4). Print its transpose and reshape it into (4, 2).\n",
        "import numpy as np\n",
        "\n",
        "# Create a NumPy array of shape (2, 4)\n",
        "original_array = np.array([[1, 2, 3, 4], [5, 6, 7, 8]])\n",
        "print(f\"\\nOriginal Array (2, 4):\\n{original_array}\")\n",
        "\n",
        "# Print its transpose\n",
        "transposed_array = original_array.T\n",
        "print(f\"Transposed Array (4, 2):\\n{transposed_array}\")\n",
        "\n",
        "# Reshape it into (4, 2)\n",
        "reshaped_array = original_array.reshape(4, 2)\n",
        "print(f\"Reshaped Array (4, 2):\\n{reshaped_array}\")\n"
      ],
      "metadata": {
        "colab": {
          "base_uri": "https://localhost:8080/"
        },
        "id": "gNeM9nmTKEX8",
        "outputId": "23357698-4168-4a9c-f1f9-d36237e938c8"
      },
      "execution_count": null,
      "outputs": [
        {
          "output_type": "stream",
          "name": "stdout",
          "text": [
            "\n",
            "Original Array (2, 4):\n",
            "[[1 2 3 4]\n",
            " [5 6 7 8]]\n",
            "Transposed Array (4, 2):\n",
            "[[1 5]\n",
            " [2 6]\n",
            " [3 7]\n",
            " [4 8]]\n",
            "Reshaped Array (4, 2):\n",
            "[[1 2]\n",
            " [3 4]\n",
            " [5 6]\n",
            " [7 8]]\n"
          ]
        }
      ]
    },
    {
      "cell_type": "code",
      "source": [
        "# Write a NumPy program to multiply two 3x3 matrices.\n",
        "import numpy as np\n",
        "\n",
        "# Define two 3x3 matrices\n",
        "matrix_a = np.array([[1, 2, 3],\n",
        "                     [4, 5, 6],\n",
        "                     [7, 8, 9]])\n",
        "\n",
        "matrix_b = np.array([[9, 8, 7],\n",
        "                     [6, 5, 4],\n",
        "                     [3, 2, 1]])\n",
        "\n",
        "print(f\"\\nMatrix A:\\n{matrix_a}\")\n",
        "print(f\"Matrix B:\\n{matrix_b}\")\n",
        "\n",
        "# Multiply the two matrices\n",
        "result_matrix = np.dot(matrix_a, matrix_b)\n",
        "print(f\"Result of Matrix Multiplication:\\n{result_matrix}\")\n"
      ],
      "metadata": {
        "colab": {
          "base_uri": "https://localhost:8080/"
        },
        "id": "ZWk-guWmKHsI",
        "outputId": "8dcb14bc-b422-4af5-dfb8-d1a4a06f35d3"
      },
      "execution_count": null,
      "outputs": [
        {
          "output_type": "stream",
          "name": "stdout",
          "text": [
            "\n",
            "Matrix A:\n",
            "[[1 2 3]\n",
            " [4 5 6]\n",
            " [7 8 9]]\n",
            "Matrix B:\n",
            "[[9 8 7]\n",
            " [6 5 4]\n",
            " [3 2 1]]\n",
            "Result of Matrix Multiplication:\n",
            "[[ 30  24  18]\n",
            " [ 84  69  54]\n",
            " [138 114  90]]\n"
          ]
        }
      ]
    },
    {
      "cell_type": "code",
      "source": [
        "# Write a NumPy program to compute the mean, median, and standard deviation of a random array of 10 integers.\n",
        "import numpy as np\n",
        "\n",
        "# Create a random array of 10 integers (e.g., between 1 and 100)\n",
        "random_integers = np.random.randint(1, 101, size=10)\n",
        "print(f\"\\nRandom Array of 10 Integers: {random_integers}\")\n",
        "\n",
        "# Compute mean, median, and standard deviation\n",
        "mean_value = np.mean(random_integers)\n",
        "median_value = np.median(random_integers)\n",
        "std_dev_value = np.std(random_integers)\n",
        "\n",
        "print(f\"Mean: {mean_value}\")\n",
        "print(f\"Median: {median_value}\")\n",
        "print(f\"Standard Deviation: {std_dev_value}\")\n"
      ],
      "metadata": {
        "colab": {
          "base_uri": "https://localhost:8080/"
        },
        "id": "7MWXD3UTKLNy",
        "outputId": "d86f634f-abb7-428a-c69d-a81e39c131eb"
      },
      "execution_count": null,
      "outputs": [
        {
          "output_type": "stream",
          "name": "stdout",
          "text": [
            "\n",
            "Random Array of 10 Integers: [24 28  5 13 20 79 59 67 51 13]\n",
            "Mean: 35.9\n",
            "Median: 26.0\n",
            "Standard Deviation: 24.59044529893674\n"
          ]
        }
      ]
    },
    {
      "cell_type": "markdown",
      "source": [
        "D.PANDAS"
      ],
      "metadata": {
        "id": "ZTJZS11zMUHW"
      }
    },
    {
      "cell_type": "code",
      "source": [
        "import pandas as pd\n",
        "\n",
        "# Create a list of 10 integers\n",
        "my_list = [15, 22, 8, 30, 5, 12, 28, 10, 18, 25]\n",
        "\n",
        "# Convert the list to a Pandas Series\n",
        "s = pd.Series(my_list)\n",
        "\n",
        "# Calculate sum, average, maximum, and minimum\n",
        "list_sum = s.sum()\n",
        "list_average = s.mean()\n",
        "list_maximum = s.max()\n",
        "list_minimum = s.min()\n",
        "\n",
        "print(f\"List: {my_list}\")\n",
        "print(f\"Sum: {list_sum}\")\n",
        "print(f\"Average: {list_average}\")\n",
        "print(f\"Maximum: {list_maximum}\")\n",
        "print(f\"Minimum: {list_minimum}\")\n"
      ],
      "metadata": {
        "colab": {
          "base_uri": "https://localhost:8080/"
        },
        "id": "3AJmmZqjKQ_O",
        "outputId": "d8155391-1907-4c92-da79-59d0279c62bf"
      },
      "execution_count": null,
      "outputs": [
        {
          "output_type": "stream",
          "name": "stdout",
          "text": [
            "List: [15, 22, 8, 30, 5, 12, 28, 10, 18, 25]\n",
            "Sum: 173\n",
            "Average: 17.3\n",
            "Maximum: 30\n",
            "Minimum: 5\n"
          ]
        }
      ]
    },
    {
      "cell_type": "code",
      "source": [
        "import pandas as pd\n",
        "\n",
        "# Create a tuple of 5 city names\n",
        "city_tuple = (\"London\", \"Paris\", \"Rome\", \"Tokyo\", \"Berlin\")\n",
        "\n",
        "# Convert the tuple to a Pandas Series\n",
        "s_cities = pd.Series(city_tuple)\n",
        "\n",
        "# Reverse the Series using slicing and convert back to tuple for output clarity\n",
        "reversed_cities_series = s_cities[::-1]\n",
        "\n",
        "print(f\"Original Tuple: {city_tuple}\")\n",
        "print(f\"Reversed Cities (as Pandas Series): {reversed_cities_series}\")\n"
      ],
      "metadata": {
        "colab": {
          "base_uri": "https://localhost:8080/"
        },
        "id": "UGzfyur3KWvE",
        "outputId": "986db57d-00dc-47ea-a2bf-de20adfc5f6d"
      },
      "execution_count": null,
      "outputs": [
        {
          "output_type": "stream",
          "name": "stdout",
          "text": [
            "Original Tuple: ('London', 'Paris', 'Rome', 'Tokyo', 'Berlin')\n",
            "Reversed Cities (as Pandas Series): 4    Berlin\n",
            "3     Tokyo\n",
            "2      Rome\n",
            "1     Paris\n",
            "0    London\n",
            "dtype: object\n"
          ]
        }
      ]
    },
    {
      "cell_type": "code",
      "source": [
        "import pandas as pd\n",
        "\n",
        "# Create a list with duplicate numbers\n",
        "numbers_with_duplicates = [10, 20, 10, 30, 40, 20, 50, 40]\n",
        "\n",
        "# Convert the list to a Pandas Series and then remove duplicates\n",
        "s_unique = pd.Series(numbers_with_duplicates).drop_duplicates()\n",
        "\n",
        "# Convert back to a list if required for output format\n",
        "unique_numbers_list = s_unique.tolist()\n",
        "\n",
        "print(f\"Original List: {numbers_with_duplicates}\")\n",
        "print(f\"List with Duplicates Removed (using Pandas): {unique_numbers_list}\")\n"
      ],
      "metadata": {
        "colab": {
          "base_uri": "https://localhost:8080/"
        },
        "id": "ynywt7CTKcCi",
        "outputId": "fa02d90c-2502-4a9e-e531-b2d42ee20f5b"
      },
      "execution_count": null,
      "outputs": [
        {
          "output_type": "stream",
          "name": "stdout",
          "text": [
            "Original List: [10, 20, 10, 30, 40, 20, 50, 40]\n",
            "List with Duplicates Removed (using Pandas): [10, 20, 30, 40, 50]\n"
          ]
        }
      ]
    },
    {
      "cell_type": "code",
      "source": [
        "import pandas as pd\n",
        "\n",
        "# Create a dictionary of student names and marks\n",
        "student_marks_dict = {\n",
        "    \"Alice\": 85,\n",
        "    \"Bob\": 92,\n",
        "    \"Charlie\": 78,\n",
        "    \"David\": 92,\n",
        "    \"Eve\": 89,\n",
        "}\n",
        "\n",
        "# Convert the dictionary to a Pandas DataFrame\n",
        "df_students = pd.DataFrame(\n",
        "    list(student_marks_dict.items()), columns=[\"Student Name\", \"Marks\"]\n",
        ")\n",
        "\n",
        "# Find the student(s) with the highest marks\n",
        "highest_marks = df_students[\"Marks\"].max()\n",
        "students_with_highest_marks = df_students[\n",
        "    df_students[\"Marks\"] == highest_marks\n",
        "][\"Student Name\"].tolist()\n",
        "\n",
        "print(f\"Student Marks: {student_marks_dict}\")\n",
        "print(f\"Student(s) with the highest marks: {students_with_highest_marks}\")\n"
      ],
      "metadata": {
        "colab": {
          "base_uri": "https://localhost:8080/"
        },
        "id": "bSCky4qqKjPl",
        "outputId": "baa24ac9-6ca9-44e6-9c32-8b1aac8d2bc9"
      },
      "execution_count": null,
      "outputs": [
        {
          "output_type": "stream",
          "name": "stdout",
          "text": [
            "Student Marks: {'Alice': 85, 'Bob': 92, 'Charlie': 78, 'David': 92, 'Eve': 89}\n",
            "Student(s) with the highest marks: ['Bob', 'David']\n"
          ]
        }
      ]
    },
    {
      "cell_type": "code",
      "source": [
        "import pandas as pd\n",
        "\n",
        "# Define the string\n",
        "my_string = \"programming\"\n",
        "\n",
        "# Convert the string into a list of characters and then to a Pandas Series\n",
        "s_chars = pd.Series(list(my_string))\n",
        "\n",
        "# Count the frequency of each character\n",
        "char_frequency = s_chars.value_counts()\n",
        "\n",
        "print(f\"String: '{my_string}'\")\n",
        "print(f\"Character Frequency (as Pandas Series):\\n{char_frequency}\")\n"
      ],
      "metadata": {
        "colab": {
          "base_uri": "https://localhost:8080/"
        },
        "id": "B0ZI0aVYKoZ8",
        "outputId": "37d53018-2660-4120-a053-9fcfab9cd1f1"
      },
      "execution_count": null,
      "outputs": [
        {
          "output_type": "stream",
          "name": "stdout",
          "text": [
            "String: 'programming'\n",
            "Character Frequency (as Pandas Series):\n",
            "r    2\n",
            "g    2\n",
            "m    2\n",
            "p    1\n",
            "o    1\n",
            "a    1\n",
            "i    1\n",
            "n    1\n",
            "Name: count, dtype: int64\n"
          ]
        }
      ]
    }
  ]
}