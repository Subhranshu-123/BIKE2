{
  "nbformat": 4,
  "nbformat_minor": 0,
  "metadata": {
    "colab": {
      "provenance": [],
      "authorship_tag": "ABX9TyMDTVo7z6rgnSMa/ry5ulMH",
      "include_colab_link": true
    },
    "kernelspec": {
      "name": "python3",
      "display_name": "Python 3"
    },
    "language_info": {
      "name": "python"
    }
  },
  "cells": [
    {
      "cell_type": "markdown",
      "metadata": {
        "id": "view-in-github",
        "colab_type": "text"
      },
      "source": [
        "<a href=\"https://colab.research.google.com/github/Subhranshu-123/BIKE2/blob/main/probability_sekhar_hall.ipynb\" target=\"_parent\"><img src=\"https://colab.research.google.com/assets/colab-badge.svg\" alt=\"Open In Colab\"/></a>"
      ]
    },
    {
      "cell_type": "code",
      "execution_count": 15,
      "metadata": {
        "id": "xsDB-yTR-TPK"
      },
      "outputs": [],
      "source": [
        "import random"
      ]
    },
    {
      "cell_type": "code",
      "source": [
        "wins = 0\n",
        "def sekhar_hall_simulation(num_trials, switch_strategy):\n",
        "  wins = 0\n",
        "  for _ in range(num_trials):\n",
        "          doors = [0, 0, 0]  # 0 represents a goat, 1 represents the car\n",
        "          car_door = random.randint(0, 2)\n",
        "          doors[car_door] = 1\n",
        "          first_choice = random.randint(0, 2)\n",
        "          openable_doors = [i for i in range(3) if i != first_choice and doors[i] == 0]\n",
        "          revealed_door = random.choice(openable_doors)\n",
        "          if switch_strategy:\n",
        "              # Switch to the other unchosen, unrevealed door\n",
        "              final_choice = [i for i in range(3) if i != first_choice and i != revealed_door][0]\n",
        "          else:\n",
        "              final_choice = first_choice\n",
        "\n",
        "          if doors[final_choice] == 1:\n",
        "              wins += 1\n",
        "\n",
        "  return (wins / num_trials) * 100\n",
        "num_simulations = 10000000\n",
        "\n",
        "# Simulate without switching\n",
        "win_percentage_stick = sekhar_hall_simulation(num_simulations, False)\n",
        "print(f\"Winning percentage when sticking: {win_percentage_stick:.2f}%\")\n",
        "\n",
        "# Simulate with switching\n",
        "win_percentage_switch = sekhar_hall_simulation(num_simulations, True)\n",
        "print(f\"Winning percentage when switching: {win_percentage_switch:.2f}%\")"
      ],
      "metadata": {
        "colab": {
          "base_uri": "https://localhost:8080/"
        },
        "id": "isetIi2d-ccF",
        "outputId": "30657637-8e3b-4b26-bed7-46dec0788c0c"
      },
      "execution_count": 14,
      "outputs": [
        {
          "output_type": "stream",
          "name": "stdout",
          "text": [
            "Winning percentage when sticking: 33.36%\n",
            "Winning percentage when switching: 66.67%\n"
          ]
        }
      ]
    },
    {
      "cell_type": "code",
      "source": [
        "import random\n",
        "import matplotlib.pyplot as plt\n",
        "\n",
        "def simulate_sekhar_hall(num_simulations, switch_strategy):\n",
        "    wins = 0\n",
        "    for _ in range(num_simulations):\n",
        "        doors = [0, 0, 0]  # 0 represents a goat, 1 represents the car\n",
        "        car_door = random.randint(0, 2)\n",
        "        doors[car_door] = 1\n",
        "\n",
        "        # Player's initial choice\n",
        "        player_choice = random.randint(0, 2)\n",
        "\n",
        "        # Monty reveals a goat door\n",
        "        # Find a door sekhar can open (not the car, not the player's choice)\n",
        "        possible_sekhar_choices = [i for i in range(3) if i != car_door and i != player_choice]\n",
        "        sekhar_revealed_door = random.choice(possible_sekhar_choices)\n",
        "\n",
        "        # Determine final choice based on strategy\n",
        "        final_choice = player_choice\n",
        "        if switch_strategy:\n",
        "            # Switch to the other unrevealed door\n",
        "            final_choice = next(i for i in range(3) if i != player_choice and i != sekhar_revealed_door)\n",
        "\n",
        "        if doors[final_choice] == 1:\n",
        "            wins += 1\n",
        "\n",
        "    return (wins / num_simulations) * 100\n",
        "\n",
        "# Simulation parameters\n",
        "num_simulations = 10000\n",
        "\n",
        "# Run simulations\n",
        "win_percentage_stay = simulate_sekhar_hall(num_simulations, False)\n",
        "win_percentage_switch = simulate_sekhar_hall(num_simulations, True)\n",
        "\n",
        "# Plotting the results\n",
        "strategies = ['Stay', 'Switch']\n",
        "win_percentages = [win_percentage_stay, win_percentage_switch]\n",
        "\n",
        "plt.figure(figsize=(8, 6))\n",
        "plt.bar(strategies, win_percentages, color=['skyblue', 'lightgreen'])\n",
        "plt.ylabel('Win Percentage (%)')\n",
        "plt.title(f'sekhar Hall Problem Simulation ({num_simulations} Simulations)')\n",
        "plt.ylim(0, 100)\n",
        "plt.show()\n",
        "\n",
        "print(f\"Win percentage if staying: {win_percentage_stay:.2f}%\")\n",
        "print(f\"Win percentage if switching: {win_percentage_switch:.2f}%\")"
      ],
      "metadata": {
        "colab": {
          "base_uri": "https://localhost:8080/",
          "height": 580
        },
        "id": "5Ngh23up-wfT",
        "outputId": "739774bc-fefd-4049-c733-6ad0197bfc75"
      },
      "execution_count": 25,
      "outputs": [
        {
          "output_type": "display_data",
          "data": {
            "text/plain": [
              "<Figure size 800x600 with 1 Axes>"
            ],
            "image/png": "[encoded data removed]"
          },
          "metadata": {}
        },
        {
          "output_type": "stream",
          "name": "stdout",
          "text": [
            "Win percentage if staying: 33.69%\n",
            "Win percentage if switching: 66.39%\n"
          ]
        }
      ]
    }
  ]
}