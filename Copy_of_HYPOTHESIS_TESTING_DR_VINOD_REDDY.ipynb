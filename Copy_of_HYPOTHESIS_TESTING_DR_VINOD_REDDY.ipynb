{
  "nbformat": 4,
  "nbformat_minor": 0,
  "metadata": {
    "colab": {
      "provenance": [],
      "authorship_tag": "ABX9TyNfHuH2d+YcWPv9PQFT5ygp",
      "include_colab_link": true
    },
    "kernelspec": {
      "name": "python3",
      "display_name": "Python 3"
    },
    "language_info": {
      "name": "python"
    }
  },
  "cells": [
    {
      "cell_type": "markdown",
      "metadata": {
        "id": "view-in-github",
        "colab_type": "text"
      },
      "source": [
        "<a href=\"https://colab.research.google.com/github/Subhranshu-123/BIKE2/blob/main/Copy_of_HYPOTHESIS_TESTING_DR_VINOD_REDDY.ipynb\" target=\"_parent\"><img src=\"https://colab.research.google.com/assets/colab-badge.svg\" alt=\"Open In Colab\"/></a>"
      ]
    },
    {
      "cell_type": "markdown",
      "source": [
        "IMPORT MODULE\n"
      ],
      "metadata": {
        "id": "0qxd1zm8YNQo"
      }
    },
    {
      "cell_type": "code",
      "execution_count": null,
      "metadata": {
        "id": "vPyYUuHlUt4n"
      },
      "outputs": [],
      "source": [
        "import pandas as pd\n",
        "from scipy import stats"
      ]
    },
    {
      "cell_type": "markdown",
      "source": [
        "LOAD DATASET"
      ],
      "metadata": {
        "id": "EsG2pgdbYSpS"
      }
    },
    {
      "cell_type": "code",
      "source": [
        "\n",
        "\n",
        "# Load the dataset from the specified CSV file\n",
        "df = pd.read_csv('/content/students.csv')\n",
        "df.dropna(subset=['gender', 'weight'], inplace=True)\n",
        "\n"
      ],
      "metadata": {
        "id": "KlVlxsr8VHax"
      },
      "execution_count": null,
      "outputs": []
    },
    {
      "cell_type": "code",
      "source": [],
      "metadata": {
        "id": "_T6qC9EkV3QP"
      },
      "execution_count": null,
      "outputs": []
    },
    {
      "cell_type": "code",
      "source": [],
      "metadata": {
        "id": "WmBDq0v8Vguh"
      },
      "execution_count": null,
      "outputs": []
    },
    {
      "cell_type": "markdown",
      "source": [
        "DATA CLEANING AND PREPARATION"
      ],
      "metadata": {
        "id": "9IUx1Jy9Yeh5"
      }
    },
    {
      "cell_type": "code",
      "source": [
        "# Call the function to load and clean the data\n",
        "df = analyze_student_data('/content/students.csv')\n",
        "# Separate the data into two groups: male and female\n",
        "male_students = df[df['gender'] == 'Male']\n",
        "female_students = df[df['gender'] == 'Female']\n"
      ],
      "metadata": {
        "id": "dvAQyHZ9V4q-"
      },
      "execution_count": null,
      "outputs": []
    },
    {
      "cell_type": "markdown",
      "source": [
        "EXTRACT WEIGHT COLUMN IN EACH GROUP"
      ],
      "metadata": {
        "id": "_7to-eaYYsaN"
      }
    },
    {
      "cell_type": "markdown",
      "source": [
        "# --- Hypothesis Testing ---\n",
        "      \n",
        "        # This test will tell us if the observed difference in mean weights is statistically significant.\n",
        "\n",
        "        # Null Hypothesis (H0): There is no significant difference in the mean weight\n",
        "        # between male and female students. (mean_male_weight = mean_female_weight)\n",
        "\n",
        "        # Alternative Hypothesis (H1): There is a significant difference in the mean weight\n",
        "        # between male and female students. (mean_male_weight != mean_female_weight)\n"
      ],
      "metadata": {
        "id": "itIJrtY3ZRkk"
      }
    },
    {
      "cell_type": "code",
      "source": [
        "# Extract the 'weight' column for each group\n",
        "male_weights = male_students['weight']\n",
        "female_weights = female_students['weight']"
      ],
      "metadata": {
        "id": "GPZtm9oJWa12"
      },
      "execution_count": null,
      "outputs": []
    },
    {
      "cell_type": "markdown",
      "source": [
        "PERFORM INDEPENDENT T - TEST"
      ],
      "metadata": {
        "id": "l_WGWVJHY1B2"
      }
    },
    {
      "cell_type": "code",
      "source": [
        "# Perform the independent t-test\n",
        "t_statistic, p_value = stats.ttest_ind(male_weights, female_weights)\n"
      ],
      "metadata": {
        "id": "doGFVOuUWKlN"
      },
      "execution_count": null,
      "outputs": []
    },
    {
      "cell_type": "code",
      "source": [],
      "metadata": {
        "id": "M6KLOmdsbN4y"
      },
      "execution_count": null,
      "outputs": []
    },
    {
      "cell_type": "markdown",
      "source": [
        "RESULT AND INTERPRETATION"
      ],
      "metadata": {
        "id": "BsCFEFVNY9An"
      }
    },
    {
      "cell_type": "code",
      "source": [
        "# --- Results and Interpretation ---\n",
        "print(\"--- Hypothesis Test Results ---\")\n",
        "print(f\"T-statistic: {t_statistic:.5f}\")\n",
        "print(f\"P-value: {p_value:.5f}\")"
      ],
      "metadata": {
        "colab": {
          "base_uri": "https://localhost:8080/"
        },
        "id": "5jMQZu3oWjVO",
        "outputId": "13aefb3b-7db3-42c0-a029-96a2b3bac436"
      },
      "execution_count": null,
      "outputs": [
        {
          "output_type": "stream",
          "name": "stdout",
          "text": [
            "--- Hypothesis Test Results ---\n",
            "T-statistic: 77.56137\n",
            "P-value: 0.00000\n"
          ]
        }
      ]
    },
    {
      "cell_type": "code",
      "source": [],
      "metadata": {
        "id": "cJb_3Y28bfDI"
      },
      "execution_count": null,
      "outputs": []
    },
    {
      "cell_type": "markdown",
      "source": [
        "SET ALPHA VALUE"
      ],
      "metadata": {
        "id": "3nnGd33EZGGM"
      }
    },
    {
      "cell_type": "code",
      "source": [
        " # Set the significance level (alpha). A common choice is 0.05.\n",
        "alpha = 0.05"
      ],
      "metadata": {
        "id": "haDrzHxfWsRJ"
      },
      "execution_count": null,
      "outputs": []
    },
    {
      "cell_type": "code",
      "source": [],
      "metadata": {
        "id": "9Z5obMv7a-xh"
      },
      "execution_count": null,
      "outputs": []
    },
    {
      "cell_type": "code",
      "source": [
        "print(f\"\\nSignificance level (alpha): {alpha}\")\n"
      ],
      "metadata": {
        "colab": {
          "base_uri": "https://localhost:8080/"
        },
        "id": "nc5JGWPiW0D1",
        "outputId": "baf0e283-81a9-4c40-e2c0-6799f30114dc"
      },
      "execution_count": null,
      "outputs": [
        {
          "output_type": "stream",
          "name": "stdout",
          "text": [
            "\n",
            "Significance level (alpha): 0.05\n"
          ]
        }
      ]
    },
    {
      "cell_type": "code",
      "source": [],
      "metadata": {
        "id": "iM9te-9nbF-M"
      },
      "execution_count": null,
      "outputs": []
    },
    {
      "cell_type": "markdown",
      "source": [
        "INTERPRETE P- VALUE BASED ON RESULT"
      ],
      "metadata": {
        "id": "OAvtl9dEZlWT"
      }
    },
    {
      "cell_type": "code",
      "source": [
        "# Interpret the p-value\n",
        "if p_value < alpha:\n",
        "            print(\"\\nConclusion: We reject the null hypothesis.\")\n",
        "            print(\"There is a statistically significant difference in the mean weight between male and female students.\")\n",
        "else:\n",
        "            print(\"\\nConclusion: We fail to reject the null hypothesis.\")\n",
        "            print(\"There is not enough evidence to suggest a statistically significant difference in the mean weight between male and female students.\")\n"
      ],
      "metadata": {
        "colab": {
          "base_uri": "https://localhost:8080/"
        },
        "id": "J7GfaBzJW47F",
        "outputId": "1c41772f-f93f-4319-b63b-920fc70a0202"
      },
      "execution_count": null,
      "outputs": [
        {
          "output_type": "stream",
          "name": "stdout",
          "text": [
            "\n",
            "Conclusion: We reject the null hypothesis.\n",
            "There is a statistically significant difference in the mean weight between male and female students.\n"
          ]
        }
      ]
    },
    {
      "cell_type": "code",
      "source": [],
      "metadata": {
        "id": "-Kak12NRbpmK"
      },
      "execution_count": null,
      "outputs": []
    },
    {
      "cell_type": "markdown",
      "source": [
        "DESCRIPTIVE STATISTICS"
      ],
      "metadata": {
        "id": "I9amCBOhZrJN"
      }
    },
    {
      "cell_type": "code",
      "source": [
        "# --- Descriptive Statistics ---\n",
        "print(\"\\n--- Descriptive Statistics ---\")\n",
        "print(\"Male Student Weights:\")\n",
        "print(male_weights.describe())\n",
        "print(\"\\nFemale Student Weights:\")\n",
        "print(female_weights.describe())\n",
        "\n"
      ],
      "metadata": {
        "colab": {
          "base_uri": "https://localhost:8080/"
        },
        "id": "Pmq7SbqHXA8o",
        "outputId": "6902f818-3627-4c3f-f6a2-459270e3ae77"
      },
      "execution_count": null,
      "outputs": [
        {
          "output_type": "stream",
          "name": "stdout",
          "text": [
            "\n",
            "--- Descriptive Statistics ---\n",
            "Male Student Weights:\n",
            "count    4129.000000\n",
            "mean       78.594914\n",
            "std         7.665089\n",
            "min        56.900000\n",
            "25%        73.200000\n",
            "50%        77.900000\n",
            "75%        83.200000\n",
            "max       116.000000\n",
            "Name: weight, dtype: float64\n",
            "\n",
            "Female Student Weights:\n",
            "count    4110.000000\n",
            "mean       67.375474\n",
            "std         5.231759\n",
            "min        51.400000\n",
            "25%        63.700000\n",
            "50%        67.000000\n",
            "75%        70.600000\n",
            "max        93.800000\n",
            "Name: weight, dtype: float64\n"
          ]
        }
      ]
    },
    {
      "cell_type": "markdown",
      "source": [
        "   HYPOTHESIS TESTING\n",
        "    \n",
        "    # This test will tell us if the observed difference in mean Heights is statistically significant.\n",
        "\n",
        "    # Null Hypothesis (H0): There is no significant difference in the mean Height\n",
        "    # between male and female students. (mean_male_Height = mean_female_Height)\n",
        "\n",
        "    # Alternative Hypothesis (H1): There is a significant difference in the mean Height\n",
        "    # between male and female students. (mean_male_Height != mean_female_Height)"
      ],
      "metadata": {
        "id": "4L1aVyRwc_WH"
      }
    },
    {
      "cell_type": "markdown",
      "source": [
        "EXTRACT HEIGHT COLUMN"
      ],
      "metadata": {
        "id": "ImQp8dV0cUmq"
      }
    },
    {
      "cell_type": "code",
      "source": [],
      "metadata": {
        "id": "UK_n093vcKKV"
      },
      "execution_count": null,
      "outputs": []
    },
    {
      "cell_type": "code",
      "source": [
        "# Extract the 'height' column for each group\n",
        "male_heights = male_students['height']\n",
        "female_heights = female_students['height']"
      ],
      "metadata": {
        "id": "iPm4qg6ma0Cb"
      },
      "execution_count": null,
      "outputs": []
    },
    {
      "cell_type": "markdown",
      "source": [
        "SET ALPHA VALUE"
      ],
      "metadata": {
        "id": "ScGiBG0Kcdjl"
      }
    },
    {
      "cell_type": "code",
      "source": [
        "# Set the significance level (alpha). A common choice is 0.05.\n",
        "alpha = 0.05"
      ],
      "metadata": {
        "id": "zthkomtcbCCd"
      },
      "execution_count": null,
      "outputs": []
    },
    {
      "cell_type": "code",
      "source": [
        "print(f\"\\nSignificance level (alpha): {alpha}\")"
      ],
      "metadata": {
        "colab": {
          "base_uri": "https://localhost:8080/"
        },
        "id": "Z6nUgymYbG2c",
        "outputId": "7c10507e-4995-42ce-eba3-38825f482186"
      },
      "execution_count": null,
      "outputs": [
        {
          "output_type": "stream",
          "name": "stdout",
          "text": [
            "\n",
            "Significance level (alpha): 0.05\n"
          ]
        }
      ]
    },
    {
      "cell_type": "markdown",
      "source": [
        "PERFORM TEST TO KNOW P VALUE"
      ],
      "metadata": {
        "id": "XhI-nYAechWA"
      }
    },
    {
      "cell_type": "code",
      "source": [
        "# Perform the independent t-test\n",
        "t_statistic, p_value = stats.ttest_ind(male_heights, female_heights)\n"
      ],
      "metadata": {
        "id": "8oWbN7nqbQX2"
      },
      "execution_count": null,
      "outputs": []
    },
    {
      "cell_type": "markdown",
      "source": [
        "RESULT AND INTERPRETATION"
      ],
      "metadata": {
        "id": "FWHN4dUCcnSz"
      }
    },
    {
      "cell_type": "code",
      "source": [
        "# --- Results and Interpretation ---\n",
        "print(\"--- Hypothesis Test Results ---\")\n",
        "print(f\"T-statistic: {t_statistic:.5f}\")\n",
        "print(f\"P-value: {p_value:.5f}\")"
      ],
      "metadata": {
        "colab": {
          "base_uri": "https://localhost:8080/"
        },
        "id": "5deKZVfubgaC",
        "outputId": "852bb43a-1f17-43da-a14c-8728ad62af5f"
      },
      "execution_count": null,
      "outputs": [
        {
          "output_type": "stream",
          "name": "stdout",
          "text": [
            "--- Hypothesis Test Results ---\n",
            "T-statistic: 87.97575\n",
            "P-value: 0.00000\n"
          ]
        }
      ]
    },
    {
      "cell_type": "markdown",
      "source": [
        "PRINT RESULT"
      ],
      "metadata": {
        "id": "Gum0QnnucudO"
      }
    },
    {
      "cell_type": "code",
      "source": [
        "# Interpret the p-value\n",
        "if p_value < alpha:\n",
        "            print(\"\\nConclusion: We reject the null hypothesis.\")\n",
        "            print(\"There is a statistically significant difference in the mean height between male and female students.\")\n",
        "else:\n",
        "            print(\"\\nConclusion: We fail to reject the null hypothesis.\")\n",
        "            print(\"There is not enough evidence to suggest a statistically significant difference in the mean height between male and female students.\")\n"
      ],
      "metadata": {
        "colab": {
          "base_uri": "https://localhost:8080/"
        },
        "id": "MhSnBLkzbqY8",
        "outputId": "7e08ccd9-24ae-417a-d753-d3b2280b6909"
      },
      "execution_count": null,
      "outputs": [
        {
          "output_type": "stream",
          "name": "stdout",
          "text": [
            "\n",
            "Conclusion: We reject the null hypothesis.\n",
            "There is a statistically significant difference in the mean height between male and female students.\n"
          ]
        }
      ]
    },
    {
      "cell_type": "markdown",
      "source": [
        "DESCRIPTIVE STATISTICS OF HEIGHT"
      ],
      "metadata": {
        "id": "p_Q_GFGtcxwm"
      }
    },
    {
      "cell_type": "code",
      "source": [
        "# --- Descriptive Statistics ---\n",
        "print(\"\\n--- Descriptive Statistics ---\")\n",
        "print(\"Male Student Weights:\")\n",
        "print(male_heights.describe())\n",
        "print(\"\\nFemale Student Weights:\")\n",
        "print(female_heights.describe())\n"
      ],
      "metadata": {
        "colab": {
          "base_uri": "https://localhost:8080/"
        },
        "id": "hRT6jEsCcL-s",
        "outputId": "e5982b1a-ebfc-48c2-a600-4c2457df6f0f"
      },
      "execution_count": null,
      "outputs": [
        {
          "output_type": "stream",
          "name": "stdout",
          "text": [
            "\n",
            "--- Descriptive Statistics ---\n",
            "Male Student Weights:\n",
            "count    4129.000000\n",
            "mean      179.072657\n",
            "std         7.988852\n",
            "min       144.000000\n",
            "25%       174.000000\n",
            "50%       179.000000\n",
            "75%       184.000000\n",
            "max       206.000000\n",
            "Name: height, dtype: float64\n",
            "\n",
            "Female Student Weights:\n",
            "count    4110.000000\n",
            "mean      163.653285\n",
            "std         7.919726\n",
            "min       135.000000\n",
            "25%       158.000000\n",
            "50%       164.000000\n",
            "75%       169.000000\n",
            "max       193.000000\n",
            "Name: height, dtype: float64\n"
          ]
        }
      ]
    }
  ]
}