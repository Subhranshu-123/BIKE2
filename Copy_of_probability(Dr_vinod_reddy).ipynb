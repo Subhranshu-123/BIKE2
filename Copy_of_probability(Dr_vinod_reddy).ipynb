{
  "nbformat": 4,
  "nbformat_minor": 0,
  "metadata": {
    "colab": {
      "provenance": [],
      "authorship_tag": "ABX9TyMgMnBWG63y7wiXDsrC07+y",
      "include_colab_link": true
    },
    "kernelspec": {
      "name": "python3",
      "display_name": "Python 3"
    },
    "language_info": {
      "name": "python"
    }
  },
  "cells": [
    {
      "cell_type": "markdown",
      "metadata": {
        "id": "view-in-github",
        "colab_type": "text"
      },
      "source": [
        "<a href=\"https://colab.research.google.com/github/Subhranshu-123/BIKE2/blob/main/Copy_of_probability(Dr_vinod_reddy).ipynb\" target=\"_parent\"><img src=\"https://colab.research.google.com/assets/colab-badge.svg\" alt=\"Open In Colab\"/></a>"
      ]
    },
    {
      "cell_type": "code",
      "execution_count": null,
      "metadata": {
        "colab": {
          "base_uri": "https://localhost:8080/"
        },
        "id": "Ut_XKA90pcZT",
        "outputId": "4cc4b2eb-64cf-4cbd-9b90-1babb25d5b1f"
      },
      "outputs": [
        {
          "output_type": "stream",
          "name": "stdout",
          "text": [
            "how many times would you flip a coin ?10\n",
            "2.0\n",
            "8.0\n",
            "amont of head flips: 20.0 %\n",
            "amont of tail flips: 80.0 %\n"
          ]
        }
      ],
      "source": [
        "import random\n",
        "coin=('heads','tails')\n",
        "heads=float(0)\n",
        "tails=float(0)\n",
        "flip=int(input('how many times would you flip a coin ?'))\n",
        "for x in range (0,flip):\n",
        "  result=random.choice(coin)\n",
        "  if result=='heads':\n",
        "    heads+=1\n",
        "  else:\n",
        "    tails+=1\n",
        "print(heads)\n",
        "print(tails)\n",
        "print('amont of head flips:',heads/flip*100,'%')\n",
        "print('amont of tail flips:',tails/flip*100,'%')"
      ]
    },
    {
      "cell_type": "code",
      "source": [
        "import random\n",
        "coin=('heads','tails')\n",
        "heads=float(0)\n",
        "tails=float(0)\n",
        "flip=int(input('how many times would you flip a coin ?'))\n",
        "for x in range (0,flip):\n",
        "  result=random.choice(coin)\n",
        "  if result=='heads':\n",
        "    heads+=1\n",
        "  else:\n",
        "    tails+=1\n",
        "print(heads)\n",
        "print(tails)\n",
        "print('amont of head flips:',heads/flip*100,'%')\n",
        "print('amont of tail flips:',tails/flip*100,'%')"
      ],
      "metadata": {
        "colab": {
          "base_uri": "https://localhost:8080/"
        },
        "id": "1q6h3mHVqf_x",
        "outputId": "97b3fd7a-1141-4057-8fe2-5246b4b3f8c2"
      },
      "execution_count": null,
      "outputs": [
        {
          "output_type": "stream",
          "name": "stdout",
          "text": [
            "how many times would you flip a coin ?100\n",
            "51.0\n",
            "49.0\n",
            "amont of head flips: 51.0 %\n",
            "amont of tail flips: 49.0 %\n"
          ]
        }
      ]
    },
    {
      "cell_type": "code",
      "source": [
        "import random\n",
        "coin=('heads','tails')\n",
        "heads=float(0)\n",
        "tails=float(0)\n",
        "flip=int(input('how many times would you flip a coin ?'))\n",
        "for x in range (0,flip):\n",
        "  result=random.choice(coin)\n",
        "  if result=='heads':\n",
        "    heads+=1\n",
        "  else:\n",
        "    tails+=1\n",
        "print(heads)\n",
        "print(tails)\n",
        "print('amont of head flips:',heads/flip*100,'%')\n",
        "print('amont of tail flips:',tails/flip*100,'%')"
      ],
      "metadata": {
        "colab": {
          "base_uri": "https://localhost:8080/"
        },
        "id": "GXAheSRoqljL",
        "outputId": "66ce7526-b126-4172-f058-c9b172ff4df3"
      },
      "execution_count": null,
      "outputs": [
        {
          "output_type": "stream",
          "name": "stdout",
          "text": [
            "how many times would you flip a coin ?1000\n",
            "462.0\n",
            "538.0\n",
            "amont of head flips: 46.2 %\n",
            "amont of tail flips: 53.800000000000004 %\n"
          ]
        }
      ]
    },
    {
      "cell_type": "code",
      "source": [
        "import random\n",
        "coin=('heads','tails')\n",
        "heads=float(0)\n",
        "tails=float(0)\n",
        "flip=int(input('how many times would you flip a coin ?'))\n",
        "for x in range (0,flip):\n",
        "  result=random.choice(coin)\n",
        "  if result=='heads':\n",
        "    heads+=1\n",
        "  else:\n",
        "    tails+=1\n",
        "print(heads)\n",
        "print(tails)\n",
        "print('amont of head flips:',heads/flip*100,'%')\n",
        "print('amont of tail flips:',tails/flip*100,'%')"
      ],
      "metadata": {
        "colab": {
          "base_uri": "https://localhost:8080/"
        },
        "id": "VXLsVVUlqqHj",
        "outputId": "a4a6295b-a8f2-4889-9053-1af355f74834"
      },
      "execution_count": null,
      "outputs": [
        {
          "output_type": "stream",
          "name": "stdout",
          "text": [
            "how many times would you flip a coin ?10000\n",
            "4991.0\n",
            "5009.0\n",
            "amont of head flips: 49.91 %\n",
            "amont of tail flips: 50.09 %\n"
          ]
        }
      ]
    },
    {
      "cell_type": "code",
      "source": [
        "import random\n",
        "coin=('heads','tails')\n",
        "heads=float(0)\n",
        "tails=float(0)\n",
        "flip=int(input('how many times would you flip a coin ?'))\n",
        "for x in range (0,flip):\n",
        "  result=random.choice(coin)\n",
        "  if result=='heads':\n",
        "    heads+=1\n",
        "  else:\n",
        "    tails+=1\n",
        "print(heads)\n",
        "print(tails)\n",
        "print('amont of head flips:',heads/flip*100,'%')\n",
        "print('amont of tail flips:',tails/flip*100,'%')"
      ],
      "metadata": {
        "colab": {
          "base_uri": "https://localhost:8080/"
        },
        "id": "35LRwNBfqt5_",
        "outputId": "2a6285cc-f755-4b66-9c11-47bc211615a9"
      },
      "execution_count": null,
      "outputs": [
        {
          "output_type": "stream",
          "name": "stdout",
          "text": [
            "how many times would you flip a coin ?100000\n",
            "49920.0\n",
            "50080.0\n",
            "amont of head flips: 49.919999999999995 %\n",
            "amont of tail flips: 50.080000000000005 %\n"
          ]
        }
      ]
    },
    {
      "cell_type": "code",
      "source": [],
      "metadata": {
        "id": "BkhOGmuVt_xa"
      },
      "execution_count": null,
      "outputs": []
    },
    {
      "cell_type": "code",
      "source": [],
      "metadata": {
        "id": "ONYahYPkuBDa"
      },
      "execution_count": null,
      "outputs": []
    },
    {
      "cell_type": "code",
      "source": [
        "import random\n",
        "coin=('heads','tails')\n",
        "heads=float(0)\n",
        "tails=float(0)\n",
        "flip=int(input('how many times would you flip a coin ?'))\n",
        "for x in range (0,flip):\n",
        "  result=random.choice(coin)\n",
        "  if result=='heads':\n",
        "    heads+=1\n",
        "  else:\n",
        "    tails+=1\n",
        "print(heads)\n",
        "print(tails)\n",
        "print('amont of head flips:',heads/flip*100,'%')\n",
        "print('amont of tail flips:',tails/flip*100,'%')"
      ],
      "metadata": {
        "colab": {
          "base_uri": "https://localhost:8080/"
        },
        "id": "gHuSgVG5qxac",
        "outputId": "1bb63cd1-b2e3-4e56-b3c5-dff1b0451b0a"
      },
      "execution_count": null,
      "outputs": [
        {
          "output_type": "stream",
          "name": "stdout",
          "text": [
            "how many times would you flip a coin ?100000\n",
            "49856.0\n",
            "50144.0\n",
            "amont of head flips: 49.856 %\n",
            "amont of tail flips: 50.144 %\n"
          ]
        }
      ]
    },
    {
      "cell_type": "code",
      "source": [
        "import random\n",
        "coin=('heads','tails')\n",
        "heads=float(0)\n",
        "tails=float(0)\n",
        "flip=int(input('how many times would you flip a coin ?'))\n",
        "for x in range (0,flip):\n",
        "  result=random.choice(coin)\n",
        "  if result=='heads':\n",
        "    heads+=1\n",
        "  else:\n",
        "    tails+=1\n",
        "print(heads)\n",
        "print(tails)\n",
        "print('amont of head flips:',heads/flip*100,'%')\n",
        "print('amont of tail flips:',tails/flip*100,'%')\n"
      ],
      "metadata": {
        "colab": {
          "base_uri": "https://localhost:8080/"
        },
        "id": "0zzN4PDyq1rH",
        "outputId": "c9050eeb-7bbf-459c-936d-dd157a732df7"
      },
      "execution_count": null,
      "outputs": [
        {
          "output_type": "stream",
          "name": "stdout",
          "text": [
            "how many times would you flip a coin ?100000000\n",
            "49998826.0\n",
            "50001174.0\n",
            "amont of head flips: 49.998826 %\n",
            "amont of tail flips: 50.001174000000006 %\n"
          ]
        }
      ]
    },
    {
      "cell_type": "code",
      "source": [
        "import random\n",
        "\n",
        "def weighted_coin_flip(probability_of_heads):\n",
        "    \"\"\"\n",
        "    Simulates a weighted coin flip.\n",
        "\n",
        "    Args:\n",
        "        probability_of_heads (float): The probability of the coin landing on 'Heads'.\n",
        "                                      This value should be between 0 and 1.\n",
        "\n",
        "    Returns:\n",
        "        str: 'Heads' if the flip results in heads, 'Tails' otherwise.\n",
        "    \"\"\"\n",
        "    if not (0 <= probability_of_heads <= 1):\n",
        "        raise ValueError(\"Probability of heads must be between 0 and 1.\")\n",
        "\n",
        "    random_number = random.random()\n",
        "    if random_number < probability_of_heads:\n",
        "        return \"Heads\"\n",
        "    else:\n",
        "        return \"Tails\"\n",
        "\n",
        "# Example usage:\n",
        "# A coin with a 70% chance of landing on Heads\n",
        "result1 = weighted_coin_flip(0.7)\n",
        "print(f\"Flip 1: {result1}\")\n",
        "\n",
        "# A coin with a 30% chance of landing on Heads\n",
        "result2 = weighted_coin_flip(0.3)\n",
        "print(f\"Flip 2: {result2}\")\n",
        "\n",
        "# Simulating multiple flips\n",
        "num_flips = 1000\n",
        "heads_count = 0\n",
        "tails_count = 0\n",
        "for _ in range(num_flips):\n",
        "    if weighted_coin_flip(0.6) == \"Heads\": # 60% chance of Heads\n",
        "        heads_count += 1\n",
        "    else:\n",
        "        tails_count += 1\n",
        "\n",
        "print(f\"\\nAfter {num_flips} flips (60% Heads probability):\")\n",
        "print(f\"Heads: {heads_count}\")\n",
        "print(f\"Tails: {tails_count}\")"
      ],
      "metadata": {
        "colab": {
          "base_uri": "https://localhost:8080/"
        },
        "id": "dfAfCtLZuCVV",
        "outputId": "9cb5b789-3997-4c55-83ef-9ba8b5fd9115"
      },
      "execution_count": null,
      "outputs": [
        {
          "output_type": "stream",
          "name": "stdout",
          "text": [
            "Flip 1: Heads\n",
            "Flip 2: Heads\n",
            "\n",
            "After 1000 flips (60% Heads probability):\n",
            "Heads: 583\n",
            "Tails: 417\n"
          ]
        }
      ]
    },
    {
      "cell_type": "code",
      "source": [
        "def calculate_expected_value_fair_coin():\n",
        "    \"\"\"\n",
        "    Calculates the expected value of a single fair coin flip,\n",
        "    where heads is assigned a value of 1 and tails a value of 0.\n",
        "    \"\"\"\n",
        "    probability_heads = 0.5\n",
        "    value_heads = 1\n",
        "    probability_tails = 0.5\n",
        "    value_tails = 0\n",
        "\n",
        "    expected_value = (probability_heads * value_heads) + (probability_tails * value_tails)\n",
        "    return expected_value\n",
        "\n",
        "# Calculate and print the expected value\n",
        "expected_value = calculate_expected_value_fair_coin()\n",
        "print(f\"The expected value of a single fair coin flip is: {expected_value}\")"
      ],
      "metadata": {
        "colab": {
          "base_uri": "https://localhost:8080/"
        },
        "id": "Tv4V9_pewL61",
        "outputId": "323837a4-bbca-434d-95ab-863bc713f13b"
      },
      "execution_count": null,
      "outputs": [
        {
          "output_type": "stream",
          "name": "stdout",
          "text": [
            "The expected value of a single fair coin flip is: 0.5\n"
          ]
        }
      ]
    }
  ]
}