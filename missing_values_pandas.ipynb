{
  "nbformat": 4,
  "nbformat_minor": 0,
  "metadata": {
    "colab": {
      "provenance": [],
      "authorship_tag": "ABX9TyOweWnZ8NK9EX8lmfepmin1",
      "include_colab_link": true
    },
    "kernelspec": {
      "name": "python3",
      "display_name": "Python 3"
    },
    "language_info": {
      "name": "python"
    }
  },
  "cells": [
    {
      "cell_type": "markdown",
      "metadata": {
        "id": "view-in-github",
        "colab_type": "text"
      },
      "source": [
        "<a href=\"https://colab.research.google.com/github/Subhranshu-123/BIKE2/blob/main/missing_values_pandas.ipynb\" target=\"_parent\"><img src=\"https://colab.research.google.com/assets/colab-badge.svg\" alt=\"Open In Colab\"/></a>"
      ]
    },
    {
      "cell_type": "code",
      "execution_count": 1,
      "metadata": {
        "colab": {
          "base_uri": "https://localhost:8080/"
        },
        "id": "HHR45Jod-bQL",
        "outputId": "d6ba27e3-cb3c-4138-cbee-2c67c9283ae6"
      },
      "outputs": [
        {
          "output_type": "stream",
          "name": "stdout",
          "text": [
            "Matrix Multiplication (A @ B):\n",
            " [[19 22]\n",
            " [43 50]]\n",
            "\n",
            "Determinant of matrix:\n",
            " -2.0000000000000004\n",
            "\n",
            "Solution to the linear system Ax = b:\n",
            " [2. 1.]\n"
          ]
        }
      ],
      "source": [
        "import numpy as np\n",
        "\n",
        "# Matrix multiplication\n",
        "A = np.array([[1, 2], [3, 4]])\n",
        "B = np.array([[5, 6], [7, 8]])\n",
        "C = A @ B  # or np.dot(A, B)\n",
        "print(\"Matrix Multiplication (A @ B):\\n\", C)\n",
        "\n",
        "# Determinant\n",
        "matrix = np.array([[1, 2], [3, 4]])\n",
        "determinant = np.linalg.det(matrix)\n",
        "print(\"\\nDeterminant of matrix:\\n\", determinant)\n",
        "\n",
        "# Solving a linear system\n",
        "# Solve for x in Ax = b, where A is the coefficient matrix and b is the constant vector\n",
        "A_system = np.array([[2, 1], [1, -1]])\n",
        "b_system = np.array([5, 1])\n",
        "x_solution = np.linalg.solve(A_system, b_system)\n",
        "print(\"\\nSolution to the linear system Ax = b:\\n\", x_solution)"
      ]
    },
    {
      "cell_type": "markdown",
      "source": [
        "np.dot(): Calculates the dot product of two arrays, which can be matrix multiplication for 2D arrays.\n",
        "@ operator: Provides a more concise syntax for matrix multiplication.\n",
        "np.vdot(): Computes the dot product of two vectors.\n",
        "np.inner(): Calculates the inner product of two arrays.\n",
        "np.outer(): Computes the outer product of two arrays.\n",
        "np.matmul(): Performs matrix multiplication, similar to @"
      ],
      "metadata": {
        "id": "GcYC3wvv-s-L"
      }
    },
    {
      "cell_type": "code",
      "source": [],
      "metadata": {
        "id": "m1Ibow19_XAP"
      },
      "execution_count": null,
      "outputs": []
    },
    {
      "cell_type": "markdown",
      "source": [
        "np.linalg.det(): Calculates the determinant of a square matrix.\n",
        "\n",
        "np.linalg.inv(): Computes the inverse of a square matrix.\n",
        "np.trace(): Returns the trace of a square matrix (sum of diagonal elements).\n",
        "np.linalg.eig(): Computes the eigenvalues and eigenvectors of a square matrix.\n",
        "np.linalg.svd(): Performs Singular Value Decomposition (SVD) of a matrix."
      ],
      "metadata": {
        "id": "6g-XICEv-0WZ"
      }
    },
    {
      "cell_type": "code",
      "source": [],
      "metadata": {
        "id": "YNkwod7t-4wt"
      },
      "execution_count": null,
      "outputs": []
    },
    {
      "cell_type": "markdown",
      "source": [],
      "metadata": {
        "id": "mDMeh_B4-9yo"
      }
    },
    {
      "cell_type": "markdown",
      "source": [
        "np.linalg.solve(): Solves a system of linear equations.\n"
      ],
      "metadata": {
        "id": "w1Jrl0Sz-9z0"
      }
    },
    {
      "cell_type": "code",
      "source": [
        "import pandas as pd\n",
        "import numpy as np\n",
        "\n",
        "data = {'A': [1, 2, np.nan, 4],\n",
        "        'B': [5, np.nan, 7, 8],\n",
        "        'C': [9, 10, 11, np.nan]}\n",
        "df = pd.DataFrame(data)\n",
        "\n",
        "# Check for missing values\n",
        "print(\"Missing values per column:\\n\", df.isnull().sum())\n",
        "\n",
        "# Fill missing values in column 'B' with its mean\n",
        "df['B'].fillna(df['B'].mean(), inplace=True)\n",
        "print(\"\\nDataFrame after filling 'B' with mean:\\n\", df)\n",
        "\n",
        "# Drop rows with any remaining missing values\n",
        "df_cleaned = df.dropna()\n",
        "print(\"\\nDataFrame after dropping rows with missing values:\\n\", df_cleaned)"
      ],
      "metadata": {
        "colab": {
          "base_uri": "https://localhost:8080/"
        },
        "id": "IbNWTjzO-_qo",
        "outputId": "8434114e-2ba5-4709-be0b-ced3913c103f"
      },
      "execution_count": 2,
      "outputs": [
        {
          "output_type": "stream",
          "name": "stdout",
          "text": [
            "Missing values per column:\n",
            " A    1\n",
            "B    1\n",
            "C    1\n",
            "dtype: int64\n",
            "\n",
            "DataFrame after filling 'B' with mean:\n",
            "      A         B     C\n",
            "0  1.0  5.000000   9.0\n",
            "1  2.0  6.666667  10.0\n",
            "2  NaN  7.000000  11.0\n",
            "3  4.0  8.000000   NaN\n",
            "\n",
            "DataFrame after dropping rows with missing values:\n",
            "      A         B     C\n",
            "0  1.0  5.000000   9.0\n",
            "1  2.0  6.666667  10.0\n"
          ]
        },
        {
          "output_type": "stream",
          "name": "stderr",
          "text": [
            "/tmp/ipython-input-676615293.py:13: FutureWarning: A value is trying to be set on a copy of a DataFrame or Series through chained assignment using an inplace method.\n",
            "The behavior will change in pandas 3.0. This inplace method will never work because the intermediate object on which we are setting values always behaves as a copy.\n",
            "\n",
            "For example, when doing 'df[col].method(value, inplace=True)', try using 'df.method({col: value}, inplace=True)' or df[col] = df[col].method(value) instead, to perform the operation inplace on the original object.\n",
            "\n",
            "\n",
            "  df['B'].fillna(df['B'].mean(), inplace=True)\n"
          ]
        }
      ]
    },
    {
      "cell_type": "code",
      "source": [
        "import pandas as pd\n",
        "import numpy as np\n",
        "\n",
        "data = {'A': [1, 2, np.nan, 4],\n",
        "        'B': [5, np.nan, 7, 8],\n",
        "        'C': [9, 10, 11, np.nan]}\n",
        "df = pd.DataFrame(data)\n",
        "\n",
        "# Check for missing values\n",
        "print(\"Missing values per column:\\n\", df.isnull().sum())\n",
        "\n",
        "# Fill missing values in column 'B' with its mean\n",
        "df['B'].fillna(df['B'].mean(), inplace=True)\n",
        "print(\"\\nDataFrame after filling 'B' with mean:\\n\", df)\n",
        "\n",
        "# Drop rows with any remaining missing values\n",
        "df_cleaned = df.dropna()\n",
        "print(\"\\nDataFrame after dropping rows with missing values:\\n\", df_cleaned)"
      ],
      "metadata": {
        "colab": {
          "base_uri": "https://localhost:8080/"
        },
        "id": "IQEH5MQd_jdH",
        "outputId": "b7b7dbc3-1dde-4319-ca2f-975ded111b21"
      },
      "execution_count": 3,
      "outputs": [
        {
          "output_type": "stream",
          "name": "stdout",
          "text": [
            "Missing values per column:\n",
            " A    1\n",
            "B    1\n",
            "C    1\n",
            "dtype: int64\n",
            "\n",
            "DataFrame after filling 'B' with mean:\n",
            "      A         B     C\n",
            "0  1.0  5.000000   9.0\n",
            "1  2.0  6.666667  10.0\n",
            "2  NaN  7.000000  11.0\n",
            "3  4.0  8.000000   NaN\n",
            "\n",
            "DataFrame after dropping rows with missing values:\n",
            "      A         B     C\n",
            "0  1.0  5.000000   9.0\n",
            "1  2.0  6.666667  10.0\n"
          ]
        },
        {
          "output_type": "stream",
          "name": "stderr",
          "text": [
            "/tmp/ipython-input-676615293.py:13: FutureWarning: A value is trying to be set on a copy of a DataFrame or Series through chained assignment using an inplace method.\n",
            "The behavior will change in pandas 3.0. This inplace method will never work because the intermediate object on which we are setting values always behaves as a copy.\n",
            "\n",
            "For example, when doing 'df[col].method(value, inplace=True)', try using 'df.method({col: value}, inplace=True)' or df[col] = df[col].method(value) instead, to perform the operation inplace on the original object.\n",
            "\n",
            "\n",
            "  df['B'].fillna(df['B'].mean(), inplace=True)\n"
          ]
        }
      ]
    },
    {
      "cell_type": "code",
      "source": [
        "import pandas as pd\n",
        "import numpy as np\n",
        "\n",
        "# Create a sample DataFrame with missing values\n",
        "data = {'col1': [1, 2, np.nan, 4, 5],\n",
        "        'col2': ['A', 'B', 'C', np.nan, 'E'],\n",
        "        'col3': [10, np.nan, 30, 40, np.nan]}\n",
        "df = pd.DataFrame(data)\n",
        "\n",
        "# Count missing values in 'col1'\n",
        "missing_in_col1 = df['col1'].isnull().sum()\n",
        "print(f\"Missing values in 'col1': {missing_in_col1}\")\n",
        "\n",
        "# Count missing values in 'col2'\n",
        "missing_in_col2 = df['col2'].isna().sum()\n",
        "print(f\"Missing values in 'col2': {missing_in_col2}\")"
      ],
      "metadata": {
        "colab": {
          "base_uri": "https://localhost:8080/"
        },
        "id": "c3WFQMdv_297",
        "outputId": "c799df62-8c83-419c-fa91-99e40e35a3f8"
      },
      "execution_count": 4,
      "outputs": [
        {
          "output_type": "stream",
          "name": "stdout",
          "text": [
            "Missing values in 'col1': 1\n",
            "Missing values in 'col2': 1\n"
          ]
        }
      ]
    },
    {
      "cell_type": "code",
      "source": [
        "    import pandas as pd\n",
        "    import numpy as np\n",
        "\n",
        "    data = {'A': [1, 2, np.nan, 4], 'B': [5, np.nan, 7, 8]}\n",
        "    df = pd.DataFrame(data)\n",
        "    print(df.isna())"
      ],
      "metadata": {
        "colab": {
          "base_uri": "https://localhost:8080/"
        },
        "id": "neN5vZ9HAFtM",
        "outputId": "52b15a4b-97c1-415c-b03c-622246adbd21"
      },
      "execution_count": 5,
      "outputs": [
        {
          "output_type": "stream",
          "name": "stdout",
          "text": [
            "       A      B\n",
            "0  False  False\n",
            "1  False   True\n",
            "2   True  False\n",
            "3  False  False\n"
          ]
        }
      ]
    },
    {
      "cell_type": "code",
      "source": [
        "    print(df.isna().sum())"
      ],
      "metadata": {
        "colab": {
          "base_uri": "https://localhost:8080/"
        },
        "id": "OmDMYKKIAI-i",
        "outputId": "0195dc94-4fb4-42ca-83ac-f60645d18f91"
      },
      "execution_count": 6,
      "outputs": [
        {
          "output_type": "stream",
          "name": "stdout",
          "text": [
            "A    1\n",
            "B    1\n",
            "dtype: int64\n"
          ]
        }
      ]
    },
    {
      "cell_type": "code",
      "source": [
        "        df_dropped_rows = df.dropna()\n",
        "        df_dropped_cols = df.dropna(axis=1)"
      ],
      "metadata": {
        "id": "EZOmH2BcAMHq"
      },
      "execution_count": 7,
      "outputs": []
    },
    {
      "cell_type": "code",
      "source": [
        "        df_filled_zero = df.fillna(0)"
      ],
      "metadata": {
        "id": "86F913vRAO2d"
      },
      "execution_count": 8,
      "outputs": []
    },
    {
      "cell_type": "code",
      "source": [
        "        df_ffill = df.fillna(method='ffill')"
      ],
      "metadata": {
        "colab": {
          "base_uri": "https://localhost:8080/"
        },
        "id": "XLJeaFUBASH5",
        "outputId": "733b41dd-9944-462c-9038-310f448892a6"
      },
      "execution_count": 9,
      "outputs": [
        {
          "output_type": "stream",
          "name": "stderr",
          "text": [
            "/tmp/ipython-input-3514003530.py:1: FutureWarning: DataFrame.fillna with 'method' is deprecated and will raise in a future version. Use obj.ffill() or obj.bfill() instead.\n",
            "  df_ffill = df.fillna(method='ffill')\n"
          ]
        }
      ]
    },
    {
      "cell_type": "code",
      "source": [
        "        df['A'] = df['A'].fillna(df['A'].mean())"
      ],
      "metadata": {
        "id": "qgkOKSRkAU2C"
      },
      "execution_count": 10,
      "outputs": []
    },
    {
      "cell_type": "code",
      "source": [
        "        df_interpolated = df.interpolate()"
      ],
      "metadata": {
        "id": "jTPjO8vaAX5d"
      },
      "execution_count": 11,
      "outputs": []
    },
    {
      "cell_type": "markdown",
      "source": [
        "df.dropna(): Removes rows or columns containing missing values.\n",
        "df.dropna(axis=0) (default): Drops rows with any missing values.\n",
        "df.dropna(axis=1): Drops columns with any missing values.\n",
        "df.dropna(how='all'): Drops rows/columns only if all values are missing.\n",
        "df.dropna(subset=['column_name']): Drops rows where missing values are present only in specified columns."
      ],
      "metadata": {
        "id": "mO2QRPu5AfE5"
      }
    },
    {
      "cell_type": "code",
      "source": [],
      "metadata": {
        "id": "JW2SqDxsAknA"
      },
      "execution_count": null,
      "outputs": []
    },
    {
      "cell_type": "markdown",
      "source": [
        "df.fillna(value): Replaces missing values with a specified value"
      ],
      "metadata": {
        "id": "vDY-zOtpAqFM"
      }
    },
    {
      "cell_type": "markdown",
      "source": [
        "df.fillna(method='ffill') (Forward Fill): Propagates the last valid observation forward to next missing values.\n",
        "df.fillna(method='bfill') (Backward Fill): Propagates the next valid observation backward to previous missing values.\n",
        "Filling with Statistical Measures: Replace missing values with the mean, median, or mode of the respective colum\n",
        "df.interpolate(): Estimates missing values based on surrounding valid values, useful for time-series or ordered data. Linear interpolation is the default\n",
        "\n",
        "1.   List item\n",
        "\n",
        "*   List item\n",
        "*   List item\n",
        "\n",
        "\n",
        "2.   List item\n",
        "\n"
      ],
      "metadata": {
        "id": "zo86ofZbArUg"
      }
    },
    {
      "cell_type": "code",
      "source": [],
      "metadata": {
        "id": "2mGjUz4MA3dM"
      },
      "execution_count": null,
      "outputs": []
    }
  ]
}