{
  "nbformat": 4,
  "nbformat_minor": 0,
  "metadata": {
    "colab": {
      "provenance": [],
      "include_colab_link": true
    },
    "kernelspec": {
      "name": "python3",
      "display_name": "Python 3"
    },
    "language_info": {
      "name": "python"
    }
  },
  "cells": [
    {
      "cell_type": "markdown",
      "metadata": {
        "id": "view-in-github",
        "colab_type": "text"
      },
      "source": [
        "<a href=\"https://colab.research.google.com/github/Subhranshu-123/BIKE2/blob/main/Another_copy_of_subhranshu_sekhar_pani.ipynb\" target=\"_parent\"><img src=\"https://colab.research.google.com/assets/colab-badge.svg\" alt=\"Open In Colab\"/></a>"
      ]
    },
    {
      "cell_type": "markdown",
      "metadata": {
        "id": "3cfrOV4dL9hW"
      },
      "source": [
        "##Numpy"
      ]
    },
    {
      "cell_type": "markdown",
      "metadata": {
        "id": "fY12nHhyL9hX"
      },
      "source": [
        "A powerful library for numerical computations in Python.\n",
        "\n",
        "NumPy vectorization, indexing, and broadcasting concepts are the de-facto standards of array computing.\n",
        "\n",
        "Offers comprehensive mathematical functions, random number generators, linear algebra routines, Fourier transforms, and more.\n",
        "\n"
      ]
    },
    {
      "cell_type": "markdown",
      "metadata": {
        "id": "gNvCDnClSXnB"
      },
      "source": [
        "How to install Numpy"
      ]
    },
    {
      "cell_type": "code",
      "source": [
        "!pip install numpy"
      ],
      "metadata": {
        "colab": {
          "base_uri": "https://localhost:8080/"
        },
        "id": "edBXMwBJSbSQ",
        "outputId": "408be4bb-584b-42d8-b900-09ab4c0fa8be"
      },
      "execution_count": 1,
      "outputs": [
        {
          "output_type": "stream",
          "name": "stdout",
          "text": [
            "Requirement already satisfied: numpy in /usr/local/lib/python3.11/dist-packages (2.0.2)\n"
          ]
        }
      ]
    },
    {
      "cell_type": "markdown",
      "metadata": {
        "id": "lZMyAdqhL9hY"
      },
      "source": [
        "To use Numpy, we first need to import the `numpy` package:"
      ]
    },
    {
      "cell_type": "code",
      "execution_count": 2,
      "metadata": {
        "id": "58QdX8BLL9hZ"
      },
      "outputs": [],
      "source": [
        "import numpy as np"
      ]
    },
    {
      "cell_type": "markdown",
      "metadata": {
        "id": "DDx6v1EdL9hb"
      },
      "source": [
        "###Arrays"
      ]
    },
    {
      "cell_type": "markdown",
      "metadata": {
        "id": "f-Zv3f7LL9hc"
      },
      "source": [
        "* An array is a structured way of storing and retrieving data, often\n",
        "visualized as a grid where each cell contains one data element.\n",
        "\n",
        "* a NumPy array is a grid of values, all of the same type, indexed by a tuple of nonnegative integers.\n",
        "\n",
        "* The number of dimensions is called the rank of the array, and its shape is a tuple of integers that specifies the size of the array along each dimension.\n",
        "\n",
        "For example, a one-dimensional array can be visualized like a list, with each element of the list representing a cell in the array."
      ]
    },
    {
      "cell_type": "markdown",
      "metadata": {
        "id": "_eMTRnZRL9hc"
      },
      "source": [
        "We can initialize numpy arrays from nested Python lists, and access elements using square brackets:"
      ]
    },
    {
      "cell_type": "code",
      "execution_count": 3,
      "metadata": {
        "colab": {
          "base_uri": "https://localhost:8080/"
        },
        "id": "-l3JrGxCL9hc",
        "outputId": "ccf12138-54f5-45d0-a5a2-203a9ddc9fc3"
      },
      "outputs": [
        {
          "output_type": "stream",
          "name": "stdout",
          "text": [
            "<class 'numpy.ndarray'> (5,) 1 2 3\n",
            "[5 2 3 4 5]\n"
          ]
        }
      ],
      "source": [
        "a = np.array([1,2,3,4,5])  # Create a  1D array\n",
        "print(type(a), a.shape, a[0], a[1], a[2])\n",
        "a[0] = 5                 # Change an element of the array\n",
        "print(a)\n",
        "\n"
      ]
    },
    {
      "cell_type": "code",
      "execution_count": 4,
      "metadata": {
        "colab": {
          "base_uri": "https://localhost:8080/"
        },
        "id": "ma6mk-kdL9hh",
        "outputId": "4c83c829-89ba-43fe-d3f7-ba9f6dfee280"
      },
      "outputs": [
        {
          "output_type": "stream",
          "name": "stdout",
          "text": [
            "[[1 2 3]\n",
            " [4 5 6]]\n"
          ]
        }
      ],
      "source": [
        "b = np.array([[1,2,3],[4,5,6]])   # Create a 2D array\n",
        "print(b)"
      ]
    },
    {
      "cell_type": "code",
      "source": [],
      "metadata": {
        "id": "1XQtKTmpZaND"
      },
      "execution_count": 4,
      "outputs": []
    },
    {
      "cell_type": "code",
      "source": [],
      "metadata": {
        "id": "LZp2rtaVyNdh"
      },
      "execution_count": 4,
      "outputs": []
    },
    {
      "cell_type": "code",
      "execution_count": 5,
      "metadata": {
        "colab": {
          "base_uri": "https://localhost:8080/"
        },
        "id": "ymfSHAwtL9hj",
        "outputId": "69162f78-10de-4018-8e23-dacea626763b"
      },
      "outputs": [
        {
          "output_type": "stream",
          "name": "stdout",
          "text": [
            "(2, 3)\n",
            "1 2 4\n"
          ]
        }
      ],
      "source": [
        "print(b.shape)\n",
        "print(b[0, 0], b[0, 1], b[1, 0])"
      ]
    },
    {
      "cell_type": "markdown",
      "metadata": {
        "id": "F2qwdyvuL9hn"
      },
      "source": [
        "Numpy also provides many functions to create arrays:"
      ]
    },
    {
      "cell_type": "code",
      "execution_count": 6,
      "metadata": {
        "colab": {
          "base_uri": "https://localhost:8080/"
        },
        "id": "mVTN_EBqL9hn",
        "outputId": "8069fab5-307c-4913-e98d-91d27ef19fdd"
      },
      "outputs": [
        {
          "output_type": "stream",
          "name": "stdout",
          "text": [
            "[[0. 0.]\n",
            " [0. 0.]\n",
            " [0. 0.]]\n"
          ]
        }
      ],
      "source": [
        "a = np.zeros((3,2))  # Create an array of all zeros\n",
        "print(a)"
      ]
    },
    {
      "cell_type": "code",
      "execution_count": 7,
      "metadata": {
        "colab": {
          "base_uri": "https://localhost:8080/"
        },
        "id": "skiKlNmlL9h5",
        "outputId": "0c73445a-2032-4759-833e-2bea8cf561dd"
      },
      "outputs": [
        {
          "output_type": "stream",
          "name": "stdout",
          "text": [
            "[[1. 1.]\n",
            " [1. 1.]\n",
            " [1. 1.]]\n"
          ]
        }
      ],
      "source": [
        "b = np.ones((3,2))   # Create an array of all ones\n",
        "print(b)"
      ]
    },
    {
      "cell_type": "code",
      "execution_count": 8,
      "metadata": {
        "colab": {
          "base_uri": "https://localhost:8080/"
        },
        "id": "HtFsr03bL9h7",
        "outputId": "b8e982f8-f099-419f-809a-714bb2fe9dd7"
      },
      "outputs": [
        {
          "output_type": "stream",
          "name": "stdout",
          "text": [
            "[[5 5]\n",
            " [5 5]\n",
            " [5 5]]\n"
          ]
        }
      ],
      "source": [
        "c = np.full((3,2), 5) # Create an array with values 5\n",
        "\n",
        "print(c)"
      ]
    },
    {
      "cell_type": "code",
      "source": [],
      "metadata": {
        "id": "-AYJ7E88Y3tz"
      },
      "execution_count": 8,
      "outputs": []
    },
    {
      "cell_type": "code",
      "source": [
        "c = np.full((3,2), 7) # Create an array with values 7\n",
        "\n",
        "print(c)"
      ],
      "metadata": {
        "colab": {
          "base_uri": "https://localhost:8080/"
        },
        "id": "72ousExNY5Az",
        "outputId": "6b52ead1-8b86-40d6-aef7-e048994e1a2b"
      },
      "execution_count": 9,
      "outputs": [
        {
          "output_type": "stream",
          "name": "stdout",
          "text": [
            "[[7 7]\n",
            " [7 7]\n",
            " [7 7]]\n"
          ]
        }
      ]
    },
    {
      "cell_type": "code",
      "execution_count": 10,
      "metadata": {
        "colab": {
          "base_uri": "https://localhost:8080/"
        },
        "id": "-QcALHvkL9h9",
        "outputId": "6348126c-1319-4c73-c585-26d24db94007"
      },
      "outputs": [
        {
          "output_type": "stream",
          "name": "stdout",
          "text": [
            "[[1. 0. 0. 0.]\n",
            " [0. 1. 0. 0.]\n",
            " [0. 0. 1. 0.]\n",
            " [0. 0. 0. 1.]]\n"
          ]
        }
      ],
      "source": [
        "d = np.eye(4)        # Create a 2x2 identity matrix\n",
        "print(d)"
      ]
    },
    {
      "cell_type": "code",
      "execution_count": 11,
      "metadata": {
        "colab": {
          "base_uri": "https://localhost:8080/"
        },
        "id": "RCpaYg9qL9iA",
        "outputId": "22d8722e-79ef-4ea2-9832-da6ed349e15d"
      },
      "outputs": [
        {
          "output_type": "stream",
          "name": "stdout",
          "text": [
            "[[0.50719361 0.56023074]\n",
            " [0.38959524 0.59916379]]\n"
          ]
        }
      ],
      "source": [
        "e = np.random.random((2,2)) # Create an array filled with random values\n",
        "print(e)\n",
        "\n"
      ]
    },
    {
      "cell_type": "markdown",
      "source": [
        "# Question\n",
        "\n",
        "Given the following array:\n",
        "\n",
        "\n",
        "a = np.array([1, 2, 3, 4, 5])\n",
        "\n",
        "Q1 Replace First and Last Element\n",
        "\n",
        "Q2 Sum All Elements in a 2D Array\n",
        "\n",
        "Q3 What is the shape of this array?\n",
        "\n",
        "Q4 What is the value at index 2?\n",
        "\n",
        "Q5Create a Custom Matrix with All 7s\n"
      ],
      "metadata": {
        "id": "vAKUNnmlBzo1"
      }
    },
    {
      "cell_type": "code",
      "source": [
        "#1 answer\n",
        "a = np.array([1, 2, 3, 4, 5])\n",
        "a[0]=5\n",
        "print(a)\n",
        "a[-1]=22\n",
        "print(a)\n"
      ],
      "metadata": {
        "colab": {
          "base_uri": "https://localhost:8080/"
        },
        "id": "tKGbN5_RX7_Y",
        "outputId": "d70cbf1f-095f-494a-9a45-de63576a9f7a"
      },
      "execution_count": 12,
      "outputs": [
        {
          "output_type": "stream",
          "name": "stdout",
          "text": [
            "[5 2 3 4 5]\n",
            "[ 5  2  3  4 22]\n"
          ]
        }
      ]
    },
    {
      "cell_type": "code",
      "source": [
        "#3 answer\n",
        "a.shape"
      ],
      "metadata": {
        "colab": {
          "base_uri": "https://localhost:8080/"
        },
        "id": "T4LJdlFwYgjp",
        "outputId": "587f8b50-1905-40dc-ff4e-331d40397738"
      },
      "execution_count": 13,
      "outputs": [
        {
          "output_type": "execute_result",
          "data": {
            "text/plain": [
              "(5,)"
            ]
          },
          "metadata": {},
          "execution_count": 13
        }
      ]
    },
    {
      "cell_type": "code",
      "source": [
        "#4 answer\n",
        "a[1]\n",
        "a[2]\n",
        "print(a[1],a[2])"
      ],
      "metadata": {
        "colab": {
          "base_uri": "https://localhost:8080/"
        },
        "id": "YgSV87beYre5",
        "outputId": "ceb2aea8-bd19-4e72-890f-d8204bc9abfb"
      },
      "execution_count": 14,
      "outputs": [
        {
          "output_type": "stream",
          "name": "stdout",
          "text": [
            "2 3\n"
          ]
        }
      ]
    },
    {
      "cell_type": "code",
      "source": [
        "#5 answer\n",
        "c = np.full((3,2), 7) # Create an array with values 7\n",
        "\n",
        "print(c)"
      ],
      "metadata": {
        "colab": {
          "base_uri": "https://localhost:8080/"
        },
        "id": "l42Yt7RmZBWy",
        "outputId": "cb7ab0c9-6fc2-4c29-9859-f9cce700f92d"
      },
      "execution_count": 15,
      "outputs": [
        {
          "output_type": "stream",
          "name": "stdout",
          "text": [
            "[[7 7]\n",
            " [7 7]\n",
            " [7 7]]\n"
          ]
        }
      ]
    },
    {
      "cell_type": "code",
      "source": [
        "#2 answer\n",
        "b = np.array([[1,2,3],\n",
        " [4,5,6]])   # Create a 2D array\n",
        "print(b)\n",
        "print(sum(b))\n",
        "print(np.sum(b))"
      ],
      "metadata": {
        "colab": {
          "base_uri": "https://localhost:8080/"
        },
        "id": "LhyBoxyjZchn",
        "outputId": "65bcb238-c433-4eba-916d-33a664f09f9f"
      },
      "execution_count": 16,
      "outputs": [
        {
          "output_type": "stream",
          "name": "stdout",
          "text": [
            "[[1 2 3]\n",
            " [4 5 6]]\n",
            "[5 7 9]\n",
            "21\n"
          ]
        }
      ]
    },
    {
      "cell_type": "markdown",
      "metadata": {
        "id": "jI5qcSDfL9iC"
      },
      "source": [
        "###Array indexing"
      ]
    },
    {
      "cell_type": "markdown",
      "metadata": {
        "id": "M-E4MUeVL9iC"
      },
      "source": [
        "Numpy offers several ways to index into arrays."
      ]
    },
    {
      "cell_type": "markdown",
      "metadata": {
        "id": "QYv4JyIEL9iD"
      },
      "source": [
        "Slicing: Similar to Python lists, numpy arrays can be sliced. Since arrays may be multidimensional, you must specify a slice for each dimension of the array:"
      ]
    },
    {
      "cell_type": "code",
      "execution_count": 17,
      "metadata": {
        "colab": {
          "base_uri": "https://localhost:8080/"
        },
        "id": "wLWA0udwL9iD",
        "outputId": "2bb536a5-aebb-482f-9da4-fd1df220d537"
      },
      "outputs": [
        {
          "output_type": "stream",
          "name": "stdout",
          "text": [
            "[[ 1  2  3  4]\n",
            " [ 5  6  7  8]\n",
            " [ 9 10 11 12]\n",
            " [13 14 15 16]]\n",
            "[[2 3]\n",
            " [6 7]]\n"
          ]
        }
      ],
      "source": [
        "import numpy as np\n",
        "\n",
        "# Create the following 2D array with shape (3, 4)\n",
        "# [[ 1  2  3  4]\n",
        "#  [ 5  6  7  8]\n",
        "#  [ 9 10 11 12]]\n",
        "a = np.array([[1,2,3,4], [5,6,7,8], [9,10,11,12], [13,14,15,16]])\n",
        "\n",
        "# Use slicing to pull out the subarray consisting of the first 2 rows\n",
        "# and columns 1 and 2; b is the following array of shape (2, 2):\n",
        "# [[2 3]\n",
        "#  [6 7]]\n",
        "b = a[0:2, 1:3]   # row 0,1, column  1,2,\n",
        "print(a)\n",
        "print(b)"
      ]
    },
    {
      "cell_type": "markdown",
      "source": [
        "###Assignment: Given array extract the middle four element as 2D array and print it. Output: [\n",
        "                    [6,7],\n",
        "                    [10,11] ]\n",
        "\n",
        "###$ Print the slice format a[x:y, p:q]  "
      ],
      "metadata": {
        "id": "S5MhNydLpayT"
      }
    },
    {
      "cell_type": "code",
      "source": [
        "#answer\n",
        "b=a[1:3,1:3]\n",
        "print(a)\n",
        "print(b)"
      ],
      "metadata": {
        "colab": {
          "base_uri": "https://localhost:8080/"
        },
        "id": "aQMzIYa6bWn8",
        "outputId": "64c0156c-bf58-478f-a8c1-7401e4cb675b"
      },
      "execution_count": 18,
      "outputs": [
        {
          "output_type": "stream",
          "name": "stdout",
          "text": [
            "[[ 1  2  3  4]\n",
            " [ 5  6  7  8]\n",
            " [ 9 10 11 12]\n",
            " [13 14 15 16]]\n",
            "[[ 6  7]\n",
            " [10 11]]\n"
          ]
        }
      ]
    },
    {
      "cell_type": "markdown",
      "metadata": {
        "id": "KahhtZKYL9iF"
      },
      "source": [
        "A slice of an array is a view into the same data, so modifying it will modify the original array."
      ]
    },
    {
      "cell_type": "code",
      "execution_count": 19,
      "metadata": {
        "colab": {
          "base_uri": "https://localhost:8080/"
        },
        "id": "1kmtaFHuL9iG",
        "outputId": "20dc601a-8571-49dc-8b17-ef2f3b6356a7"
      },
      "outputs": [
        {
          "output_type": "stream",
          "name": "stdout",
          "text": [
            "2\n",
            "2\n"
          ]
        }
      ],
      "source": [
        "#practice\n",
        "print(a[0, 1])\n",
        "b[0, 0] = 77    # b[0, 0] is the same piece of data as a[0, 1]\n",
        "print(a[0, 1])"
      ]
    },
    {
      "cell_type": "code",
      "source": [
        "#practice\n",
        "print(a[0, 1])\n",
        "b[0, 0] = 77    # b[0, 0] is the same piece of data as a[0, 1]\n",
        "print(a[0, 0])"
      ],
      "metadata": {
        "colab": {
          "base_uri": "https://localhost:8080/"
        },
        "id": "DJWBi9U6g5WX",
        "outputId": "87ec7167-d340-4068-de8a-f8f062130ec7"
      },
      "execution_count": 20,
      "outputs": [
        {
          "output_type": "stream",
          "name": "stdout",
          "text": [
            "2\n",
            "1\n"
          ]
        }
      ]
    },
    {
      "cell_type": "code",
      "source": [
        "#practice\n",
        "print(a[0, 1])\n",
        "b[1, 1] = 77    # b[0, 0] is the same piece of data as a[0, 1]\n",
        "print(a[1, 1])"
      ],
      "metadata": {
        "colab": {
          "base_uri": "https://localhost:8080/"
        },
        "id": "NssJCZ9ehDeC",
        "outputId": "2a63bead-7ee2-4751-8c9a-9a5d78a9ba4c"
      },
      "execution_count": 21,
      "outputs": [
        {
          "output_type": "stream",
          "name": "stdout",
          "text": [
            "2\n",
            "77\n"
          ]
        }
      ]
    },
    {
      "cell_type": "code",
      "source": [
        "print(a[0, 1])\n",
        "b[0, 1] = 77    # b[0, 0] is the same piece of data as a[0, 1]\n",
        "print(a[0, 1])"
      ],
      "metadata": {
        "colab": {
          "base_uri": "https://localhost:8080/"
        },
        "id": "JscdgxH7hMgD",
        "outputId": "f270c855-8c91-4ee2-82f1-47dae70f2c4d"
      },
      "execution_count": 22,
      "outputs": [
        {
          "output_type": "stream",
          "name": "stdout",
          "text": [
            "2\n",
            "2\n"
          ]
        }
      ]
    },
    {
      "cell_type": "markdown",
      "metadata": {
        "id": "_Zcf3zi-L9iI"
      },
      "source": [
        "You can also mix integer indexing with slice indexing. However, doing so will yield an array of lower rank than the original array."
      ]
    },
    {
      "cell_type": "code",
      "execution_count": 23,
      "metadata": {
        "colab": {
          "base_uri": "https://localhost:8080/"
        },
        "id": "G6lfbPuxL9iJ",
        "outputId": "556940f0-58ca-4291-8368-ea974aa2b7f4"
      },
      "outputs": [
        {
          "output_type": "stream",
          "name": "stdout",
          "text": [
            "[[ 1  2  3  4]\n",
            " [ 5  6  7  8]\n",
            " [ 9 10 11 12]\n",
            " [ 1  2  3  4]]\n"
          ]
        }
      ],
      "source": [
        "# Create the following rank 2 array with shape (3, 4)\n",
        "a = np.array([[1,2,3,4], [5,6,7,8], [9,10,11,12], [1,2,3,4]])\n",
        "print(a)"
      ]
    },
    {
      "cell_type": "code",
      "source": [
        "#pracctice\n",
        "print(a>12)\n",
        "print(a>11)\n",
        "print(a[a>6])"
      ],
      "metadata": {
        "colab": {
          "base_uri": "https://localhost:8080/"
        },
        "id": "Xd9uyukT6Wx_",
        "outputId": "2f2b923d-bc71-431c-d057-d3877411932a"
      },
      "execution_count": 24,
      "outputs": [
        {
          "output_type": "stream",
          "name": "stdout",
          "text": [
            "[[False False False False]\n",
            " [False False False False]\n",
            " [False False False False]\n",
            " [False False False False]]\n",
            "[[False False False False]\n",
            " [False False False False]\n",
            " [False False False  True]\n",
            " [False False False False]]\n",
            "[ 7  8  9 10 11 12]\n"
          ]
        }
      ]
    },
    {
      "cell_type": "markdown",
      "metadata": {
        "id": "NCye3NXhL9iL"
      },
      "source": [
        "Two ways of accessing the data in the middle row of the array.\n",
        "Mixing integer indexing with slices yields an array of lower rank,\n",
        "while using only slices yields an array of the same rank as the\n",
        "original array:"
      ]
    },
    {
      "cell_type": "code",
      "execution_count": 25,
      "metadata": {
        "colab": {
          "base_uri": "https://localhost:8080/"
        },
        "id": "EOiEMsmNL9iL",
        "outputId": "e2caf0ec-4de2-41d0-ef60-1a57b4cc78bf"
      },
      "outputs": [
        {
          "output_type": "stream",
          "name": "stdout",
          "text": [
            "[5 6 7 8] (4,)\n",
            "[[5 6 7 8]] (1, 4)\n",
            "[[5 6 7 8]] (1, 4)\n"
          ]
        }
      ],
      "source": [
        "row_r1 = a[1, :]    # Rank 1 view of the second row of a\n",
        "row_r2 = a[1:2, :]  # Rank 2 view of the second row of a\n",
        "row_r3 = a[[1], :]  # Rank 2 view of the second row of a\n",
        "print(row_r1, row_r1.shape)\n",
        "print(row_r2, row_r2.shape)\n",
        "print(row_r3, row_r3.shape)"
      ]
    },
    {
      "cell_type": "code",
      "execution_count": 26,
      "metadata": {
        "colab": {
          "base_uri": "https://localhost:8080/"
        },
        "id": "JXu73pfDL9iN",
        "outputId": "4f1bfb44-e4c8-45ce-8df9-6e06ba11a53c"
      },
      "outputs": [
        {
          "output_type": "stream",
          "name": "stdout",
          "text": [
            "[ 2  6 10  2] (4,)\n",
            "\n",
            "[[ 2]\n",
            " [ 6]\n",
            " [10]\n",
            " [ 2]] (4, 1)\n"
          ]
        }
      ],
      "source": [
        "# We can make the same distinction when accessing columns of an array:\n",
        "col_r1 = a[:, 1]\n",
        "col_r2 = a[:, 1:2]\n",
        "print(col_r1, col_r1.shape)\n",
        "print()\n",
        "print(col_r2, col_r2.shape)"
      ]
    },
    {
      "cell_type": "markdown",
      "metadata": {
        "id": "VP3916bOL9iP"
      },
      "source": [
        "Integer array indexing: When you index into numpy arrays using slicing, the resulting array view will always be a subarray of the original array. In contrast, integer array indexing allows you to construct arbitrary arrays using the data from another array. Here is an example:"
      ]
    },
    {
      "cell_type": "code",
      "execution_count": 27,
      "metadata": {
        "colab": {
          "base_uri": "https://localhost:8080/"
        },
        "id": "TBnWonIDL9iP",
        "outputId": "ca6d203c-d011-41e8-d50a-9ed9564a7f4c"
      },
      "outputs": [
        {
          "output_type": "stream",
          "name": "stdout",
          "text": [
            "[1 4 5]\n",
            "[1 4 5]\n"
          ]
        }
      ],
      "source": [
        "a = np.array([[1,2], [3, 4], [5, 6]])\n",
        "\n",
        "# An example of integer array indexing.\n",
        "# The returned array will have shape (3,) and\n",
        "print(a[[0, 1, 2], [0, 1, 0]]) # Here besically we are looking int array values of a[0,0],a[1, 1], a[2, 0]\n",
        "\n",
        "# The above example of integer array indexing is equivalent to this:\n",
        "print(np.array([a[0, 0], a[1, 1], a[2, 0]]))"
      ]
    },
    {
      "cell_type": "code",
      "execution_count": 28,
      "metadata": {
        "colab": {
          "base_uri": "https://localhost:8080/"
        },
        "id": "n7vuati-L9iR",
        "outputId": "420d91c7-56f6-49b8-a84d-8c57de37f738"
      },
      "outputs": [
        {
          "output_type": "stream",
          "name": "stdout",
          "text": [
            "[2 2]\n",
            "[2 2]\n"
          ]
        }
      ],
      "source": [
        "# When using integer array indexing, you can reuse the same\n",
        "# element from the source array:\n",
        "print(a[[0, 0], [1, 1]])\n",
        "\n",
        "# Equivalent to the previous integer array indexing example\n",
        "print(np.array([a[0, 1], a[0, 1]]))"
      ]
    },
    {
      "cell_type": "markdown",
      "metadata": {
        "id": "kaipSLafL9iU"
      },
      "source": [
        "One useful trick with integer array indexing is selecting or mutating one element from each row of a matrix:"
      ]
    },
    {
      "cell_type": "code",
      "execution_count": 29,
      "metadata": {
        "colab": {
          "base_uri": "https://localhost:8080/"
        },
        "id": "ehqsV7TXL9iU",
        "outputId": "77f9b588-e718-4189-f199-28da28363170"
      },
      "outputs": [
        {
          "output_type": "stream",
          "name": "stdout",
          "text": [
            "[[ 1  2  3]\n",
            " [ 4  5  6]\n",
            " [ 7  8  9]\n",
            " [10 11 12]]\n"
          ]
        }
      ],
      "source": [
        "# Create a new array from which we will select elements\n",
        "a = np.array([[1,2,3], [4,5,6], [7,8,9], [10, 11, 12]])\n",
        "print(a)"
      ]
    },
    {
      "cell_type": "code",
      "source": [
        "print(np.arange(4)) # Its like range(4)"
      ],
      "metadata": {
        "colab": {
          "base_uri": "https://localhost:8080/"
        },
        "id": "svQWWytLsmMf",
        "outputId": "149898ae-b6f0-4a8e-f787-aebc46f3655e"
      },
      "execution_count": 30,
      "outputs": [
        {
          "output_type": "stream",
          "name": "stdout",
          "text": [
            "[0 1 2 3]\n"
          ]
        }
      ]
    },
    {
      "cell_type": "code",
      "execution_count": 31,
      "metadata": {
        "colab": {
          "base_uri": "https://localhost:8080/"
        },
        "id": "pAPOoqy5L9iV",
        "outputId": "631bf952-e06e-4ce7-8a47-e3f0b0cb5882"
      },
      "outputs": [
        {
          "output_type": "stream",
          "name": "stdout",
          "text": [
            "[ 1  6  7 11]\n"
          ]
        }
      ],
      "source": [
        "# Create an array of indices\n",
        "b = np.array([0, 2, 0, 1])\n",
        "\n",
        "# Select one element from each row of b using the indices in b\n",
        "print(a[np.arange(4), b])  # Prints \"[ 1  6  7 11]\""
      ]
    },
    {
      "cell_type": "code",
      "source": [
        "b=np.array([0,2,0])\n",
        "print(a[np.arange(3),b])"
      ],
      "metadata": {
        "colab": {
          "base_uri": "https://localhost:8080/"
        },
        "id": "-7d1-VMHji1o",
        "outputId": "11b989b0-e493-4ecf-e023-8ba78982759b"
      },
      "execution_count": 32,
      "outputs": [
        {
          "output_type": "stream",
          "name": "stdout",
          "text": [
            "[1 6 7]\n"
          ]
        }
      ]
    },
    {
      "cell_type": "code",
      "source": [
        "b=np.array([0,2,0])\n",
        "print(a[np.arange(3),b])"
      ],
      "metadata": {
        "colab": {
          "base_uri": "https://localhost:8080/"
        },
        "id": "KAD4hfKEkP9_",
        "outputId": "0eb44fae-e721-4c8d-81ea-fe08e4cdf95f"
      },
      "execution_count": 33,
      "outputs": [
        {
          "output_type": "stream",
          "name": "stdout",
          "text": [
            "[1 6 7]\n"
          ]
        }
      ]
    },
    {
      "cell_type": "code",
      "execution_count": 34,
      "metadata": {
        "colab": {
          "base_uri": "https://localhost:8080/"
        },
        "id": "6v1PdI1DL9ib",
        "outputId": "ab30ec31-fd33-4d31-872c-3b6c6d1847bd"
      },
      "outputs": [
        {
          "output_type": "stream",
          "name": "stdout",
          "text": [
            "[[11  2  3]\n",
            " [ 4  5 16]\n",
            " [17  8  9]\n",
            " [10 21 12]]\n"
          ]
        }
      ],
      "source": [
        "# Mutate one element from each row of a using the indices in b\n",
        "b = np.array([0, 2, 0, 1])\n",
        "a[np.arange(4), b] += 10\n",
        "print(a)"
      ]
    },
    {
      "cell_type": "markdown",
      "source": [
        "# Question\n",
        "\n",
        "\n",
        "# Given the 2D array:\n",
        "a = np.array([[10, 20, 30, 40],\n",
        "              [50, 60, 70, 80],\n",
        "              [90,100,110,120]])\n",
        "\n",
        "# Task:\n",
        "# 1. Extract a subarray b containing:\n",
        "#       [[20, 30],\n",
        "#        [60, 70]]\n",
        "# 2. Set b first element value to 999\n",
        "# 3. Print both `a` and `b`\n",
        "\n"
      ],
      "metadata": {
        "id": "hoIHa74dDSTO"
      }
    },
    {
      "cell_type": "code",
      "source": [
        "#answer\n",
        "a = np.array([[10, 20, 30, 40], [50, 60, 70, 80], [90,100,110,120]])\n",
        "b=a[0:2,1:3]\n",
        "print(a)\n",
        "print(b)\n"
      ],
      "metadata": {
        "colab": {
          "base_uri": "https://localhost:8080/"
        },
        "id": "cIsdr3llcrwU",
        "outputId": "df281f01-0b69-4230-a402-057e2773e670"
      },
      "execution_count": 35,
      "outputs": [
        {
          "output_type": "stream",
          "name": "stdout",
          "text": [
            "[[ 10  20  30  40]\n",
            " [ 50  60  70  80]\n",
            " [ 90 100 110 120]]\n",
            "[[20 30]\n",
            " [60 70]]\n"
          ]
        }
      ]
    },
    {
      "cell_type": "code",
      "source": [
        "#anser 2 and 3\n",
        "a = np.array([[10, 20, 30, 40], [50, 60, 70, 80], [90,100,110,120]])\n",
        "b=a[0:2,1:3]\n",
        "b[0,0]=999\n",
        "print(a)\n",
        "print(b)"
      ],
      "metadata": {
        "colab": {
          "base_uri": "https://localhost:8080/"
        },
        "id": "0XCK60jhlzaX",
        "outputId": "00362384-9868-4bae-ef89-3c3649ba396f"
      },
      "execution_count": 36,
      "outputs": [
        {
          "output_type": "stream",
          "name": "stdout",
          "text": [
            "[[ 10 999  30  40]\n",
            " [ 50  60  70  80]\n",
            " [ 90 100 110 120]]\n",
            "[[999  30]\n",
            " [ 60  70]]\n"
          ]
        }
      ]
    },
    {
      "cell_type": "markdown",
      "metadata": {
        "id": "kaE8dBGgL9id"
      },
      "source": [
        "Boolean array indexing: Boolean array indexing lets you pick out arbitrary elements of an array. Frequently this type of indexing is used to select the elements of an array that satisfy some condition. Here is an example:"
      ]
    },
    {
      "cell_type": "code",
      "execution_count": 37,
      "metadata": {
        "colab": {
          "base_uri": "https://localhost:8080/"
        },
        "id": "32PusjtKL9id",
        "outputId": "ff4f529c-1e69-49a9-c92a-211f3c5a6de5"
      },
      "outputs": [
        {
          "output_type": "stream",
          "name": "stdout",
          "text": [
            "[[False  True]\n",
            " [ True  True]\n",
            " [ True  True]]\n"
          ]
        }
      ],
      "source": [
        "import numpy as np\n",
        "\n",
        "\n",
        "\n",
        "a = np.array([[0,2], [3, 4], [5, 6]])\n",
        "\n",
        "bool_idx = (a>0)  # Find the elements of a that are bigger than 2;\n",
        "                    # this returns a numpy array of Booleans of the same\n",
        "                    # shape as a, where each slot of bool_idx tells\n",
        "                    # whether that element of a is > 2.\n",
        "\n",
        "print(bool_idx)"
      ]
    },
    {
      "cell_type": "code",
      "execution_count": 38,
      "metadata": {
        "colab": {
          "base_uri": "https://localhost:8080/"
        },
        "id": "cb2IRMXaL9if",
        "outputId": "250d04ef-548e-4c33-fe2f-08999dcf49ad"
      },
      "outputs": [
        {
          "output_type": "stream",
          "name": "stdout",
          "text": [
            "[0 2]\n"
          ]
        }
      ],
      "source": [
        "# We use boolean array indexing to construct a rank 1 array\n",
        "# consisting of the elements of a corresponding to the True values\n",
        "# of bool_idx\n",
        "#print(a[bool_idx])\n",
        "#print(a)\n",
        "# We can do all of the above in a single concise statement:\n",
        "print(a[a <=2])"
      ]
    },
    {
      "cell_type": "markdown",
      "metadata": {
        "id": "jTctwqdQL9ih"
      },
      "source": [
        "###Datatypes"
      ]
    },
    {
      "cell_type": "markdown",
      "metadata": {
        "id": "kSZQ1WkIL9ih"
      },
      "source": [
        "Every numpy array is a grid of elements of the same type. Numpy provides a large set of numeric datatypes that you can use to construct arrays. Numpy tries to guess a datatype when you create an array, but functions that construct arrays usually also include an optional argument to explicitly specify the datatype. Here is an example:"
      ]
    },
    {
      "cell_type": "code",
      "execution_count": 39,
      "metadata": {
        "colab": {
          "base_uri": "https://localhost:8080/"
        },
        "id": "4za4O0m5L9ih",
        "outputId": "90b68c4b-5b60-4ae2-f4ee-9198f5608a08"
      },
      "outputs": [
        {
          "output_type": "stream",
          "name": "stdout",
          "text": [
            "int64 float64 int64\n"
          ]
        }
      ],
      "source": [
        "x = np.array([1, 2])  # Let numpy choose the datatype\n",
        "y = np.array([1.0, 2.0])  # Let numpy choose the datatype\n",
        "z = np.array([1, 2], dtype=np.int64)  # Force a particular datatype\n",
        "\n",
        "print(x.dtype, y.dtype, z.dtype)"
      ]
    },
    {
      "cell_type": "code",
      "source": [
        "x=np.array([[1,2,3,4],[5,6,7,8],[1,2,3,4],[3,4,5,6]])\n",
        "#print(x)\n",
        "\n",
        "x[:,:]=5\n",
        "print(x)"
      ],
      "metadata": {
        "colab": {
          "base_uri": "https://localhost:8080/"
        },
        "id": "AvgvvYSvmzz0",
        "outputId": "5bb31210-e4be-44eb-a2df-6ea3bc03bde5"
      },
      "execution_count": 40,
      "outputs": [
        {
          "output_type": "stream",
          "name": "stdout",
          "text": [
            "[[5 5 5 5]\n",
            " [5 5 5 5]\n",
            " [5 5 5 5]\n",
            " [5 5 5 5]]\n"
          ]
        }
      ]
    },
    {
      "cell_type": "code",
      "source": [
        "#practice1\n",
        "x=np.array([[1,2,3,4],[5,6,7,8],[1,2,3,4],[3,4,5,6]])\n",
        "x[:,:]=6\n",
        "print(x)"
      ],
      "metadata": {
        "colab": {
          "base_uri": "https://localhost:8080/"
        },
        "id": "RgX8s2f3vOhx",
        "outputId": "fff76e6a-fcc3-4db3-e6ac-a333b85864cd"
      },
      "execution_count": 41,
      "outputs": [
        {
          "output_type": "stream",
          "name": "stdout",
          "text": [
            "[[6 6 6 6]\n",
            " [6 6 6 6]\n",
            " [6 6 6 6]\n",
            " [6 6 6 6]]\n"
          ]
        }
      ]
    },
    {
      "cell_type": "markdown",
      "metadata": {
        "id": "TuB-fdhIL9ik"
      },
      "source": [
        "###Array math"
      ]
    },
    {
      "cell_type": "markdown",
      "metadata": {
        "id": "18e8V8elL9ik"
      },
      "source": [
        "Basic mathematical functions operate elementwise on arrays, and are available both as operator overloads and as functions in the numpy module:"
      ]
    },
    {
      "cell_type": "code",
      "execution_count": 42,
      "metadata": {
        "colab": {
          "base_uri": "https://localhost:8080/"
        },
        "id": "gHKvBrSKL9il",
        "outputId": "5b6c0581-a6ba-499e-ebe4-50dcb701783e"
      },
      "outputs": [
        {
          "output_type": "stream",
          "name": "stdout",
          "text": [
            "[[1. 2.]\n",
            " [3. 4.]]\n",
            "[[5. 6.]\n",
            " [7. 8.]]\n",
            "[[ 6.  8.]\n",
            " [10. 12.]]\n"
          ]
        }
      ],
      "source": [
        "x = np.array([[1,2],[3,4]], dtype=np.float64)\n",
        "y = np.array([[5,6],[7,8]], dtype=np.float64)\n",
        "\n",
        "print(x)\n",
        "print(y)\n",
        "\n",
        "# Elementwise sum; both produce the array\n",
        "print(x + y)\n",
        "#print(np.add(x, y))"
      ]
    },
    {
      "cell_type": "code",
      "execution_count": 43,
      "metadata": {
        "colab": {
          "base_uri": "https://localhost:8080/"
        },
        "id": "1fZtIAMxL9in",
        "outputId": "85bb73e9-7274-4ac8-ae1e-0df15c1a8d80"
      },
      "outputs": [
        {
          "output_type": "stream",
          "name": "stdout",
          "text": [
            "[[4. 4.]\n",
            " [4. 4.]]\n",
            "[[-4. -4.]\n",
            " [-4. -4.]]\n"
          ]
        }
      ],
      "source": [
        "# Elementwise difference; both produce the array\n",
        "print(y - x)\n",
        "print(np.subtract(x, y))"
      ]
    },
    {
      "cell_type": "markdown",
      "metadata": {
        "id": "a5d_uujuL9it"
      },
      "source": [
        " We use the dot function to compute inner products of vectors, to multiply a vector by a matrix, and to multiply matrices. dot is available both as a function in the numpy module and as an instance method of array objects:"
      ]
    },
    {
      "cell_type": "code",
      "execution_count": 44,
      "metadata": {
        "colab": {
          "base_uri": "https://localhost:8080/"
        },
        "id": "I3FnmoSeL9iu",
        "outputId": "df7ec71a-679b-4834-9067-1a0a609bd1af"
      },
      "outputs": [
        {
          "output_type": "stream",
          "name": "stdout",
          "text": [
            "219\n"
          ]
        }
      ],
      "source": [
        "x = np.array([[1,2],[3,4]])\n",
        "y = np.array([[5,6],[7,8]])\n",
        "\n",
        "v = np.array([9,10])\n",
        "w = np.array([11, 12])\n",
        "\n",
        "# Inner product of vectors; both produce 219\n",
        "print(np.dot(w,v))\n",
        "#print(np.dot(v, w))"
      ]
    },
    {
      "cell_type": "markdown",
      "source": [
        "# question\n",
        "\n",
        "# a ={5,9,11,21,23}\n",
        "# b={3,21,31,33,43}\n",
        "\n",
        " # c=a+b\n",
        "# find the elementwise sum of a and b  in  c={8, 30,}\n",
        "\n",
        "# Find dot produce of a, c and a, a\n",
        "\n",
        "# Use reshape to do the same dot product.\n",
        "\n",
        "# 1. Create two 1D vectors:\n",
        "#    v = np.array([9, 10])\n",
        "#    w = np.array([11, 12])\n",
        "# 2. Compute the inner product using:\n",
        "#    a. `np.dot(v, w)`\n",
        "#    b. `np.dot(w, v)`\n",
        "# 3. write function to verify both are equal or not"
      ],
      "metadata": {
        "id": "mJ87EnAqEZ0P"
      }
    },
    {
      "cell_type": "code",
      "source": [
        "#1 answer\n",
        "a =np.array([5,9,11,21,23])\n",
        "b=np.array([3,21,31,33,43])\n",
        "c=a+b\n",
        "print(c)"
      ],
      "metadata": {
        "id": "NQVPD52682sl",
        "colab": {
          "base_uri": "https://localhost:8080/"
        },
        "outputId": "26030911-f610-41fa-f15e-daa5280d332f"
      },
      "execution_count": 45,
      "outputs": [
        {
          "output_type": "stream",
          "name": "stdout",
          "text": [
            "[ 8 30 42 54 66]\n"
          ]
        }
      ]
    },
    {
      "cell_type": "code",
      "source": [
        "#2 and 3 answer\n",
        "v = np.array([9, 10])\n",
        "w = np.array([11, 12])\n",
        "print(np.dot(v,w))\n",
        "print(np.dot(w,v))# both are equal\n",
        "print(np.dot(v,w)==np.dot(w,v))"
      ],
      "metadata": {
        "colab": {
          "base_uri": "https://localhost:8080/"
        },
        "id": "dooO-kEMxvM7",
        "outputId": "0b197c4b-01cf-41f5-b96f-f7d9d98d3b2c"
      },
      "execution_count": 46,
      "outputs": [
        {
          "output_type": "stream",
          "name": "stdout",
          "text": [
            "219\n",
            "219\n",
            "True\n"
          ]
        }
      ]
    },
    {
      "cell_type": "markdown",
      "metadata": {
        "id": "vmxPbrHASVeA"
      },
      "source": [
        "You can also use the `@` operator which is equivalent to numpy's `dot` operator."
      ]
    },
    {
      "cell_type": "code",
      "execution_count": 47,
      "metadata": {
        "colab": {
          "base_uri": "https://localhost:8080/"
        },
        "id": "vyrWA-mXSdtt",
        "outputId": "af5c6794-9c4a-4a3f-fd10-d7360dfdfd49"
      },
      "outputs": [
        {
          "output_type": "stream",
          "name": "stdout",
          "text": [
            "219\n"
          ]
        }
      ],
      "source": [
        "print(v @ w)"
      ]
    },
    {
      "cell_type": "code",
      "execution_count": 48,
      "metadata": {
        "colab": {
          "base_uri": "https://localhost:8080/"
        },
        "id": "zvUODeTxL9iw",
        "outputId": "2d7dcf74-c8a3-4928-ca06-991be06d5de5"
      },
      "outputs": [
        {
          "output_type": "stream",
          "name": "stdout",
          "text": [
            "[29 67]\n",
            "[29 67]\n",
            "[29 67]\n"
          ]
        }
      ],
      "source": [
        "# Matrix / vector product; both produce the rank 1 array [29 67]\n",
        "print(x.dot(v))\n",
        "print(np.dot(x, v))\n",
        "print(x @ v)"
      ]
    },
    {
      "cell_type": "code",
      "execution_count": 49,
      "metadata": {
        "colab": {
          "base_uri": "https://localhost:8080/"
        },
        "id": "3V_3NzNEL9iy",
        "outputId": "3c2c75e8-cf1f-4dba-8c31-61924089bf46"
      },
      "outputs": [
        {
          "output_type": "stream",
          "name": "stdout",
          "text": [
            "[[19 22]\n",
            " [43 50]]\n",
            "[[19 22]\n",
            " [43 50]]\n",
            "[[19 22]\n",
            " [43 50]]\n"
          ]
        }
      ],
      "source": [
        "# Matrix / matrix product; both produce the rank 2 array\n",
        "# [[19 22]\n",
        "#  [43 50]]\n",
        "print(x.dot(y))\n",
        "print(np.dot(x, y))\n",
        "print(x @ y)"
      ]
    },
    {
      "cell_type": "markdown",
      "metadata": {
        "id": "FbE-1If_L9i0"
      },
      "source": [
        "Numpy provides many useful functions for performing computations on arrays; one of the most useful is `sum`:"
      ]
    },
    {
      "cell_type": "code",
      "execution_count": 50,
      "metadata": {
        "colab": {
          "base_uri": "https://localhost:8080/"
        },
        "id": "DZUdZvPrL9i0",
        "outputId": "53b3efac-de52-46bb-b096-8c6d4b1ed5ae"
      },
      "outputs": [
        {
          "output_type": "stream",
          "name": "stdout",
          "text": [
            "10\n",
            "[4 6]\n",
            "[3 7]\n"
          ]
        }
      ],
      "source": [
        "x = np.array([[1,2],[3,4]])\n",
        "\n",
        "print(np.sum(x))  # Compute sum of all elements; prints \"10\"\n",
        "print(np.sum(x, axis=0))  # Compute sum of each column; prints \"[4 6]\"\n",
        "print(np.sum(x, axis=1))  # Compute sum of each row; prints \"[3 7]\""
      ]
    },
    {
      "cell_type": "markdown",
      "metadata": {
        "id": "ahdVW4iUL9i3"
      },
      "source": [
        "You can find the full list of mathematical functions provided by numpy in the [documentation](http://docs.scipy.org/doc/numpy/reference/routines.math.html).\n",
        "\n",
        "Besides computing mathematical functions with arrays, we often need to reshape or manipulate the data within them. A simple example of this type of operation is transposing a matrix. To transpose a matrix, simply use the T attribute of an array object."
      ]
    },
    {
      "cell_type": "code",
      "execution_count": 51,
      "metadata": {
        "colab": {
          "base_uri": "https://localhost:8080/"
        },
        "id": "63Yl1f3oL9i3",
        "outputId": "cb0f00ef-19dc-4adb-9c6e-a634f42f61d2"
      },
      "outputs": [
        {
          "output_type": "stream",
          "name": "stdout",
          "text": [
            "[[1 2]\n",
            " [3 4]]\n",
            "transpose\n",
            " [[1 3]\n",
            " [2 4]]\n"
          ]
        }
      ],
      "source": [
        "print(x)\n",
        "print(\"transpose\\n\", x.T)"
      ]
    },
    {
      "cell_type": "code",
      "source": [],
      "metadata": {
        "id": "rNBH1cWezB1r"
      },
      "execution_count": 51,
      "outputs": []
    },
    {
      "cell_type": "code",
      "execution_count": 52,
      "metadata": {
        "colab": {
          "base_uri": "https://localhost:8080/"
        },
        "id": "mkk03eNIL9i4",
        "outputId": "57b1e6c6-32b1-4f4d-bc86-eff9d3cb1da7"
      },
      "outputs": [
        {
          "output_type": "stream",
          "name": "stdout",
          "text": [
            "[[1 2 3]]\n",
            "transpose\n",
            " [[1]\n",
            " [2]\n",
            " [3]]\n"
          ]
        }
      ],
      "source": [
        "v = np.array([[1,2,3]])\n",
        "print(v )\n",
        "print(\"transpose\\n\", v.T)"
      ]
    },
    {
      "cell_type": "markdown",
      "source": [
        "# Question\n",
        "Create two 2x2 matrices and perform:\n",
        "\n",
        "Addition\n",
        "\n",
        "Multiplication\n",
        "\n",
        "Transpose\n",
        "\n",
        "Verify if\n",
        "$$A^T.B = A.B^T$$\n"
      ],
      "metadata": {
        "id": "ICarqLToFQ8l"
      }
    },
    {
      "cell_type": "code",
      "source": [
        "#answer\n",
        "x=np.array([[5,6],[7,8]])\n",
        "y=(np.sum(x))\n",
        "z=(np.sum(x,axis=0))\n",
        "w=(np.sum(x,axis=1))\n",
        "print(x)\n",
        "print(y)\n",
        "print(z)\n",
        "print(w)\n",
        "\n"
      ],
      "metadata": {
        "colab": {
          "base_uri": "https://localhost:8080/"
        },
        "id": "gxbkYYx6zDdF",
        "outputId": "f40dcaca-72a6-48e2-b3f3-edf47c028cfa"
      },
      "execution_count": 53,
      "outputs": [
        {
          "output_type": "stream",
          "name": "stdout",
          "text": [
            "[[5 6]\n",
            " [7 8]]\n",
            "26\n",
            "[12 14]\n",
            "[11 15]\n"
          ]
        }
      ]
    },
    {
      "cell_type": "code",
      "source": [
        "#answer\n",
        "print(x)\n",
        "print(\"transpose\\n\", x.T)"
      ],
      "metadata": {
        "colab": {
          "base_uri": "https://localhost:8080/"
        },
        "id": "auYWDYeG1frx",
        "outputId": "d50f7e48-f6b4-45d5-ceef-a009664bd632"
      },
      "execution_count": 54,
      "outputs": [
        {
          "output_type": "stream",
          "name": "stdout",
          "text": [
            "[[5 6]\n",
            " [7 8]]\n",
            "transpose\n",
            " [[5 7]\n",
            " [6 8]]\n"
          ]
        }
      ]
    },
    {
      "cell_type": "code",
      "source": [
        "#answer\n",
        "a=np.array([[1,2],[3,4]])\n",
        "b=np.array([[5,6],[8,9]])\n",
        "x=np.dot(a,b)\n",
        "print(x)\n",
        "# or\n",
        "print(a@b)\n",
        "#or\n",
        "print(a.dot(b))"
      ],
      "metadata": {
        "colab": {
          "base_uri": "https://localhost:8080/"
        },
        "id": "m2_veHT92Ckh",
        "outputId": "e6c23869-99fd-47a3-a164-0fde3457cd7b"
      },
      "execution_count": 55,
      "outputs": [
        {
          "output_type": "stream",
          "name": "stdout",
          "text": [
            "[[21 24]\n",
            " [47 54]]\n",
            "[[21 24]\n",
            " [47 54]]\n",
            "[[21 24]\n",
            " [47 54]]\n"
          ]
        }
      ]
    },
    {
      "cell_type": "markdown",
      "source": [
        "# Inverse and Identity Matrix"
      ],
      "metadata": {
        "id": "C1WpNDChGicY"
      }
    },
    {
      "cell_type": "code",
      "source": [
        "\n",
        "A = np.array([[1, 2], [3, 4]])\n",
        "I = np.eye(2)\n",
        "A_inv = np.linalg.inv(A)\n",
        "\n",
        "print(I)\n",
        "print(A_inv)"
      ],
      "metadata": {
        "colab": {
          "base_uri": "https://localhost:8080/"
        },
        "id": "k-89M-O-GgQJ",
        "outputId": "3e5c3189-a904-4ea5-d257-5849059a136b"
      },
      "execution_count": 56,
      "outputs": [
        {
          "output_type": "stream",
          "name": "stdout",
          "text": [
            "[[1. 0.]\n",
            " [0. 1.]]\n",
            "[[-2.   1. ]\n",
            " [ 1.5 -0.5]]\n"
          ]
        }
      ]
    },
    {
      "cell_type": "code",
      "source": [
        "#practice1\n",
        "A = np.array([[4, 3], [5, 6]])\n",
        "I = np.eye(2)\n",
        "A_inv = np.linalg.inv(A)\n",
        "print(I)\n",
        "print(A_inv)"
      ],
      "metadata": {
        "colab": {
          "base_uri": "https://localhost:8080/"
        },
        "id": "_OInmYFy3HuM",
        "outputId": "a7b2c75e-b46e-42cd-9eea-5a5a763bf4b6"
      },
      "execution_count": 57,
      "outputs": [
        {
          "output_type": "stream",
          "name": "stdout",
          "text": [
            "[[1. 0.]\n",
            " [0. 1.]]\n",
            "[[ 0.66666667 -0.33333333]\n",
            " [-0.55555556  0.44444444]]\n"
          ]
        }
      ]
    },
    {
      "cell_type": "markdown",
      "metadata": {
        "id": "REfLrUTcL9i7"
      },
      "source": [
        "###Broadcasting"
      ]
    },
    {
      "cell_type": "markdown",
      "metadata": {
        "id": "EygGAMWqL9i7"
      },
      "source": [
        "Broadcasting is a powerful mechanism in NumPy that enables it to perform arithmetic operations on arrays with different shapes. Often, we have a smaller array and a larger array, and we want to use the smaller array multiple times to perform operations on the larger array.\n",
        "\n",
        "For example, if we want to add a constant vector to each row of a matrix, we can achieve this as follows:"
      ]
    },
    {
      "cell_type": "code",
      "execution_count": 58,
      "metadata": {
        "colab": {
          "base_uri": "https://localhost:8080/"
        },
        "id": "WEEvkV1ZL9i7",
        "outputId": "42d7f667-4055-4fb2-821e-2b17c7a953b4"
      },
      "outputs": [
        {
          "output_type": "stream",
          "name": "stdout",
          "text": [
            "[[ 2  2  4]\n",
            " [ 5  5  7]\n",
            " [ 8  8 10]\n",
            " [11 11 13]]\n"
          ]
        }
      ],
      "source": [
        "# We will add the vector v to each row of the matrix x,\n",
        "# storing the result in the matrix y\n",
        "x = np.array([[1,2,3], [4,5,6], [7,8,9], [10, 11, 12]])\n",
        "v = np.array([1, 0, 1])\n",
        "y = np.empty_like(x)   # Create an empty matrix with the same shape as x\n",
        "\n",
        "# Add the vector v to each row of the matrix x with an explicit loop\n",
        "for i in range(4):\n",
        "    y[i, :] = x[i, :] + v\n",
        "\n",
        "print(y)"
      ]
    },
    {
      "cell_type": "code",
      "execution_count": 59,
      "metadata": {
        "colab": {
          "base_uri": "https://localhost:8080/"
        },
        "id": "vS7UwAQQL9i-",
        "outputId": "7b756dda-bd44-460c-c430-30c900d28e56"
      },
      "outputs": [
        {
          "output_type": "stream",
          "name": "stdout",
          "text": [
            "[[1 0 1]\n",
            " [1 0 1]\n",
            " [1 0 1]\n",
            " [1 0 1]]\n"
          ]
        }
      ],
      "source": [
        "vv = np.tile(v, (4, 1))  # Stack 4 copies of v on top of each other\n",
        "print(vv)                # Prints \"[[1 0 1]\n",
        "                         #          [1 0 1]\n",
        "                         #          [1 0 1]\n",
        "                         #          [1 0 1]]\""
      ]
    },
    {
      "cell_type": "code",
      "execution_count": 60,
      "metadata": {
        "colab": {
          "base_uri": "https://localhost:8080/"
        },
        "id": "N0hJphSIL9jA",
        "outputId": "d5c6ccbd-ed85-4c32-8820-0defc3350b01"
      },
      "outputs": [
        {
          "output_type": "stream",
          "name": "stdout",
          "text": [
            "[[ 2  2  4]\n",
            " [ 5  5  7]\n",
            " [ 8  8 10]\n",
            " [11 11 13]]\n"
          ]
        }
      ],
      "source": [
        "y = x + vv  # Add x and vv elementwise\n",
        "print(y)"
      ]
    },
    {
      "cell_type": "markdown",
      "metadata": {
        "id": "zHos6RJnL9jB"
      },
      "source": [
        "Numpy broadcasting allows us to perform this computation without actually creating multiple copies of v. Consider this version, using broadcasting:"
      ]
    },
    {
      "cell_type": "code",
      "execution_count": 61,
      "metadata": {
        "colab": {
          "base_uri": "https://localhost:8080/"
        },
        "id": "vnYFb-gYL9jC",
        "outputId": "735c9ca6-8b1a-4c08-f832-38b06e931cee"
      },
      "outputs": [
        {
          "output_type": "stream",
          "name": "stdout",
          "text": [
            "[[ 2  2  4]\n",
            " [ 5  5  7]\n",
            " [ 8  8 10]\n",
            " [11 11 13]]\n"
          ]
        }
      ],
      "source": [
        "import numpy as np\n",
        "\n",
        "# We will add the vector v to each row of the matrix x,\n",
        "# storing the result in the matrix y\n",
        "x = np.array([[1,2,3], [4,5,6], [7,8,9], [10, 11, 12]])\n",
        "v = np.array([1, 0, 1])\n",
        "y = x + v  # Add v to each row of x using broadcasting\n",
        "print(y)"
      ]
    },
    {
      "cell_type": "markdown",
      "metadata": {
        "id": "08YyIURKL9jH"
      },
      "source": [
        "The line `y = x + v` works even though `x` has shape `(4, 3)` and `v` has shape `(3,)` due to broadcasting; this line works as if v actually had shape `(4, 3)`, where each row was a copy of `v`, and the sum was performed elementwise.\n",
        "\n",
        "rule for broadcasting:\n",
        "You can do these arithmetic operations on matrices of different sizes, but only if one matrix has only one column or one row.\n",
        "\n",
        "\n",
        "\n",
        "Here are some applications of broadcasting:"
      ]
    },
    {
      "cell_type": "code",
      "execution_count": 62,
      "metadata": {
        "colab": {
          "base_uri": "https://localhost:8080/"
        },
        "id": "EmQnwoM9L9jH",
        "outputId": "d013c814-5bc0-423b-8ac3-8c03241d0bf6"
      },
      "outputs": [
        {
          "output_type": "stream",
          "name": "stdout",
          "text": [
            "[[ 4  5]\n",
            " [ 8 10]\n",
            " [12 15]]\n"
          ]
        }
      ],
      "source": [
        "# Compute outer product of vectors\n",
        "v = np.array([1,2,3])  # v has shape (3,)\n",
        "w = np.array([4,5])    # w has shape (2,)\n",
        "# To compute an outer product, we first reshape v to be a column\n",
        "# vector of shape (3, 1); we can then broadcast it against w to yield\n",
        "# an output of shape (3, 2), which is the outer product of v and w:\n",
        "\n",
        "print(np.reshape(v, (3, 1)) * w)"
      ]
    },
    {
      "cell_type": "code",
      "execution_count": 63,
      "metadata": {
        "colab": {
          "base_uri": "https://localhost:8080/"
        },
        "id": "PgotmpcnL9jK",
        "outputId": "f109929d-daa5-4db4-b7db-5193c1ef8440"
      },
      "outputs": [
        {
          "output_type": "stream",
          "name": "stdout",
          "text": [
            "[[2 4 6]\n",
            " [5 7 9]]\n"
          ]
        }
      ],
      "source": [
        "# Add a vector to each row of a matrix\n",
        "x = np.array([[1,2,3], [4,5,6]])\n",
        "# x has shape (2, 3) and v has shape (3,) so they broadcast to (2, 3),\n",
        "# giving the following matrix:\n",
        "\n",
        "print(x + v)"
      ]
    },
    {
      "cell_type": "code",
      "execution_count": 64,
      "metadata": {
        "colab": {
          "base_uri": "https://localhost:8080/"
        },
        "id": "T5hKS1QaL9jK",
        "outputId": "58b2d5e1-41fc-49d8-c377-17e2ebf35171"
      },
      "outputs": [
        {
          "output_type": "stream",
          "name": "stdout",
          "text": [
            "[[ 5  6  7]\n",
            " [ 9 10 11]]\n"
          ]
        }
      ],
      "source": [
        "# Add a vector to each column of a matrix\n",
        "# x has shape (2, 3) and w has shape (2,).\n",
        "# If we transpose x then it has shape (3, 2) and can be broadcast\n",
        "# against w to yield a result of shape (3, 2); transposing this result\n",
        "# yields the final result of shape (2, 3) which is the matrix x with\n",
        "# the vector w added to each column. Gives the following matrix:\n",
        "\n",
        "print((x.T + w).T)"
      ]
    },
    {
      "cell_type": "code",
      "source": [
        "import pandas as pd\n",
        "a={'number':[1,2,3,4,5]}\n",
        "d=pd.DataFrame(a)"
      ],
      "metadata": {
        "id": "IM2_Xm3zLdE9"
      },
      "execution_count": 65,
      "outputs": []
    },
    {
      "cell_type": "code",
      "execution_count": 66,
      "metadata": {
        "colab": {
          "base_uri": "https://localhost:8080/"
        },
        "id": "JDUrZUl6L9jN",
        "outputId": "5af83003-ac0f-447a-ad2a-505b6868f2a1"
      },
      "outputs": [
        {
          "output_type": "stream",
          "name": "stdout",
          "text": [
            "[[ 5  6  7]\n",
            " [ 9 10 11]]\n"
          ]
        }
      ],
      "source": [
        "# Another solution is to reshape w to be a row vector of shape (2, 1);\n",
        "# we can then broadcast it directly against x to produce the same\n",
        "# output.\n",
        "print(x + np.reshape(w, (2, 1)))"
      ]
    },
    {
      "cell_type": "code",
      "execution_count": 67,
      "metadata": {
        "colab": {
          "base_uri": "https://localhost:8080/"
        },
        "id": "VzrEo4KGL9jP",
        "outputId": "21a141cb-5da9-48ae-ebd9-9f53d255bfe5"
      },
      "outputs": [
        {
          "output_type": "stream",
          "name": "stdout",
          "text": [
            "[[ 2  4  6]\n",
            " [ 8 10 12]]\n"
          ]
        }
      ],
      "source": [
        "# Multiply a matrix by a constant:\n",
        "# x has shape (2, 3). Numpy treats scalars as arrays of shape ();\n",
        "# these can be broadcast together to shape (2, 3), producing the\n",
        "# following array:\n",
        "print(x * 2)\n",
        "\n",
        "\n"
      ]
    },
    {
      "cell_type": "markdown",
      "metadata": {
        "id": "89e2FXxFL9jQ"
      },
      "source": [
        "Broadcasting typically makes your code more concise and faster, so you should strive to use it where possible."
      ]
    },
    {
      "cell_type": "code",
      "source": [],
      "metadata": {
        "id": "RdE0GCSOWUsP"
      },
      "execution_count": 67,
      "outputs": []
    },
    {
      "cell_type": "markdown",
      "source": [
        "##Pandas"
      ],
      "metadata": {
        "id": "khB2vf6JXBZP"
      }
    },
    {
      "cell_type": "markdown",
      "source": [
        "# practice question"
      ],
      "metadata": {
        "id": "edJyA5lobTYm"
      }
    },
    {
      "cell_type": "code",
      "source": [],
      "metadata": {
        "id": "VqMTkiHlbYRk"
      },
      "execution_count": 67,
      "outputs": []
    },
    {
      "cell_type": "markdown",
      "source": [
        "# 📘 Linear Algebra Practice with Python\n",
        "\n",
        "\n",
        "# Q1: Vector Addition\n",
        "# Write a function to add two vectors.\n",
        "def add_vectors(v1, v2):\n",
        "    pass  # TODO: return element-wise sum\n",
        "\n",
        "# Q2: Dot Product\n",
        "# Compute the dot product of two vectors without using numpy.dot.\n",
        "def dot_product(v1, v2):\n",
        "    pass  # TODO: multiply element-wise and sum\n",
        "\n",
        "# Q3: Matrix Transpose\n",
        "# Transpose a matrix using a nested list.\n",
        "def transpose(matrix):\n",
        "    pass  # TODO: return transposed matrix\n",
        "\n",
        "# Q4: Matrix Multiplication\n",
        "# Multiply two 2x2 matrices using nested loops.\n",
        "def multiply_matrices(A, B):\n",
        "    pass  # TODO: implement matrix multiplication\n",
        "\n",
        "# Q5: Identity Matrix\n",
        "# Create an identity matrix of size n using NumPy.\n",
        "import numpy as np\n",
        "def identity_matrix(n):\n",
        "    pass  \n",
        "\n",
        "# Q6: Determinant of 2x2 or 3x3 matrix\n",
        "# Compute determinant without using numpy.linalg.det\n",
        "def determinant(matrix):\n",
        "    pass  # TODO: handle 2x2 and 3x3 cases\n",
        "\n",
        "# Q7: Eigenvalues and Eigenvectors\n",
        "# Use NumPy to compute eigenvalues and eigenvectors.\n",
        "def eigen_properties(matrix):\n",
        "    pass  # TODO: use np.linalg.eig\n",
        "\n",
        "# Q8: Solve Linear System Ax = b\n",
        "# Solve using numpy.linalg.solve\n",
        "def solve_linear_system(A, b):\n",
        "    pass\n",
        "\n",
        "\n",
        "# Q11: Projection of Vector a onto b\n",
        "def projection(a, b):\n",
        "    pass  # TODO: use projection formula\n",
        "\n",
        "\n",
        "# Q12: Norm of a Vector\n",
        "# Compute L1, L2, and Infinity norm of a vector\n",
        "def vector_norms(v):\n",
        "    pass  # TODO: use np.linalg.norm with ord=1, 2, np.inf\n",
        "\n",
        "# Q13: Normalize a Vector\n",
        "# Convert a vector to a unit vector\n",
        "def normalize_vector(v):\n",
        "    pass  # TODO: divide by its L2 norm\n",
        "\n",
        "\n",
        "# Q14: Check Symmetric Matrix\n",
        "# Verify if a matrix is symmetric\n",
        "def is_symmetric(matrix):\n",
        "    pass  \n",
        "\n",
        "# Q15: Inverse of a Matrix\n",
        "# Compute the inverse of a square matrix\n",
        "def inverse_matrix(matrix):\n",
        "    pass  \n",
        "\n",
        "# Q16 Find the inverse of a matrix and validate\n",
        " A * A⁻¹ = I\n",
        "\n",
        "\n"
      ],
      "metadata": {
        "id": "J6SVMxgsbZW-"
      }
    },
    {
      "cell_type": "code",
      "source": [],
      "metadata": {
        "id": "0_goxjJjDtip"
      },
      "execution_count": 67,
      "outputs": []
    },
    {
      "cell_type": "code",
      "source": [
        "# 1\n",
        "v1=np.array([1,2,3])\n",
        "v2=np.array([4,5,6])\n",
        "def Vect_add(v1,v2):\n",
        "  if len(v1)!=len(v2):\n",
        "    print('error!')\n",
        "  r=[x+y for x,y in zip(v1,v2)]\n",
        "  return v1+v2\n",
        "  vect_add(v1,v2)\n",
        "print(Vect_add(v1,v2))"
      ],
      "metadata": {
        "id": "akgyn6Vz4Ta-",
        "colab": {
          "base_uri": "https://localhost:8080/"
        },
        "outputId": "bd029e2c-6f17-4c80-976f-1962fda47396"
      },
      "execution_count": 68,
      "outputs": [
        {
          "output_type": "stream",
          "name": "stdout",
          "text": [
            "[5 7 9]\n"
          ]
        }
      ]
    },
    {
      "cell_type": "code",
      "source": [
        "#2\n",
        "v1=np.array([1,2,3])\n",
        "v2=np.array([4,5,6])\n",
        "def dot_add(v1,v2):\n",
        "  if len(v1)!=len(v2):\n",
        "    print('error!')\n",
        "  r=[x*y for x,y in zip(v1,v2)]\n",
        "  return v1*v2\n",
        "  dot_add(v1,v2)\n",
        "print(dot_add(v1,v2))"
      ],
      "metadata": {
        "id": "fPlNf4R77IWc",
        "colab": {
          "base_uri": "https://localhost:8080/"
        },
        "outputId": "264db5ab-475f-4780-cc06-7b3fcf9fd640"
      },
      "execution_count": 69,
      "outputs": [
        {
          "output_type": "stream",
          "name": "stdout",
          "text": [
            "[ 4 10 18]\n"
          ]
        }
      ]
    },
    {
      "cell_type": "code",
      "source": [
        "#3\n",
        "matrix=np.array([[1,2,3],[4,5,6]])\n",
        "def transpose_matrix(matrix):\n",
        "  rows=len(matrix)\n",
        "  columns=len(matrix[0])\n",
        "  transpose=[[0 for _ in range(rows)] for _ in range(columns)]\n",
        "  for i in range(rows):\n",
        "    for j in range( columns):\n",
        "      transpose[j][i]=matrix[i][j]\n",
        "  return transpose\n",
        "  transpose_matrix(matrix)\n",
        "print(transpose_matrix(matrix))\n"
      ],
      "metadata": {
        "colab": {
          "base_uri": "https://localhost:8080/"
        },
        "id": "ucogipWEDvMZ",
        "outputId": "9b24c708-f058-4090-f96c-475ea77611a7"
      },
      "execution_count": 71,
      "outputs": [
        {
          "output_type": "stream",
          "name": "stdout",
          "text": [
            "[[np.int64(1), np.int64(4)], [np.int64(2), np.int64(5)], [np.int64(3), np.int64(6)]]\n"
          ]
        }
      ]
    },
    {
      "cell_type": "code",
      "source": [
        "#4\n",
        "matrix_1= np.array([[1,2,3],[4,5,6]])\n",
        "matrix_2=np.array([[7,8],[9,10],[11,12]])\n",
        "def matrix_multiply(matrix_1,matrix_2):\n",
        "  rows_1=len(matrix_1)\n",
        "  column_1=len(matrix_1[0])\n",
        "  rows_2=len(matrix_2)\n",
        "  column_2=len(matrix_2[0])\n",
        "  if column_1!=rows_2:\n",
        "    print('error!')\n",
        "  result=[[0 for _ in range(column_2)] for _ in range (rows_1)]\n",
        "  for i in range(rows_1):\n",
        "    for j in range(column_2):\n",
        "      for k in range(column_1):\n",
        "        result[i][j]+=matrix_1[i][k]*matrix_2[k][j]\n",
        "  return result\n",
        "  product=matrix_multiply(matrix_1,matrix_2)\n",
        "print(matrix_multiply(matrix_1,matrix_2))\n",
        "\n"
      ],
      "metadata": {
        "colab": {
          "base_uri": "https://localhost:8080/"
        },
        "id": "cf9iOCbnbdwC",
        "outputId": "4af1b756-a9a5-40bd-fead-94942e4f1f5a"
      },
      "execution_count": 76,
      "outputs": [
        {
          "output_type": "stream",
          "name": "stdout",
          "text": [
            "[[np.int64(58), np.int64(64)], [np.int64(139), np.int64(154)]]\n"
          ]
        }
      ]
    },
    {
      "cell_type": "code",
      "source": [
        "#5\n",
        "import numpy as np\n",
        "identify_matrix=np.eye(4)\n",
        "print(identify_matrix)"
      ],
      "metadata": {
        "colab": {
          "base_uri": "https://localhost:8080/"
        },
        "id": "JcVvZ_hhii5X",
        "outputId": "e10174be-fb87-4ab5-a518-19f383532347"
      },
      "execution_count": 78,
      "outputs": [
        {
          "output_type": "stream",
          "name": "stdout",
          "text": [
            "[[1. 0. 0. 0.]\n",
            " [0. 1. 0. 0.]\n",
            " [0. 0. 1. 0.]\n",
            " [0. 0. 0. 1.]]\n"
          ]
        }
      ]
    },
    {
      "cell_type": "code",
      "source": [
        "#6(a) 2x2\n",
        "import numpy as np\n",
        "a= np.array([[3,2],[7,8]])\n",
        "\n",
        "\n",
        "def determinant_(matrix):\n",
        " if len(matrix)!=2 or any(len(row)!= 2 for row in matrix):\n",
        "   raise TypeError('input error!')\n",
        " a=matrix[0][0]\n",
        " b=matrix[0][1]\n",
        " c=matrix[1][0]\n",
        " d=matrix[1][1]\n",
        " return(a*d-b*c)\n",
        " product=determinant_(matrix)\n",
        "print(determinant_(a))"
      ],
      "metadata": {
        "colab": {
          "base_uri": "https://localhost:8080/"
        },
        "id": "fKxrp_9fjwGR",
        "outputId": "8faa1b59-4fd8-4406-f17a-29d336d48056"
      },
      "execution_count": 89,
      "outputs": [
        {
          "output_type": "stream",
          "name": "stdout",
          "text": [
            "10\n"
          ]
        }
      ]
    },
    {
      "cell_type": "code",
      "source": [
        "#6 (b) 3x3\n",
        "matrix=[\n",
        "      [1,2,3],\n",
        "      [4,5,6],\n",
        "      [9,7,8]\n",
        " ]\n",
        "def determinant_(matrix):\n",
        "  det=(matrix[0][0]*(matrix[1][1]*matrix[2][2]-matrix[1][2]*matrix[2][1])-\n",
        "       matrix[0][1]*(matrix[1][0]*matrix[2][2]-matrix[1][2]*matrix[2][0])+\n",
        "       matrix[0][2]*(matrix[1][0]*matrix[2][1]-matrix[1][1]*matrix[2][0]))\n",
        "  return det\n",
        "\n",
        "  determinant=determinant_(matrix)\n",
        "print(determinant_(matrix))"
      ],
      "metadata": {
        "colab": {
          "base_uri": "https://localhost:8080/"
        },
        "id": "d9qVZyB1oOgH",
        "outputId": "b383cc39-1eef-4cae-952d-35f9ea725dba"
      },
      "execution_count": 97,
      "outputs": [
        {
          "output_type": "stream",
          "name": "stdout",
          "text": [
            "-9\n"
          ]
        }
      ]
    },
    {
      "cell_type": "code",
      "source": [
        "#7\n",
        "import numpy as np\n",
        "A = np.array([[1, 3],[4, 5]])\n",
        "Eigen_values,Eigen_vectors = np.linalg.eig(A)\n",
        "print(f'Eigenvalues:{Eigen_values}')\n",
        "print(f'Eigenvectors :{Eigen_vectors}')"
      ],
      "metadata": {
        "colab": {
          "base_uri": "https://localhost:8080/"
        },
        "id": "PiSHBVy4tvDw",
        "outputId": "7709fc2f-9993-4af8-9103-ccf944db6597"
      },
      "execution_count": 102,
      "outputs": [
        {
          "output_type": "stream",
          "name": "stdout",
          "text": [
            "Eigenvalues:[-1.  7.]\n",
            "Eigenvectors :[[-0.83205029 -0.4472136 ]\n",
            " [ 0.5547002  -0.89442719]]\n"
          ]
        }
      ]
    },
    {
      "cell_type": "code",
      "source": [
        "#8\n",
        "import numpy as np\n",
        "a=np.array([[1,3],[14,17]])\n",
        "b=np.array([4,7])\n",
        "x= np.linalg.solve(a,b)\n",
        "print(x)"
      ],
      "metadata": {
        "colab": {
          "base_uri": "https://localhost:8080/"
        },
        "id": "aToFP2-_wUMq",
        "outputId": "8980bbf6-e775-4b42-e1b9-6e909e91519e"
      },
      "execution_count": 103,
      "outputs": [
        {
          "output_type": "stream",
          "name": "stdout",
          "text": [
            "[-1.88  1.96]\n"
          ]
        }
      ]
    },
    {
      "cell_type": "code",
      "source": [
        "#11\n",
        "#projection=((a.b)/b^2)b\n",
        "import numpy as np\n",
        "a=[2,4]\n",
        "b=[3,5]\n",
        "def vector_projection(a,b):\n",
        "  a=np.array(a)\n",
        "  b=np.array(b)\n",
        "  projection=(np.dot(a,b)/np.dot(b,b))*b\n",
        "  return projection\n",
        "  projection=vector_projection(a,b)\n",
        "print(vector_projection(a,b))"
      ],
      "metadata": {
        "colab": {
          "base_uri": "https://localhost:8080/"
        },
        "id": "0ZkYOjTIxcDi",
        "outputId": "29d8b8a2-0a84-403e-d179-9588aa63d83d"
      },
      "execution_count": 106,
      "outputs": [
        {
          "output_type": "stream",
          "name": "stdout",
          "text": [
            "[2.29411765 3.82352941]\n"
          ]
        }
      ]
    },
    {
      "cell_type": "code",
      "source": [
        "#12norm i1= sum of absolute value of elements\n",
        "#x[1,2,_3]=6\n",
        "# norm l2= square root of elements\n",
        "#[1,2,-3]=|1,4,9|=|14|=root over 14=3.75\n",
        "#inorm l3= max absolute values of elements\n",
        "# 1,2,-3=3\n",
        "import numpy as np\n",
        "def compute_norms(vector):\n",
        "  L1_norm=np.linalg.norm(vector,ord=1)\n",
        "  L2_norm=np.linalg.norm(vector,ord=2)\n",
        "  Linf_norm=np.linalg.norm(vector,ord=np.inf)\n",
        "  return L1_norm,L2_norm,Linf_norm\n",
        "  vector = np.array([1,2,-3])\n",
        "  L1 ,L2 ,L3 = compute_norms(vector)\n",
        "print(f'L1 norm :{L1}')\n",
        "print(f'L2 norm :{L2}')\n",
        "print(f'l3 norm :{L3}')\n",
        "\n"
      ],
      "metadata": {
        "colab": {
          "base_uri": "https://localhost:8080/"
        },
        "id": "nEeHAiNXzz3g",
        "outputId": "9bede396-f70b-482c-e1fd-37c0f5eba977"
      },
      "execution_count": 125,
      "outputs": [
        {
          "output_type": "stream",
          "name": "stdout",
          "text": [
            "L1 norm :6.0\n",
            "L2 norm :3.7416573867739413\n",
            "l3 norm :3.0\n"
          ]
        }
      ]
    },
    {
      "cell_type": "code",
      "source": [
        "#13\n",
        "#u/|v|\n",
        "#|v|=sqre root(x^2+y^2+z^2)\n",
        "import numpy as np\n",
        "def unit_vector(vector):\n",
        "  magnitude=np.linalg.norm(vector)\n",
        "  unit_vector=vector/magnitude\n",
        "  return unit_vector\n",
        "  vector=np.array([4,5,6])\n",
        "  unit_vectoR=unit_vector(vector)\n",
        "print(unit_vector(vector))"
      ],
      "metadata": {
        "colab": {
          "base_uri": "https://localhost:8080/"
        },
        "id": "Qhp8KsPP-Ga2",
        "outputId": "e96fdc37-d822-4323-9174-0a34e3998b49"
      },
      "execution_count": 126,
      "outputs": [
        {
          "output_type": "stream",
          "name": "stdout",
          "text": [
            "[ 0.26726124  0.53452248 -0.80178373]\n"
          ]
        }
      ]
    },
    {
      "cell_type": "code",
      "source": [
        "#14 symmetric matrix\n",
        "#when A transpose= A,A[i][j]=A[j][i]\n",
        "import numpy as np\n",
        "def create_symmetric_matrix(n):\n",
        "    matrix=np.random.rand(n,n)\n",
        "    symmetric_matrix=(matrix+matrix.T)/2\n",
        "    return symmetric_matrix\n",
        "n=3\n",
        "symmetric_matrix=create_symmetric_matrix(n)\n",
        "print(symmetric_matrix)"
      ],
      "metadata": {
        "colab": {
          "base_uri": "https://localhost:8080/"
        },
        "id": "p4zCbKFK_-xh",
        "outputId": "d3e39f4a-d433-4361-80d2-8f6d034da9ff"
      },
      "execution_count": 144,
      "outputs": [
        {
          "output_type": "stream",
          "name": "stdout",
          "text": [
            "[[0.26380791 0.61957398 0.36932358]\n",
            " [0.61957398 0.51983807 0.45108396]\n",
            " [0.36932358 0.45108396 0.70898793]]\n"
          ]
        }
      ]
    },
    {
      "cell_type": "code",
      "source": [
        "#15 inverse of matrix\n",
        "import numpy as np\n",
        "matrix = np.array([[2,4],[5,6]])\n",
        "inverse_matrix=np.linalg.inv(matrix)\n",
        "print('original matrix :')\n",
        "print(matrix)\n",
        "print(inverse_matrix)"
      ],
      "metadata": {
        "colab": {
          "base_uri": "https://localhost:8080/"
        },
        "id": "cdpmmV88EmpR",
        "outputId": "2b9c480b-405c-4873-99ca-f3cfbe064915"
      },
      "execution_count": 145,
      "outputs": [
        {
          "output_type": "stream",
          "name": "stdout",
          "text": [
            "original matrix :\n",
            "[[2 4]\n",
            " [5 6]]\n",
            "[[-0.75   0.5  ]\n",
            " [ 0.625 -0.25 ]]\n"
          ]
        }
      ]
    },
    {
      "cell_type": "code",
      "source": [
        "#A * A⁻¹ = I(identity matrix)\n",
        "import numpy as np\n",
        "matrix = np.array([[2,4],[5,6]])\n",
        "inverse_matrix=np.linalg.inv(matrix)\n",
        "I=np.identity(matrix.shape[0])\n",
        "result=np.matmul(matrix,inverse_matrix)\n",
        "print(result)\n",
        "print(I)"
      ],
      "metadata": {
        "colab": {
          "base_uri": "https://localhost:8080/"
        },
        "id": "ukCK-5DDFr9t",
        "outputId": "6f25d9fd-97db-45dd-808f-95c2a18e4e04"
      },
      "execution_count": 146,
      "outputs": [
        {
          "output_type": "stream",
          "name": "stdout",
          "text": [
            "[[ 1.00000000e+00  0.00000000e+00]\n",
            " [-2.22044605e-16  1.00000000e+00]]\n",
            "[[1. 0.]\n",
            " [0. 1.]]\n"
          ]
        }
      ]
    }
  ]
}